{
 "cells": [
  {
   "cell_type": "markdown",
   "metadata": {},
   "source": [
    "## <center> Exploratory Data Analysis (EDA) </center>"
   ]
  },
  {
   "cell_type": "code",
   "execution_count": 82,
   "metadata": {},
   "outputs": [],
   "source": [
    "import pandas as pd\n",
    "import numpy as np\n",
    "import pandas as pd\n",
    "from datetime import datetime\n",
    "\n",
    "import seaborn as sns\n",
    "import matplotlib.pyplot as plt"
   ]
  },
  {
   "cell_type": "code",
   "execution_count": 83,
   "metadata": {},
   "outputs": [],
   "source": [
    "%run 00_lib_sqlwriter.ipynb"
   ]
  },
  {
   "cell_type": "markdown",
   "metadata": {},
   "source": [
    "### Load data"
   ]
  },
  {
   "cell_type": "code",
   "execution_count": 84,
   "metadata": {},
   "outputs": [],
   "source": [
    "archives_df = pd.read_csv('data/archives.csv')\n",
    "articles_df = pd.read_csv('data/articles.csv')"
   ]
  },
  {
   "cell_type": "code",
   "execution_count": 85,
   "metadata": {},
   "outputs": [
    {
     "name": "stdout",
     "output_type": "stream",
     "text": [
      "Archives: 351 volumes\n",
      "Articles: 2665\n"
     ]
    }
   ],
   "source": [
    "row_archive, column_archive = archives_df.shape\n",
    "row_article, column_article = articles_df.shape\n",
    "\n",
    "print (f\"Archives: {row_archive} volumes\")\n",
    "print (f\"Articles: {row_article}\")"
   ]
  },
  {
   "cell_type": "code",
   "execution_count": 86,
   "metadata": {},
   "outputs": [
    {
     "data": {
      "text/html": [
       "<div>\n",
       "<style scoped>\n",
       "    .dataframe tbody tr th:only-of-type {\n",
       "        vertical-align: middle;\n",
       "    }\n",
       "\n",
       "    .dataframe tbody tr th {\n",
       "        vertical-align: top;\n",
       "    }\n",
       "\n",
       "    .dataframe thead th {\n",
       "        text-align: right;\n",
       "    }\n",
       "</style>\n",
       "<table border=\"1\" class=\"dataframe\">\n",
       "  <thead>\n",
       "    <tr style=\"text-align: right;\">\n",
       "      <th></th>\n",
       "      <th>article_url</th>\n",
       "      <th>title</th>\n",
       "      <th>doi</th>\n",
       "      <th>publication_date</th>\n",
       "      <th>author</th>\n",
       "      <th>abstract</th>\n",
       "      <th>archive_url</th>\n",
       "      <th>import_date</th>\n",
       "      <th>year</th>\n",
       "    </tr>\n",
       "  </thead>\n",
       "  <tbody>\n",
       "    <tr>\n",
       "      <th>0</th>\n",
       "      <td>https://firstmonday.org/ojs/index.php/fm/artic...</td>\n",
       "      <td>First Monday Interviews: James O'Donnell and G...</td>\n",
       "      <td>https://doi.org/10.5210/fm.v4i1.640</td>\n",
       "      <td>1999-01-04</td>\n",
       "      <td>Alex Soojung-Kim Pang</td>\n",
       "      <td>None available.</td>\n",
       "      <td>https://firstmonday.org/ojs/index.php/fm/issue...</td>\n",
       "      <td>2025-01-21 14:23:58</td>\n",
       "      <td>1999</td>\n",
       "    </tr>\n",
       "    <tr>\n",
       "      <th>1</th>\n",
       "      <td>https://firstmonday.org/ojs/index.php/fm/artic...</td>\n",
       "      <td>Beyond portals and gifts: Towards a bottom-up ...</td>\n",
       "      <td>https://doi.org/10.5210/fm.v4i1.639</td>\n",
       "      <td>1999-01-04</td>\n",
       "      <td>Felix Stalder</td>\n",
       "      <td>The Internet is haunted by its own promise: t...</td>\n",
       "      <td>https://firstmonday.org/ojs/index.php/fm/issue...</td>\n",
       "      <td>2025-01-21 14:23:55</td>\n",
       "      <td>1999</td>\n",
       "    </tr>\n",
       "    <tr>\n",
       "      <th>2</th>\n",
       "      <td>https://firstmonday.org/ojs/index.php/fm/artic...</td>\n",
       "      <td>Consumer power via the Internet</td>\n",
       "      <td>https://doi.org/10.5210/fm.v4i1.638</td>\n",
       "      <td>1999-01-04</td>\n",
       "      <td>Trond Andresen</td>\n",
       "      <td>Recently, there has been plenty of upbeat rep...</td>\n",
       "      <td>https://firstmonday.org/ojs/index.php/fm/issue...</td>\n",
       "      <td>2025-01-21 14:23:53</td>\n",
       "      <td>1999</td>\n",
       "    </tr>\n",
       "    <tr>\n",
       "      <th>3</th>\n",
       "      <td>https://firstmonday.org/ojs/index.php/fm/artic...</td>\n",
       "      <td>The Internet cultural phenomenon: A bonafide c...</td>\n",
       "      <td>https://doi.org/10.5210/fm.v4i1.637</td>\n",
       "      <td>1999-01-04</td>\n",
       "      <td>Toufic Hakim</td>\n",
       "      <td>Beyond the use of its resources as a research...</td>\n",
       "      <td>https://firstmonday.org/ojs/index.php/fm/issue...</td>\n",
       "      <td>2025-01-21 14:23:50</td>\n",
       "      <td>1999</td>\n",
       "    </tr>\n",
       "    <tr>\n",
       "      <th>4</th>\n",
       "      <td>https://firstmonday.org/ojs/index.php/fm/artic...</td>\n",
       "      <td>Internet in America's Schools: Potential catal...</td>\n",
       "      <td>https://doi.org/10.5210/fm.v4i1.636</td>\n",
       "      <td>1999-01-04</td>\n",
       "      <td>Joseph Slowinski</td>\n",
       "      <td>As societies move toward the new millennium, ...</td>\n",
       "      <td>https://firstmonday.org/ojs/index.php/fm/issue...</td>\n",
       "      <td>2025-01-21 14:23:47</td>\n",
       "      <td>1999</td>\n",
       "    </tr>\n",
       "  </tbody>\n",
       "</table>\n",
       "</div>"
      ],
      "text/plain": [
       "                                         article_url  \\\n",
       "0  https://firstmonday.org/ojs/index.php/fm/artic...   \n",
       "1  https://firstmonday.org/ojs/index.php/fm/artic...   \n",
       "2  https://firstmonday.org/ojs/index.php/fm/artic...   \n",
       "3  https://firstmonday.org/ojs/index.php/fm/artic...   \n",
       "4  https://firstmonday.org/ojs/index.php/fm/artic...   \n",
       "\n",
       "                                               title  \\\n",
       "0  First Monday Interviews: James O'Donnell and G...   \n",
       "1  Beyond portals and gifts: Towards a bottom-up ...   \n",
       "2                    Consumer power via the Internet   \n",
       "3  The Internet cultural phenomenon: A bonafide c...   \n",
       "4  Internet in America's Schools: Potential catal...   \n",
       "\n",
       "                                   doi publication_date  \\\n",
       "0  https://doi.org/10.5210/fm.v4i1.640       1999-01-04   \n",
       "1  https://doi.org/10.5210/fm.v4i1.639       1999-01-04   \n",
       "2  https://doi.org/10.5210/fm.v4i1.638       1999-01-04   \n",
       "3  https://doi.org/10.5210/fm.v4i1.637       1999-01-04   \n",
       "4  https://doi.org/10.5210/fm.v4i1.636       1999-01-04   \n",
       "\n",
       "                  author                                           abstract  \\\n",
       "0  Alex Soojung-Kim Pang                                    None available.   \n",
       "1          Felix Stalder   The Internet is haunted by its own promise: t...   \n",
       "2         Trond Andresen   Recently, there has been plenty of upbeat rep...   \n",
       "3           Toufic Hakim   Beyond the use of its resources as a research...   \n",
       "4       Joseph Slowinski   As societies move toward the new millennium, ...   \n",
       "\n",
       "                                         archive_url          import_date  \\\n",
       "0  https://firstmonday.org/ojs/index.php/fm/issue...  2025-01-21 14:23:58   \n",
       "1  https://firstmonday.org/ojs/index.php/fm/issue...  2025-01-21 14:23:55   \n",
       "2  https://firstmonday.org/ojs/index.php/fm/issue...  2025-01-21 14:23:53   \n",
       "3  https://firstmonday.org/ojs/index.php/fm/issue...  2025-01-21 14:23:50   \n",
       "4  https://firstmonday.org/ojs/index.php/fm/issue...  2025-01-21 14:23:47   \n",
       "\n",
       "   year  \n",
       "0  1999  \n",
       "1  1999  \n",
       "2  1999  \n",
       "3  1999  \n",
       "4  1999  "
      ]
     },
     "execution_count": 86,
     "metadata": {},
     "output_type": "execute_result"
    }
   ],
   "source": [
    "# Convert 'publication_date' column to datetime\n",
    "articles_df['publication_date'] = pd.to_datetime(articles_df['publication_date'])\n",
    "\n",
    "# Create a new column 'year' based on the year of 'publication_date'\n",
    "articles_df['year'] = articles_df['publication_date'].dt.year\n",
    "\n",
    "articles_df.head(5)\n"
   ]
  },
  {
   "cell_type": "markdown",
   "metadata": {},
   "source": [
    "Distribution of Articles Over Time"
   ]
  },
  {
   "cell_type": "code",
   "execution_count": 95,
   "metadata": {},
   "outputs": [
    {
     "data": {
      "image/png": "[encoded data removed]",
      "text/plain": [
       "<Figure size 800x400 with 1 Axes>"
      ]
     },
     "metadata": {},
     "output_type": "display_data"
    }
   ],
   "source": [
    "# Plotting posts over time\n",
    "filtered_articles_df = articles_df[articles_df['year'] != 1900]\n",
    "\n",
    "plt.figure(figsize=(8, 4))\n",
    "sns.histplot(filtered_articles_df['publication_date'], bins=30, kde=True)\n",
    "plt.title('Distribution of Articles Over Time')\n",
    "plt.xlabel('Publish Year')\n",
    "plt.ylabel('Number of Articles')\n",
    "plt.xticks(rotation=45)\n",
    "plt.show()"
   ]
  }
 ],
 "metadata": {
  "kernelspec": {
   "display_name": "base",
   "language": "python",
   "name": "python3"
  },
  "language_info": {
   "codemirror_mode": {
    "name": "ipython",
    "version": 3
   },
   "file_extension": ".py",
   "mimetype": "text/x-python",
   "name": "python",
   "nbconvert_exporter": "python",
   "pygments_lexer": "ipython3",
   "version": "3.11.4"
  }
 },
 "nbformat": 4,
 "nbformat_minor": 2
}
