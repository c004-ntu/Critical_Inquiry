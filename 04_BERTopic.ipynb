{
 "cells": [
  {
   "cell_type": "markdown",
   "metadata": {},
   "source": [
    "## <center>Topic Modelling with BERTopic</center>"
   ]
  },
  {
   "cell_type": "code",
   "execution_count": 1,
   "metadata": {},
   "outputs": [
    {
     "name": "stderr",
     "output_type": "stream",
     "text": [
      "c:\\Users\\ad1328\\AppData\\Local\\miniconda3\\Lib\\site-packages\\tqdm\\auto.py:21: TqdmWarning: IProgress not found. Please update jupyter and ipywidgets. See https://ipywidgets.readthedocs.io/en/stable/user_install.html\n",
      "  from .autonotebook import tqdm as notebook_tqdm\n"
     ]
    }
   ],
   "source": [
    "import pandas as pd\n",
    "import numpy as np\n",
    "import pandas as pd\n",
    "import matplotlib.pyplot as plt\n",
    "from bertopic import BERTopic\n",
    "import re\n",
    "import nltk\n",
    "from nltk.corpus import stopwords\n",
    "from nltk.stem import WordNetLemmatizer\n",
    "from sentence_transformers import SentenceTransformer\n",
    "from sklearn.feature_extraction.text import TfidfVectorizer"
   ]
  },
  {
   "cell_type": "markdown",
   "metadata": {},
   "source": [
    "### Load data"
   ]
  },
  {
   "cell_type": "code",
   "execution_count": 2,
   "metadata": {},
   "outputs": [],
   "source": [
    "archives_df = pd.read_csv('data/archives.csv')\n",
    "articles_df = pd.read_csv('data/articles.csv')"
   ]
  },
  {
   "cell_type": "code",
   "execution_count": 3,
   "metadata": {},
   "outputs": [
    {
     "name": "stdout",
     "output_type": "stream",
     "text": [
      "Archives: 351 volumes\n",
      "Articles: 2665\n"
     ]
    },
    {
     "data": {
      "text/html": [
       "<div>\n",
       "<style scoped>\n",
       "    .dataframe tbody tr th:only-of-type {\n",
       "        vertical-align: middle;\n",
       "    }\n",
       "\n",
       "    .dataframe tbody tr th {\n",
       "        vertical-align: top;\n",
       "    }\n",
       "\n",
       "    .dataframe thead th {\n",
       "        text-align: right;\n",
       "    }\n",
       "</style>\n",
       "<table border=\"1\" class=\"dataframe\">\n",
       "  <thead>\n",
       "    <tr style=\"text-align: right;\">\n",
       "      <th></th>\n",
       "      <th>article_url</th>\n",
       "      <th>title</th>\n",
       "      <th>doi</th>\n",
       "      <th>publication_date</th>\n",
       "      <th>author</th>\n",
       "      <th>abstract</th>\n",
       "      <th>archive_url</th>\n",
       "      <th>import_date</th>\n",
       "    </tr>\n",
       "  </thead>\n",
       "  <tbody>\n",
       "    <tr>\n",
       "      <th>0</th>\n",
       "      <td>https://firstmonday.org/ojs/index.php/fm/artic...</td>\n",
       "      <td>Beyond portals and gifts: Towards a bottom-up ...</td>\n",
       "      <td>https://doi.org/10.5210/fm.v4i1.639</td>\n",
       "      <td>1999-01-04</td>\n",
       "      <td>Felix Stalder</td>\n",
       "      <td>The Internet is haunted by its own promise: t...</td>\n",
       "      <td>https://firstmonday.org/ojs/index.php/fm/issue...</td>\n",
       "      <td>2025-01-22 17:08:44</td>\n",
       "    </tr>\n",
       "  </tbody>\n",
       "</table>\n",
       "</div>"
      ],
      "text/plain": [
       "                                         article_url  \\\n",
       "0  https://firstmonday.org/ojs/index.php/fm/artic...   \n",
       "\n",
       "                                               title  \\\n",
       "0  Beyond portals and gifts: Towards a bottom-up ...   \n",
       "\n",
       "                                   doi publication_date         author  \\\n",
       "0  https://doi.org/10.5210/fm.v4i1.639       1999-01-04  Felix Stalder   \n",
       "\n",
       "                                            abstract  \\\n",
       "0   The Internet is haunted by its own promise: t...   \n",
       "\n",
       "                                         archive_url          import_date  \n",
       "0  https://firstmonday.org/ojs/index.php/fm/issue...  2025-01-22 17:08:44  "
      ]
     },
     "metadata": {},
     "output_type": "display_data"
    },
    {
     "name": "stdout",
     "output_type": "stream",
     "text": [
      "Rows count with abstract value = NaN: (1293, 9)\n"
     ]
    },
    {
     "data": {
      "text/html": [
       "<div>\n",
       "<style scoped>\n",
       "    .dataframe tbody tr th:only-of-type {\n",
       "        vertical-align: middle;\n",
       "    }\n",
       "\n",
       "    .dataframe tbody tr th {\n",
       "        vertical-align: top;\n",
       "    }\n",
       "\n",
       "    .dataframe thead th {\n",
       "        text-align: right;\n",
       "    }\n",
       "</style>\n",
       "<table border=\"1\" class=\"dataframe\">\n",
       "  <thead>\n",
       "    <tr style=\"text-align: right;\">\n",
       "      <th></th>\n",
       "      <th>article_url</th>\n",
       "      <th>title</th>\n",
       "      <th>doi</th>\n",
       "      <th>publication_date</th>\n",
       "      <th>author</th>\n",
       "      <th>abstract</th>\n",
       "      <th>archive_url</th>\n",
       "      <th>import_date</th>\n",
       "      <th>abstract_feature</th>\n",
       "    </tr>\n",
       "  </thead>\n",
       "  <tbody>\n",
       "    <tr>\n",
       "      <th>277</th>\n",
       "      <td>https://firstmonday.org/ojs/index.php/fm/artic...</td>\n",
       "      <td>NaN</td>\n",
       "      <td>NaN</td>\n",
       "      <td>1900-01-01</td>\n",
       "      <td>NaN</td>\n",
       "      <td>NaN</td>\n",
       "      <td>https://firstmonday.org/ojs/index.php/fm/issue...</td>\n",
       "      <td>2025-01-22 09:55:14</td>\n",
       "      <td>NaN</td>\n",
       "    </tr>\n",
       "    <tr>\n",
       "      <th>310</th>\n",
       "      <td>https://firstmonday.org/ojs/index.php/fm/artic...</td>\n",
       "      <td>NaN</td>\n",
       "      <td>NaN</td>\n",
       "      <td>1900-01-01</td>\n",
       "      <td>NaN</td>\n",
       "      <td>NaN</td>\n",
       "      <td>https://firstmonday.org/ojs/index.php/fm/issue...</td>\n",
       "      <td>2025-01-22 09:55:24</td>\n",
       "      <td>NaN</td>\n",
       "    </tr>\n",
       "    <tr>\n",
       "      <th>511</th>\n",
       "      <td>https://firstmonday.org/ojs/index.php/fm/artic...</td>\n",
       "      <td>FM Interviews: McKenzie Wark</td>\n",
       "      <td>https://doi.org/10.5210/fm.v9i12.1199</td>\n",
       "      <td>2004-12-06</td>\n",
       "      <td>Edward Valauskas</td>\n",
       "      <td>NaN</td>\n",
       "      <td>https://firstmonday.org/ojs/index.php/fm/issue...</td>\n",
       "      <td>2025-01-22 20:14:19</td>\n",
       "      <td>NaN</td>\n",
       "    </tr>\n",
       "    <tr>\n",
       "      <th>616</th>\n",
       "      <td>https://firstmonday.org/ojs/index.php/fm/artic...</td>\n",
       "      <td>Dispute resolution without borders: Some impli...</td>\n",
       "      <td>https://doi.org/10.5210/fm.v11i2.1313</td>\n",
       "      <td>2006-02-06</td>\n",
       "      <td>Ethan Katsh</td>\n",
       "      <td>NaN</td>\n",
       "      <td>https://firstmonday.org/ojs/index.php/fm/issue...</td>\n",
       "      <td>2025-01-22 20:16:08</td>\n",
       "      <td>NaN</td>\n",
       "    </tr>\n",
       "    <tr>\n",
       "      <th>861</th>\n",
       "      <td>https://firstmonday.org/ojs/index.php/fm/artic...</td>\n",
       "      <td>NaN</td>\n",
       "      <td>NaN</td>\n",
       "      <td>1900-01-01</td>\n",
       "      <td>NaN</td>\n",
       "      <td>NaN</td>\n",
       "      <td>https://firstmonday.org/ojs/index.php/fm/issue...</td>\n",
       "      <td>2025-01-22 09:58:36</td>\n",
       "      <td>NaN</td>\n",
       "    </tr>\n",
       "  </tbody>\n",
       "</table>\n",
       "</div>"
      ],
      "text/plain": [
       "                                           article_url  \\\n",
       "277  https://firstmonday.org/ojs/index.php/fm/artic...   \n",
       "310  https://firstmonday.org/ojs/index.php/fm/artic...   \n",
       "511  https://firstmonday.org/ojs/index.php/fm/artic...   \n",
       "616  https://firstmonday.org/ojs/index.php/fm/artic...   \n",
       "861  https://firstmonday.org/ojs/index.php/fm/artic...   \n",
       "\n",
       "                                                 title  \\\n",
       "277                                                NaN   \n",
       "310                                                NaN   \n",
       "511                       FM Interviews: McKenzie Wark   \n",
       "616  Dispute resolution without borders: Some impli...   \n",
       "861                                                NaN   \n",
       "\n",
       "                                       doi publication_date            author  \\\n",
       "277                                    NaN       1900-01-01               NaN   \n",
       "310                                    NaN       1900-01-01               NaN   \n",
       "511  https://doi.org/10.5210/fm.v9i12.1199       2004-12-06  Edward Valauskas   \n",
       "616  https://doi.org/10.5210/fm.v11i2.1313       2006-02-06       Ethan Katsh   \n",
       "861                                    NaN       1900-01-01               NaN   \n",
       "\n",
       "    abstract                                        archive_url  \\\n",
       "277      NaN  https://firstmonday.org/ojs/index.php/fm/issue...   \n",
       "310      NaN  https://firstmonday.org/ojs/index.php/fm/issue...   \n",
       "511      NaN  https://firstmonday.org/ojs/index.php/fm/issue...   \n",
       "616      NaN  https://firstmonday.org/ojs/index.php/fm/issue...   \n",
       "861      NaN  https://firstmonday.org/ojs/index.php/fm/issue...   \n",
       "\n",
       "             import_date abstract_feature  \n",
       "277  2025-01-22 09:55:14              NaN  \n",
       "310  2025-01-22 09:55:24              NaN  \n",
       "511  2025-01-22 20:14:19              NaN  \n",
       "616  2025-01-22 20:16:08              NaN  \n",
       "861  2025-01-22 09:58:36              NaN  "
      ]
     },
     "metadata": {},
     "output_type": "display_data"
    },
    {
     "data": {
      "text/html": [
       "<div>\n",
       "<style scoped>\n",
       "    .dataframe tbody tr th:only-of-type {\n",
       "        vertical-align: middle;\n",
       "    }\n",
       "\n",
       "    .dataframe tbody tr th {\n",
       "        vertical-align: top;\n",
       "    }\n",
       "\n",
       "    .dataframe thead th {\n",
       "        text-align: right;\n",
       "    }\n",
       "</style>\n",
       "<table border=\"1\" class=\"dataframe\">\n",
       "  <thead>\n",
       "    <tr style=\"text-align: right;\">\n",
       "      <th></th>\n",
       "      <th>article_url</th>\n",
       "      <th>abstract</th>\n",
       "    </tr>\n",
       "  </thead>\n",
       "  <tbody>\n",
       "    <tr>\n",
       "      <th>1</th>\n",
       "      <td>https://firstmonday.org/ojs/index.php/fm/article/view/640</td>\n",
       "      <td>None available.</td>\n",
       "    </tr>\n",
       "    <tr>\n",
       "      <th>9</th>\n",
       "      <td>https://firstmonday.org/ojs/index.php/fm/article/view/652</td>\n",
       "      <td>None available.</td>\n",
       "    </tr>\n",
       "    <tr>\n",
       "      <th>10</th>\n",
       "      <td>https://firstmonday.org/ojs/index.php/fm/article/view/651</td>\n",
       "      <td>None available.</td>\n",
       "    </tr>\n",
       "    <tr>\n",
       "      <th>11</th>\n",
       "      <td>https://firstmonday.org/ojs/index.php/fm/article/view/657</td>\n",
       "      <td>None available.</td>\n",
       "    </tr>\n",
       "    <tr>\n",
       "      <th>19</th>\n",
       "      <td>https://firstmonday.org/ojs/index.php/fm/article/view/662</td>\n",
       "      <td>None available.</td>\n",
       "    </tr>\n",
       "    <tr>\n",
       "      <th>...</th>\n",
       "      <td>...</td>\n",
       "      <td>...</td>\n",
       "    </tr>\n",
       "    <tr>\n",
       "      <th>853</th>\n",
       "      <td>https://firstmonday.org/ojs/index.php/fm/article/view/1923</td>\n",
       "      <td>None Available</td>\n",
       "    </tr>\n",
       "    <tr>\n",
       "      <th>855</th>\n",
       "      <td>https://firstmonday.org/ojs/index.php/fm/article/view/1925</td>\n",
       "      <td>None Available</td>\n",
       "    </tr>\n",
       "    <tr>\n",
       "      <th>858</th>\n",
       "      <td>https://firstmonday.org/ojs/index.php/fm/article/view/1921</td>\n",
       "      <td>None Available</td>\n",
       "    </tr>\n",
       "    <tr>\n",
       "      <th>878</th>\n",
       "      <td>https://firstmonday.org/ojs/index.php/fm/article/view/1953</td>\n",
       "      <td>None Available</td>\n",
       "    </tr>\n",
       "    <tr>\n",
       "      <th>920</th>\n",
       "      <td>https://firstmonday.org/ojs/index.php/fm/article/view/1774</td>\n",
       "      <td>None Available</td>\n",
       "    </tr>\n",
       "  </tbody>\n",
       "</table>\n",
       "<p>141 rows × 2 columns</p>\n",
       "</div>"
      ],
      "text/plain": [
       "                                                    article_url  \\\n",
       "1     https://firstmonday.org/ojs/index.php/fm/article/view/640   \n",
       "9     https://firstmonday.org/ojs/index.php/fm/article/view/652   \n",
       "10    https://firstmonday.org/ojs/index.php/fm/article/view/651   \n",
       "11    https://firstmonday.org/ojs/index.php/fm/article/view/657   \n",
       "19    https://firstmonday.org/ojs/index.php/fm/article/view/662   \n",
       "..                                                          ...   \n",
       "853  https://firstmonday.org/ojs/index.php/fm/article/view/1923   \n",
       "855  https://firstmonday.org/ojs/index.php/fm/article/view/1925   \n",
       "858  https://firstmonday.org/ojs/index.php/fm/article/view/1921   \n",
       "878  https://firstmonday.org/ojs/index.php/fm/article/view/1953   \n",
       "920  https://firstmonday.org/ojs/index.php/fm/article/view/1774   \n",
       "\n",
       "             abstract  \n",
       "1     None available.  \n",
       "9     None available.  \n",
       "10    None available.  \n",
       "11    None available.  \n",
       "19    None available.  \n",
       "..                ...  \n",
       "853    None Available  \n",
       "855    None Available  \n",
       "858    None Available  \n",
       "878    None Available  \n",
       "920    None Available  \n",
       "\n",
       "[141 rows x 2 columns]"
      ]
     },
     "metadata": {},
     "output_type": "display_data"
    },
    {
     "name": "stdout",
     "output_type": "stream",
     "text": [
      "Rows count with abstract value = none available: (141, 9)\n"
     ]
    },
    {
     "data": {
      "text/html": [
       "<div>\n",
       "<style scoped>\n",
       "    .dataframe tbody tr th:only-of-type {\n",
       "        vertical-align: middle;\n",
       "    }\n",
       "\n",
       "    .dataframe tbody tr th {\n",
       "        vertical-align: top;\n",
       "    }\n",
       "\n",
       "    .dataframe thead th {\n",
       "        text-align: right;\n",
       "    }\n",
       "</style>\n",
       "<table border=\"1\" class=\"dataframe\">\n",
       "  <thead>\n",
       "    <tr style=\"text-align: right;\">\n",
       "      <th></th>\n",
       "      <th>article_url</th>\n",
       "      <th>title</th>\n",
       "      <th>doi</th>\n",
       "      <th>publication_date</th>\n",
       "      <th>author</th>\n",
       "      <th>abstract</th>\n",
       "      <th>archive_url</th>\n",
       "      <th>import_date</th>\n",
       "      <th>abstract_feature</th>\n",
       "    </tr>\n",
       "  </thead>\n",
       "  <tbody>\n",
       "    <tr>\n",
       "      <th>0</th>\n",
       "      <td>https://firstmonday.org/ojs/index.php/fm/article/view/639</td>\n",
       "      <td>Beyond portals and gifts: Towards a bottom-up net-economy</td>\n",
       "      <td>https://doi.org/10.5210/fm.v4i1.639</td>\n",
       "      <td>1999-01-04</td>\n",
       "      <td>Felix Stalder</td>\n",
       "      <td>The Internet is haunted by its own promise: the liberation of information. Typically, this promise is a strange hybrid of 60's progressive libertarianism and 90's aggressive venture capitalism. The slogan \"information wants to be free\" still shapes the dynamics of on-line content consumption and production. The results: America Online and Netscape merge and the high-tech gift economy flourishes.</td>\n",
       "      <td>https://firstmonday.org/ojs/index.php/fm/issue/view/100</td>\n",
       "      <td>2025-01-22 17:08:44</td>\n",
       "      <td>the internet is haunted by its own promise: the liberation of information. typically, this promise is a strange hybrid of 60's progressive libertarianism and 90's aggressive venture capitalism. the slogan \"information wants to be free\" still shapes the dynamics of on-line content consumption and production. the results: america online and netscape merge and the high-tech gift economy flourishes.</td>\n",
       "    </tr>\n",
       "  </tbody>\n",
       "</table>\n",
       "</div>"
      ],
      "text/plain": [
       "                                                 article_url  \\\n",
       "0  https://firstmonday.org/ojs/index.php/fm/article/view/639   \n",
       "\n",
       "                                                       title  \\\n",
       "0  Beyond portals and gifts: Towards a bottom-up net-economy   \n",
       "\n",
       "                                   doi publication_date         author  \\\n",
       "0  https://doi.org/10.5210/fm.v4i1.639       1999-01-04  Felix Stalder   \n",
       "\n",
       "                                                                                                                                                                                                                                                                                                                                                                                                          abstract  \\\n",
       "0   The Internet is haunted by its own promise: the liberation of information. Typically, this promise is a strange hybrid of 60's progressive libertarianism and 90's aggressive venture capitalism. The slogan \"information wants to be free\" still shapes the dynamics of on-line content consumption and production. The results: America Online and Netscape merge and the high-tech gift economy flourishes.   \n",
       "\n",
       "                                               archive_url  \\\n",
       "0  https://firstmonday.org/ojs/index.php/fm/issue/view/100   \n",
       "\n",
       "           import_date  \\\n",
       "0  2025-01-22 17:08:44   \n",
       "\n",
       "                                                                                                                                                                                                                                                                                                                                                                                                  abstract_feature  \n",
       "0   the internet is haunted by its own promise: the liberation of information. typically, this promise is a strange hybrid of 60's progressive libertarianism and 90's aggressive venture capitalism. the slogan \"information wants to be free\" still shapes the dynamics of on-line content consumption and production. the results: america online and netscape merge and the high-tech gift economy flourishes.  "
      ]
     },
     "metadata": {},
     "output_type": "display_data"
    },
    {
     "name": "stdout",
     "output_type": "stream",
     "text": [
      "(1231, 9)\n"
     ]
    }
   ],
   "source": [
    "# Check the shape of the dataframes\n",
    "row_archive, column_archive = archives_df.shape\n",
    "row_article, column_article = articles_df.shape\n",
    "\n",
    "print(f\"Archives: {row_archive} volumes\")\n",
    "print(f\"Articles: {row_article}\")\n",
    "\n",
    "# Display the first row of articles_df\n",
    "display(articles_df.head(1))\n",
    "\n",
    "# Make a copy of the 'abstract' column to 'abstract_feature' and convert to lowercase\n",
    "articles_df[\"abstract_feature\"] = articles_df[\"abstract\"].str.lower()\n",
    "\n",
    "# Print sample rows with NaN values in 'abstract_feature'\n",
    "na_df = articles_df[articles_df['abstract_feature'].isnull()]\n",
    "print(f'Rows count with abstract value = NaN: {na_df.shape}')\n",
    "display(na_df.head(5))\n",
    "\n",
    "# Remove rows with NaN values in 'abstract_feature'\n",
    "articles_df = articles_df.dropna(subset=['abstract_feature'])\n",
    "\n",
    "# Create a new dataframe where 'abstract_feature' contains \"none available\"\n",
    "none_available_df = articles_df[articles_df['abstract_feature'].str.contains(\"none available\")]\n",
    "\n",
    "# Ensure the display is not truncated\n",
    "pd.set_option('display.max_colwidth', None)\n",
    "\n",
    "# Show only 'article_url' and 'abstract' columns\n",
    "display(none_available_df[[\"article_url\", \"abstract\"]])\n",
    "print(f'Rows count with abstract value = none available: {none_available_df.shape}')\n",
    "\n",
    "# Remove rows where the abstract text contains \"none available\"\n",
    "articles_df = articles_df[articles_df['abstract_feature'].str.contains(\"none available\") == False]\n",
    "\n",
    "# Display the first row of the cleaned dataframe\n",
    "display(articles_df.head(1))\n",
    "print(articles_df.shape)\n"
   ]
  },
  {
   "cell_type": "code",
   "execution_count": 4,
   "metadata": {},
   "outputs": [
    {
     "data": {
      "image/png": "[encoded data removed]",
      "text/plain": [
       "<Figure size 640x480 with 1 Axes>"
      ]
     },
     "metadata": {},
     "output_type": "display_data"
    }
   ],
   "source": [
    "\n",
    "\n",
    "# create new column 'abstract_length' from abstract_feature which contain count of words in abstract\n",
    "articles_df['abstract_length'] = articles_df['abstract_feature'].str.split().str.len()\n",
    "\n",
    "# display histogram of 'abstract_length'\n",
    "articles_df['abstract_length'].hist(bins=100)\n",
    "plt.show()\n"
   ]
  },
  {
   "cell_type": "code",
   "execution_count": 5,
   "metadata": {},
   "outputs": [
    {
     "data": {
      "image/jpeg": "[encoded data removed]",
      "image/png": "[encoded data removed]",
      "text/plain": [
       "<PIL.Image.Image image mode=RGB size=400x200>"
      ]
     },
     "execution_count": 5,
     "metadata": {},
     "output_type": "execute_result"
    }
   ],
   "source": [
    "# create a word of cloud of the abstract_feature\n",
    "from wordcloud import WordCloud\n",
    "\n",
    "# Join the different processed abstracts together.\n",
    "long_string = ','.join(list(articles_df['abstract_feature'].values))\n",
    "\n",
    "# Create a WordCloud object\n",
    "wordcloud = WordCloud(background_color=\"white\", max_words=5000, contour_width=3, contour_color='steelblue')\n",
    "\n",
    "# Generate a word cloud\n",
    "wordcloud.generate(long_string)\n",
    "\n",
    "# Visualize the word cloud\n",
    "wordcloud.to_image()\n",
    "\n"
   ]
  },
  {
   "cell_type": "code",
   "execution_count": null,
   "metadata": {},
   "outputs": [],
   "source": []
  },
  {
   "cell_type": "code",
   "execution_count": 6,
   "metadata": {},
   "outputs": [
    {
     "name": "stderr",
     "output_type": "stream",
     "text": [
      "[nltk_data] Downloading package stopwords to\n",
      "[nltk_data]     C:\\Users\\ad1328\\AppData\\Roaming\\nltk_data...\n",
      "[nltk_data]   Package stopwords is already up-to-date!\n",
      "[nltk_data] Downloading package wordnet to\n",
      "[nltk_data]     C:\\Users\\ad1328\\AppData\\Roaming\\nltk_data...\n",
      "[nltk_data]   Package wordnet is already up-to-date!\n"
     ]
    },
    {
     "data": {
      "text/html": [
       "<div>\n",
       "<style scoped>\n",
       "    .dataframe tbody tr th:only-of-type {\n",
       "        vertical-align: middle;\n",
       "    }\n",
       "\n",
       "    .dataframe tbody tr th {\n",
       "        vertical-align: top;\n",
       "    }\n",
       "\n",
       "    .dataframe thead th {\n",
       "        text-align: right;\n",
       "    }\n",
       "</style>\n",
       "<table border=\"1\" class=\"dataframe\">\n",
       "  <thead>\n",
       "    <tr style=\"text-align: right;\">\n",
       "      <th></th>\n",
       "      <th>Topic</th>\n",
       "      <th>Count</th>\n",
       "      <th>Name</th>\n",
       "      <th>Representation</th>\n",
       "    </tr>\n",
       "  </thead>\n",
       "  <tbody>\n",
       "    <tr>\n",
       "      <th>0</th>\n",
       "      <td>-1</td>\n",
       "      <td>261</td>\n",
       "      <td>-1_digital_data_user_social</td>\n",
       "      <td>[digital, data, user, social, information, inequality, paper, icts, internet, political]</td>\n",
       "    </tr>\n",
       "    <tr>\n",
       "      <th>1</th>\n",
       "      <td>0</td>\n",
       "      <td>430</td>\n",
       "      <td>0_student_internet_medium_political</td>\n",
       "      <td>[student, internet, medium, political, rural, social, digital, technology, bot, divide]</td>\n",
       "    </tr>\n",
       "    <tr>\n",
       "      <th>2</th>\n",
       "      <td>1</td>\n",
       "      <td>95</td>\n",
       "      <td>1_library_museum_journal_publishing</td>\n",
       "      <td>[library, museum, journal, publishing, scholarly, public library, access, museum library, collection, preservation]</td>\n",
       "    </tr>\n",
       "    <tr>\n",
       "      <th>3</th>\n",
       "      <td>2</td>\n",
       "      <td>76</td>\n",
       "      <td>2_open source_floss_software_source</td>\n",
       "      <td>[open source, floss, software, source, copyright, linux, open, source software, open source software, patent]</td>\n",
       "    </tr>\n",
       "    <tr>\n",
       "      <th>4</th>\n",
       "      <td>3</td>\n",
       "      <td>33</td>\n",
       "      <td>3_pandemic_covid_covid pandemic_health</td>\n",
       "      <td>[pandemic, covid, covid pandemic, health, social, crisis, infodemic, brazilian, exposure, conspiracy]</td>\n",
       "    </tr>\n",
       "    <tr>\n",
       "      <th>5</th>\n",
       "      <td>4</td>\n",
       "      <td>24</td>\n",
       "      <td>4_search_engine_search engine_query</td>\n",
       "      <td>[search, engine, search engine, query, web, page, personalization, web search, personalization feature, usability]</td>\n",
       "    </tr>\n",
       "    <tr>\n",
       "      <th>6</th>\n",
       "      <td>5</td>\n",
       "      <td>21</td>\n",
       "      <td>5_bb ecommerce_bb_business_internet business</td>\n",
       "      <td>[bb ecommerce, bb, business, internet business, ecommerce, consumer, cost, internet business model, internet, business model]</td>\n",
       "    </tr>\n",
       "    <tr>\n",
       "      <th>7</th>\n",
       "      <td>6</td>\n",
       "      <td>19</td>\n",
       "      <td>6_urban_screen_city_space</td>\n",
       "      <td>[urban, screen, city, space, spatial, urban screen, art, public space, anchoring, urban space]</td>\n",
       "    </tr>\n",
       "    <tr>\n",
       "      <th>8</th>\n",
       "      <td>7</td>\n",
       "      <td>17</td>\n",
       "      <td>7_privacy_poll_opinion_security</td>\n",
       "      <td>[privacy, poll, opinion, security, tm, privacy issue, online privacy, opinion poll, recommender system, recommender]</td>\n",
       "    </tr>\n",
       "    <tr>\n",
       "      <th>9</th>\n",
       "      <td>8</td>\n",
       "      <td>16</td>\n",
       "      <td>8_music_music industry_artist_industry</td>\n",
       "      <td>[music, music industry, artist, industry, mobile internet, japan, music internet, digital music, label, mobile]</td>\n",
       "    </tr>\n",
       "    <tr>\n",
       "      <th>10</th>\n",
       "      <td>9</td>\n",
       "      <td>16</td>\n",
       "      <td>9_ai_intelligence_artificial_artificial intelligence</td>\n",
       "      <td>[ai, intelligence, artificial, artificial intelligence, machine, agi, ai ethic, ethic, ai public sector, ai policy]</td>\n",
       "    </tr>\n",
       "    <tr>\n",
       "      <th>11</th>\n",
       "      <td>10</td>\n",
       "      <td>13</td>\n",
       "      <td>10_shame_sexual_sharing_assault</td>\n",
       "      <td>[shame, sexual, sharing, assault, abuse, lgbtq young people, callisto, app use, sexual abuse, image sharing]</td>\n",
       "    </tr>\n",
       "    <tr>\n",
       "      <th>12</th>\n",
       "      <td>11</td>\n",
       "      <td>12</td>\n",
       "      <td>11_russia_russian_ukraine_runet</td>\n",
       "      <td>[russia, russian, ukraine, runet, as, circumvention, sovereignty, telegram, sovereign, russian government]</td>\n",
       "    </tr>\n",
       "    <tr>\n",
       "      <th>13</th>\n",
       "      <td>12</td>\n",
       "      <td>11</td>\n",
       "      <td>12_gifting_gift_tangible_tangible reciprocity</td>\n",
       "      <td>[gifting, gift, tangible, tangible reciprocity, reciprocity, voluntary payment, reward, gift economy, gifting technology, reciprocity also]</td>\n",
       "    </tr>\n",
       "    <tr>\n",
       "      <th>14</th>\n",
       "      <td>13</td>\n",
       "      <td>10</td>\n",
       "      <td>13_available available_available available available_available_none</td>\n",
       "      <td>[available available, available available available, available, none, , , , , , ]</td>\n",
       "    </tr>\n",
       "    <tr>\n",
       "      <th>15</th>\n",
       "      <td>14</td>\n",
       "      <td>9</td>\n",
       "      <td>14_gambling_wellbeing_third place_online gambling</td>\n",
       "      <td>[gambling, wellbeing, third place, online gambling, turkish woman, online review, review, online, gaming, webgrrlsnl]</td>\n",
       "    </tr>\n",
       "    <tr>\n",
       "      <th>16</th>\n",
       "      <td>15</td>\n",
       "      <td>9</td>\n",
       "      <td>15_emoney_bank_epurses_tax</td>\n",
       "      <td>[emoney, bank, epurses, tax, payment, central bank, electronic purse, purse, issuer, taxation]</td>\n",
       "    </tr>\n",
       "    <tr>\n",
       "      <th>17</th>\n",
       "      <td>16</td>\n",
       "      <td>8</td>\n",
       "      <td>16_instagram_online impulse_marketing activity_online impulse buying</td>\n",
       "      <td>[instagram, online impulse, marketing activity, online impulse buying, medium marketing activity, social medium marketing, instagram influencers, impulse buying, impulse, medium marketing]</td>\n",
       "    </tr>\n",
       "    <tr>\n",
       "      <th>18</th>\n",
       "      <td>17</td>\n",
       "      <td>8</td>\n",
       "      <td>17_openness_oer_open_ocw</td>\n",
       "      <td>[openness, oer, open, ocw, open content, educational resource, open educational resource, oer adoption, open educational, sampled ocw]</td>\n",
       "    </tr>\n",
       "    <tr>\n",
       "      <th>19</th>\n",
       "      <td>18</td>\n",
       "      <td>8</td>\n",
       "      <td>18_online news_news_dotcom_model</td>\n",
       "      <td>[online news, news, dotcom, model, trade press, intent develop model, bricksandmortar, comprehensively, concern regard, traditional bricksandmortar]</td>\n",
       "    </tr>\n",
       "    <tr>\n",
       "      <th>20</th>\n",
       "      <td>19</td>\n",
       "      <td>8</td>\n",
       "      <td>19_hiv_sex_hivaids_survivor</td>\n",
       "      <td>[hiv, sex, hivaids, survivor, printout, dph, care, prevention, sex pigging, video essay]</td>\n",
       "    </tr>\n",
       "    <tr>\n",
       "      <th>21</th>\n",
       "      <td>20</td>\n",
       "      <td>7</td>\n",
       "      <td>20_music_imagined network_network community_imagined network community</td>\n",
       "      <td>[music, imagined network, network community, imagined network community, napster, imagined, album, music community, subculture, musical]</td>\n",
       "    </tr>\n",
       "    <tr>\n",
       "      <th>22</th>\n",
       "      <td>21</td>\n",
       "      <td>7</td>\n",
       "      <td>21_world_virtual world_online world_vr</td>\n",
       "      <td>[world, virtual world, online world, vr, mmos, second life, virtual, meta, identity, metaverse]</td>\n",
       "    </tr>\n",
       "    <tr>\n",
       "      <th>23</th>\n",
       "      <td>22</td>\n",
       "      <td>7</td>\n",
       "      <td>22_issue open source_special issue open_issue open_following commentary</td>\n",
       "      <td>[issue open source, special issue open, issue open, following commentary, commentary part, following commentary part, part first monday, commentary part first, part first, open source]</td>\n",
       "    </tr>\n",
       "    <tr>\n",
       "      <th>24</th>\n",
       "      <td>23</td>\n",
       "      <td>7</td>\n",
       "      <td>23_woman_computing_computing industry_gender</td>\n",
       "      <td>[woman, computing, computing industry, gender, computer science, persist, history, computer, history computing, computing history]</td>\n",
       "    </tr>\n",
       "    <tr>\n",
       "      <th>25</th>\n",
       "      <td>24</td>\n",
       "      <td>7</td>\n",
       "      <td>24_disability_accessibility_people disability_web</td>\n",
       "      <td>[disability, accessibility, people disability, web, web accessibility, guideline, web content, wcag, accessibility guideline, accessible]</td>\n",
       "    </tr>\n",
       "    <tr>\n",
       "      <th>26</th>\n",
       "      <td>25</td>\n",
       "      <td>6</td>\n",
       "      <td>25_telecommunication_moroccan_national telecommunication strategy_national telecommunication</td>\n",
       "      <td>[telecommunication, moroccan, national telecommunication strategy, national telecommunication, telecommunication strategy, strategy, globalisation, egovernment esociety, esociety, egovernment]</td>\n",
       "    </tr>\n",
       "    <tr>\n",
       "      <th>27</th>\n",
       "      <td>26</td>\n",
       "      <td>6</td>\n",
       "      <td>26_link_site_web_web site</td>\n",
       "      <td>[link, site, web, web site, internet archive, mhealth, archive, hyperlink, hyperlinked web, hyperlinked]</td>\n",
       "    </tr>\n",
       "    <tr>\n",
       "      <th>28</th>\n",
       "      <td>27</td>\n",
       "      <td>6</td>\n",
       "      <td>27_intention_theory_predictive_smartphone</td>\n",
       "      <td>[intention, theory, predictive, smartphone, predictive power, purchase, plssem, nca, internet television, explanatory predictive power]</td>\n",
       "    </tr>\n",
       "    <tr>\n",
       "      <th>29</th>\n",
       "      <td>28</td>\n",
       "      <td>6</td>\n",
       "      <td>28_wikipedia_edits_research scholarship_wikipedias</td>\n",
       "      <td>[wikipedia, edits, research scholarship, wikipedias, credibility, writing, article, encyclopedia, scholarship, year earlier]</td>\n",
       "    </tr>\n",
       "    <tr>\n",
       "      <th>30</th>\n",
       "      <td>29</td>\n",
       "      <td>6</td>\n",
       "      <td>29_law_access law_national legal_hash function</td>\n",
       "      <td>[law, access law, national legal, hash function, hash, free access, legal, access, developing country, cheaply providing highquality]</td>\n",
       "    </tr>\n",
       "    <tr>\n",
       "      <th>31</th>\n",
       "      <td>30</td>\n",
       "      <td>6</td>\n",
       "      <td>30_article paper included_article paper_regarding article paper_commercial application internet</td>\n",
       "      <td>[article paper included, article paper, regarding article paper, commercial application internet, issue commercial application, special issue commercial, issue commercial, application internet, commercial application, mark fox asked]</td>\n",
       "    </tr>\n",
       "    <tr>\n",
       "      <th>32</th>\n",
       "      <td>31</td>\n",
       "      <td>6</td>\n",
       "      <td>31_video evidence_video_police_evidence</td>\n",
       "      <td>[video evidence, video, police, evidence, officer, interpretation, social medium arena, medium arena, visual, external social medium]</td>\n",
       "    </tr>\n",
       "    <tr>\n",
       "      <th>33</th>\n",
       "      <td>32</td>\n",
       "      <td>5</td>\n",
       "      <td>32_education_partnership_educational_africa</td>\n",
       "      <td>[education, partnership, educational, africa, globalization, area developing world, nettelafrica, ioivu, africa area developing, africa area]</td>\n",
       "    </tr>\n",
       "    <tr>\n",
       "      <th>34</th>\n",
       "      <td>33</td>\n",
       "      <td>5</td>\n",
       "      <td>33_youth_youth activist_civic_civic engagement</td>\n",
       "      <td>[youth, youth activist, civic, civic engagement, young adult, engagement, activist, medium use, adult, digital medium]</td>\n",
       "    </tr>\n",
       "    <tr>\n",
       "      <th>35</th>\n",
       "      <td>34</td>\n",
       "      <td>5</td>\n",
       "      <td>34_herbarium_plant_botanical_natural</td>\n",
       "      <td>[herbarium, plant, botanical, natural, natural history, specimen, taxonomic, garden, specie, database]</td>\n",
       "    </tr>\n",
       "    <tr>\n",
       "      <th>36</th>\n",
       "      <td>35</td>\n",
       "      <td>5</td>\n",
       "      <td>35_childrens_child_social digital medium_social digital</td>\n",
       "      <td>[childrens, child, social digital medium, social digital, caption, parent, consultation, childrens participation, child take, icdl]</td>\n",
       "    </tr>\n",
       "    <tr>\n",
       "      <th>37</th>\n",
       "      <td>36</td>\n",
       "      <td>5</td>\n",
       "      <td>36_disaster_crisis_terrorist attack_emergency</td>\n",
       "      <td>[disaster, crisis, terrorist attack, emergency, attack, terrorist, recovery, implication internet, information, dramatic]</td>\n",
       "    </tr>\n",
       "    <tr>\n",
       "      <th>38</th>\n",
       "      <td>37</td>\n",
       "      <td>5</td>\n",
       "      <td>37_information_information seeking_keeping_seeking</td>\n",
       "      <td>[information, information seeking, keeping, seeking, webtracker, human software, software agent, spending, episode, personal]</td>\n",
       "    </tr>\n",
       "    <tr>\n",
       "      <th>39</th>\n",
       "      <td>38</td>\n",
       "      <td>5</td>\n",
       "      <td>38_game_racism_fifa_realism</td>\n",
       "      <td>[game, racism, fifa, realism, videogames, player, healthcare, workshop, reform, platformed racism]</td>\n",
       "    </tr>\n",
       "    <tr>\n",
       "      <th>40</th>\n",
       "      <td>39</td>\n",
       "      <td>5</td>\n",
       "      <td>39_protest_singapore_twitter_capital punishment</td>\n",
       "      <td>[protest, singapore, twitter, capital punishment, punishment, anticoup, hashtags, coup, civil society organisation, confluence]</td>\n",
       "    </tr>\n",
       "    <tr>\n",
       "      <th>41</th>\n",
       "      <td>40</td>\n",
       "      <td>5</td>\n",
       "      <td>40_subsaharan africa_subsaharan_oa_deposit</td>\n",
       "      <td>[subsaharan africa, subsaharan, oa, deposit, africa, scholarly publishing, scholarly, publishing, open access, africa region]</td>\n",
       "    </tr>\n",
       "    <tr>\n",
       "      <th>42</th>\n",
       "      <td>41</td>\n",
       "      <td>5</td>\n",
       "      <td>41_queer_reading_queer reading_queerly</td>\n",
       "      <td>[queer, reading, queer reading, queerly, gender, fan, male, chan, text, reception]</td>\n",
       "    </tr>\n",
       "  </tbody>\n",
       "</table>\n",
       "</div>"
      ],
      "text/plain": [
       "    Topic  Count  \\\n",
       "0      -1    261   \n",
       "1       0    430   \n",
       "2       1     95   \n",
       "3       2     76   \n",
       "4       3     33   \n",
       "5       4     24   \n",
       "6       5     21   \n",
       "7       6     19   \n",
       "8       7     17   \n",
       "9       8     16   \n",
       "10      9     16   \n",
       "11     10     13   \n",
       "12     11     12   \n",
       "13     12     11   \n",
       "14     13     10   \n",
       "15     14      9   \n",
       "16     15      9   \n",
       "17     16      8   \n",
       "18     17      8   \n",
       "19     18      8   \n",
       "20     19      8   \n",
       "21     20      7   \n",
       "22     21      7   \n",
       "23     22      7   \n",
       "24     23      7   \n",
       "25     24      7   \n",
       "26     25      6   \n",
       "27     26      6   \n",
       "28     27      6   \n",
       "29     28      6   \n",
       "30     29      6   \n",
       "31     30      6   \n",
       "32     31      6   \n",
       "33     32      5   \n",
       "34     33      5   \n",
       "35     34      5   \n",
       "36     35      5   \n",
       "37     36      5   \n",
       "38     37      5   \n",
       "39     38      5   \n",
       "40     39      5   \n",
       "41     40      5   \n",
       "42     41      5   \n",
       "\n",
       "                                                                                               Name  \\\n",
       "0                                                                       -1_digital_data_user_social   \n",
       "1                                                               0_student_internet_medium_political   \n",
       "2                                                               1_library_museum_journal_publishing   \n",
       "3                                                               2_open source_floss_software_source   \n",
       "4                                                            3_pandemic_covid_covid pandemic_health   \n",
       "5                                                               4_search_engine_search engine_query   \n",
       "6                                                      5_bb ecommerce_bb_business_internet business   \n",
       "7                                                                         6_urban_screen_city_space   \n",
       "8                                                                   7_privacy_poll_opinion_security   \n",
       "9                                                            8_music_music industry_artist_industry   \n",
       "10                                             9_ai_intelligence_artificial_artificial intelligence   \n",
       "11                                                                  10_shame_sexual_sharing_assault   \n",
       "12                                                                  11_russia_russian_ukraine_runet   \n",
       "13                                                    12_gifting_gift_tangible_tangible reciprocity   \n",
       "14                              13_available available_available available available_available_none   \n",
       "15                                                14_gambling_wellbeing_third place_online gambling   \n",
       "16                                                                       15_emoney_bank_epurses_tax   \n",
       "17                             16_instagram_online impulse_marketing activity_online impulse buying   \n",
       "18                                                                         17_openness_oer_open_ocw   \n",
       "19                                                                 18_online news_news_dotcom_model   \n",
       "20                                                                      19_hiv_sex_hivaids_survivor   \n",
       "21                           20_music_imagined network_network community_imagined network community   \n",
       "22                                                           21_world_virtual world_online world_vr   \n",
       "23                          22_issue open source_special issue open_issue open_following commentary   \n",
       "24                                                     23_woman_computing_computing industry_gender   \n",
       "25                                                24_disability_accessibility_people disability_web   \n",
       "26     25_telecommunication_moroccan_national telecommunication strategy_national telecommunication   \n",
       "27                                                                        26_link_site_web_web site   \n",
       "28                                                        27_intention_theory_predictive_smartphone   \n",
       "29                                               28_wikipedia_edits_research scholarship_wikipedias   \n",
       "30                                                   29_law_access law_national legal_hash function   \n",
       "31  30_article paper included_article paper_regarding article paper_commercial application internet   \n",
       "32                                                          31_video evidence_video_police_evidence   \n",
       "33                                                      32_education_partnership_educational_africa   \n",
       "34                                                   33_youth_youth activist_civic_civic engagement   \n",
       "35                                                             34_herbarium_plant_botanical_natural   \n",
       "36                                          35_childrens_child_social digital medium_social digital   \n",
       "37                                                    36_disaster_crisis_terrorist attack_emergency   \n",
       "38                                               37_information_information seeking_keeping_seeking   \n",
       "39                                                                      38_game_racism_fifa_realism   \n",
       "40                                                  39_protest_singapore_twitter_capital punishment   \n",
       "41                                                       40_subsaharan africa_subsaharan_oa_deposit   \n",
       "42                                                           41_queer_reading_queer reading_queerly   \n",
       "\n",
       "                                                                                                                                                                                                                               Representation  \n",
       "0                                                                                                                                                    [digital, data, user, social, information, inequality, paper, icts, internet, political]  \n",
       "1                                                                                                                                                     [student, internet, medium, political, rural, social, digital, technology, bot, divide]  \n",
       "2                                                                                                                         [library, museum, journal, publishing, scholarly, public library, access, museum library, collection, preservation]  \n",
       "3                                                                                                                               [open source, floss, software, source, copyright, linux, open, source software, open source software, patent]  \n",
       "4                                                                                                                                       [pandemic, covid, covid pandemic, health, social, crisis, infodemic, brazilian, exposure, conspiracy]  \n",
       "5                                                                                                                          [search, engine, search engine, query, web, page, personalization, web search, personalization feature, usability]  \n",
       "6                                                                                                               [bb ecommerce, bb, business, internet business, ecommerce, consumer, cost, internet business model, internet, business model]  \n",
       "7                                                                                                                                              [urban, screen, city, space, spatial, urban screen, art, public space, anchoring, urban space]  \n",
       "8                                                                                                                        [privacy, poll, opinion, security, tm, privacy issue, online privacy, opinion poll, recommender system, recommender]  \n",
       "9                                                                                                                             [music, music industry, artist, industry, mobile internet, japan, music internet, digital music, label, mobile]  \n",
       "10                                                                                                                        [ai, intelligence, artificial, artificial intelligence, machine, agi, ai ethic, ethic, ai public sector, ai policy]  \n",
       "11                                                                                                                               [shame, sexual, sharing, assault, abuse, lgbtq young people, callisto, app use, sexual abuse, image sharing]  \n",
       "12                                                                                                                                 [russia, russian, ukraine, runet, as, circumvention, sovereignty, telegram, sovereign, russian government]  \n",
       "13                                                                                                [gifting, gift, tangible, tangible reciprocity, reciprocity, voluntary payment, reward, gift economy, gifting technology, reciprocity also]  \n",
       "14                                                                                                                                                          [available available, available available available, available, none, , , , , , ]  \n",
       "15                                                                                                                      [gambling, wellbeing, third place, online gambling, turkish woman, online review, review, online, gaming, webgrrlsnl]  \n",
       "16                                                                                                                                             [emoney, bank, epurses, tax, payment, central bank, electronic purse, purse, issuer, taxation]  \n",
       "17                                               [instagram, online impulse, marketing activity, online impulse buying, medium marketing activity, social medium marketing, instagram influencers, impulse buying, impulse, medium marketing]  \n",
       "18                                                                                                     [openness, oer, open, ocw, open content, educational resource, open educational resource, oer adoption, open educational, sampled ocw]  \n",
       "19                                                                                       [online news, news, dotcom, model, trade press, intent develop model, bricksandmortar, comprehensively, concern regard, traditional bricksandmortar]  \n",
       "20                                                                                                                                                   [hiv, sex, hivaids, survivor, printout, dph, care, prevention, sex pigging, video essay]  \n",
       "21                                                                                                   [music, imagined network, network community, imagined network community, napster, imagined, album, music community, subculture, musical]  \n",
       "22                                                                                                                                            [world, virtual world, online world, vr, mmos, second life, virtual, meta, identity, metaverse]  \n",
       "23                                                   [issue open source, special issue open, issue open, following commentary, commentary part, following commentary part, part first monday, commentary part first, part first, open source]  \n",
       "24                                                                                                         [woman, computing, computing industry, gender, computer science, persist, history, computer, history computing, computing history]  \n",
       "25                                                                                                  [disability, accessibility, people disability, web, web accessibility, guideline, web content, wcag, accessibility guideline, accessible]  \n",
       "26                                           [telecommunication, moroccan, national telecommunication strategy, national telecommunication, telecommunication strategy, strategy, globalisation, egovernment esociety, esociety, egovernment]  \n",
       "27                                                                                                                                   [link, site, web, web site, internet archive, mhealth, archive, hyperlink, hyperlinked web, hyperlinked]  \n",
       "28                                                                                                    [intention, theory, predictive, smartphone, predictive power, purchase, plssem, nca, internet television, explanatory predictive power]  \n",
       "29                                                                                                               [wikipedia, edits, research scholarship, wikipedias, credibility, writing, article, encyclopedia, scholarship, year earlier]  \n",
       "30                                                                                                      [law, access law, national legal, hash function, hash, free access, legal, access, developing country, cheaply providing highquality]  \n",
       "31  [article paper included, article paper, regarding article paper, commercial application internet, issue commercial application, special issue commercial, issue commercial, application internet, commercial application, mark fox asked]  \n",
       "32                                                                                                      [video evidence, video, police, evidence, officer, interpretation, social medium arena, medium arena, visual, external social medium]  \n",
       "33                                                                                              [education, partnership, educational, africa, globalization, area developing world, nettelafrica, ioivu, africa area developing, africa area]  \n",
       "34                                                                                                                     [youth, youth activist, civic, civic engagement, young adult, engagement, activist, medium use, adult, digital medium]  \n",
       "35                                                                                                                                     [herbarium, plant, botanical, natural, natural history, specimen, taxonomic, garden, specie, database]  \n",
       "36                                                                                                        [childrens, child, social digital medium, social digital, caption, parent, consultation, childrens participation, child take, icdl]  \n",
       "37                                                                                                                  [disaster, crisis, terrorist attack, emergency, attack, terrorist, recovery, implication internet, information, dramatic]  \n",
       "38                                                                                                              [information, information seeking, keeping, seeking, webtracker, human software, software agent, spending, episode, personal]  \n",
       "39                                                                                                                                         [game, racism, fifa, realism, videogames, player, healthcare, workshop, reform, platformed racism]  \n",
       "40                                                                                                            [protest, singapore, twitter, capital punishment, punishment, anticoup, hashtags, coup, civil society organisation, confluence]  \n",
       "41                                                                                                              [subsaharan africa, subsaharan, oa, deposit, africa, scholarly publishing, scholarly, publishing, open access, africa region]  \n",
       "42                                                                                                                                                         [queer, reading, queer reading, queerly, gender, fan, male, chan, text, reception]  "
      ]
     },
     "metadata": {},
     "output_type": "display_data"
    }
   ],
   "source": [
    "import re\n",
    "import nltk\n",
    "from nltk.corpus import stopwords\n",
    "from nltk.stem import WordNetLemmatizer\n",
    "from sentence_transformers import SentenceTransformer\n",
    "from sklearn.feature_extraction.text import TfidfVectorizer\n",
    "from bertopic import BERTopic\n",
    "from hdbscan import HDBSCAN\n",
    "\n",
    "# Download stopwords and wordnet\n",
    "nltk.download('stopwords')\n",
    "nltk.download('wordnet')\n",
    "stop_words = set(stopwords.words('english'))\n",
    "lemmatizer = WordNetLemmatizer()\n",
    "\n",
    "def preprocess_text(text):\n",
    "    text = re.sub(r'http\\S+|www\\S+', '', text, flags=re.MULTILINE)  # Remove URLs\n",
    "    text = re.sub(r'[^a-zA-Z\\s]', '', text)                         # Remove non-alpha\n",
    "    text = text.lower()\n",
    "    words = text.split()\n",
    "    words = [w for w in words if w not in stop_words]               # Remove stopwords\n",
    "    words = [lemmatizer.lemmatize(w) for w in words]                # Lemmatize\n",
    "    return ' '.join(words)\n",
    "\n",
    "# Fill NaN and preprocess\n",
    "articles_df['abstract_feature'] = articles_df['abstract_feature'].fillna('')\n",
    "articles_df['abstract_feature'] = articles_df['abstract_feature'].apply(preprocess_text)\n",
    "\n",
    "abstracts = articles_df['abstract_feature'].tolist()\n",
    "\n",
    "\n",
    "# Load the SentenceTransformer model\n",
    "embedding_model = SentenceTransformer(\"all-MiniLM-L6-v2\")\n",
    "\n",
    "# Vectorizer with no built-in stopword removal, since we do it above\n",
    "vectorizer_model = TfidfVectorizer(\n",
    "    stop_words=None,       # Already removed in preprocess\n",
    "    max_features=10000,\n",
    "    ngram_range=(1, 3)\n",
    ")\n",
    "\n",
    "# Customize HDBSCAN for fewer outliers\n",
    "hdbscan_model = HDBSCAN(\n",
    "    min_cluster_size=5,\n",
    "    min_samples=1,\n",
    "    cluster_selection_epsilon=0.0,  # adjust as needed\n",
    "    cluster_selection_method='eom'\n",
    ")\n",
    "\n",
    "topic_model = BERTopic(\n",
    "    embedding_model=embedding_model,\n",
    "    vectorizer_model=vectorizer_model,\n",
    "    hdbscan_model=hdbscan_model,\n",
    "    nr_topics=\"auto\"  # or an integer\n",
    ")\n",
    "\n",
    "topics, probabilities = topic_model.fit_transform(abstracts)\n",
    "\n",
    "topic_df = topic_model.get_topic_info()\n",
    "display(topic_df[[\"Topic\", \"Count\", \"Name\", \"Representation\"]])\n",
    "\n",
    "# If too many small topics exist or you want to reduce total topics further\n",
    "# new_topics, new_probs = topic_model.reduce_topics(abstracts, probabilities, nr_topics=20)\n",
    "# topic_df = topic_model.get_topic_info()\n",
    "# display(topic_df[[\"Topic\", \"Count\", \"Name\", \"Representation\"]])\n"
   ]
  },
  {
   "cell_type": "code",
   "execution_count": 13,
   "metadata": {},
   "outputs": [
    {
     "data": {
      "application/vnd.plotly.v1+json": {
       "config": {
        "plotlyServerURL": "https://plot.ly"
       },
       "data": [
        {
         "customdata": [
          [
           0,
           "student | internet | medium | political | rural",
           430
          ],
          [
           1,
           "library | museum | journal | publishing | scholarly",
           95
          ],
          [
           2,
           "open source | floss | software | source | copyright",
           76
          ],
          [
           3,
           "pandemic | covid | covid pandemic | health | social",
           33
          ],
          [
           4,
           "search | engine | search engine | query | web",
           24
          ],
          [
           5,
           "bb ecommerce | bb | business | internet business | ecommerce",
           21
          ],
          [
           6,
           "urban | screen | city | space | spatial",
           19
          ],
          [
           7,
           "privacy | poll | opinion | security | tm",
           17
          ],
          [
           8,
           "music | music industry | artist | industry | mobile internet",
           16
          ],
          [
           9,
           "ai | intelligence | artificial | artificial intelligence | machine",
           16
          ],
          [
           10,
           "shame | sexual | sharing | assault | abuse",
           13
          ],
          [
           11,
           "russia | russian | ukraine | runet | as",
           12
          ],
          [
           12,
           "gifting | gift | tangible | tangible reciprocity | reciprocity",
           11
          ],
          [
           13,
           "available available | available available available | available | none | ",
           10
          ],
          [
           14,
           "gambling | wellbeing | third place | online gambling | turkish woman",
           9
          ],
          [
           15,
           "emoney | bank | epurses | tax | payment",
           9
          ],
          [
           16,
           "instagram | online impulse | marketing activity | online impulse buying | medium marketing activity",
           8
          ],
          [
           17,
           "openness | oer | open | ocw | open content",
           8
          ],
          [
           18,
           "online news | news | dotcom | model | trade press",
           8
          ],
          [
           19,
           "hiv | sex | hivaids | survivor | printout",
           8
          ],
          [
           20,
           "music | imagined network | network community | imagined network community | napster",
           7
          ],
          [
           21,
           "world | virtual world | online world | vr | mmos",
           7
          ],
          [
           22,
           "issue open source | special issue open | issue open | following commentary | commentary part",
           7
          ],
          [
           23,
           "woman | computing | computing industry | gender | computer science",
           7
          ],
          [
           24,
           "disability | accessibility | people disability | web | web accessibility",
           7
          ],
          [
           25,
           "telecommunication | moroccan | national telecommunication strategy | national telecommunication | telecommunication strategy",
           6
          ],
          [
           26,
           "link | site | web | web site | internet archive",
           6
          ],
          [
           27,
           "intention | theory | predictive | smartphone | predictive power",
           6
          ],
          [
           28,
           "wikipedia | edits | research scholarship | wikipedias | credibility",
           6
          ],
          [
           29,
           "law | access law | national legal | hash function | hash",
           6
          ],
          [
           30,
           "article paper included | article paper | regarding article paper | commercial application internet | issue commercial application",
           6
          ],
          [
           31,
           "video evidence | video | police | evidence | officer",
           6
          ],
          [
           32,
           "education | partnership | educational | africa | globalization",
           5
          ],
          [
           33,
           "youth | youth activist | civic | civic engagement | young adult",
           5
          ],
          [
           34,
           "herbarium | plant | botanical | natural | natural history",
           5
          ],
          [
           35,
           "childrens | child | social digital medium | social digital | caption",
           5
          ],
          [
           36,
           "disaster | crisis | terrorist attack | emergency | attack",
           5
          ],
          [
           37,
           "information | information seeking | keeping | seeking | webtracker",
           5
          ],
          [
           38,
           "game | racism | fifa | realism | videogames",
           5
          ],
          [
           39,
           "protest | singapore | twitter | capital punishment | punishment",
           5
          ],
          [
           40,
           "subsaharan africa | subsaharan | oa | deposit | africa",
           5
          ],
          [
           41,
           "queer | reading | queer reading | queerly | gender",
           5
          ]
         ],
         "hovertemplate": "<b>Topic %{customdata[0]}</b><br>%{customdata[1]}<br>Size: %{customdata[2]}",
         "legendgroup": "",
         "marker": {
          "color": "#B0BEC5",
          "line": {
           "color": "DarkSlateGrey",
           "width": 2
          },
          "size": [
           430,
           95,
           76,
           33,
           24,
           21,
           19,
           17,
           16,
           16,
           13,
           12,
           11,
           10,
           9,
           9,
           8,
           8,
           8,
           8,
           7,
           7,
           7,
           7,
           7,
           6,
           6,
           6,
           6,
           6,
           6,
           6,
           5,
           5,
           5,
           5,
           5,
           5,
           5,
           5,
           5,
           5
          ],
          "sizemode": "area",
          "sizeref": 0.26875,
          "symbol": "circle"
         },
         "mode": "markers",
         "name": "",
         "orientation": "v",
         "showlegend": false,
         "type": "scatter",
         "x": [
          -0.34848013520240784,
          7.176502704620361,
          0.1319938600063324,
          -0.6436731815338135,
          -5.731095790863037,
          9.095293045043945,
          -0.02419281378388405,
          -0.5940969586372375,
          4.709924697875977,
          -1.9181137084960938,
          10.680085182189941,
          -0.7473257780075073,
          9.22716236114502,
          1.051467776298523,
          -0.35926657915115356,
          8.955739974975586,
          10.5398588180542,
          -0.06359407305717468,
          8.890795707702637,
          10.847041130065918,
          4.7280168533325195,
          18.062288284301758,
          0.6533910632133484,
          -1.32529616355896,
          -1.2976629734039307,
          -0.1926765888929367,
          -5.861886024475098,
          -0.26129910349845886,
          7.0481085777282715,
          0.035956405103206635,
          0.9299342036247253,
          -2.0245673656463623,
          -0.19594301283359528,
          -0.12348735332489014,
          7.414322853088379,
          -1.037898063659668,
          -0.939699649810791,
          -5.648102760314941,
          18.000802993774414,
          -0.5049059987068176,
          7.243276596069336,
          -1.3179173469543457
         ],
         "xaxis": "x",
         "y": [
          -2.4976491928100586,
          -9.585527420043945,
          0.9807090759277344,
          -1.8119655847549438,
          12.851725578308105,
          10.432985305786133,
          -1.9679179191589355,
          -1.6946585178375244,
          4.735173225402832,
          -2.0911753177642822,
          -0.44672760367393494,
          -2.502833127975464,
          10.564715385437012,
          1.3881667852401733,
          -2.3274526596069336,
          10.293410301208496,
          -0.30669137835502625,
          1.555524230003357,
          10.228419303894043,
          -0.6137838363647461,
          4.753139972686768,
          8.175703048706055,
          1.153659701347351,
          -0.35513514280319214,
          -1.5945487022399902,
          1.877585768699646,
          12.982452392578125,
          -1.4734667539596558,
          -9.713435173034668,
          0.8635931611061096,
          1.2683480978012085,
          -2.008633852005005,
          1.8553040027618408,
          -0.9301708340644836,
          -9.347163200378418,
          -2.0407347679138184,
          -1.4344078302383423,
          12.768726348876953,
          8.116873741149902,
          -2.4478607177734375,
          -9.518555641174316,
          -0.3948657512664795
         ],
         "yaxis": "y"
        }
       ],
       "layout": {
        "annotations": [
         {
          "showarrow": false,
          "text": "D1",
          "x": -6.7411689281463625,
          "y": 1.8796849012374874,
          "yshift": 10
         },
         {
          "showarrow": false,
          "text": "D2",
          "x": 7.01523129940033,
          "xshift": 10,
          "y": 14.929820251464843
         }
        ],
        "height": 650,
        "hoverlabel": {
         "bgcolor": "white",
         "font": {
          "family": "Rockwell",
          "size": 16
         }
        },
        "legend": {
         "itemsizing": "constant",
         "tracegroupgap": 0
        },
        "margin": {
         "t": 60
        },
        "shapes": [
         {
          "line": {
           "color": "#CFD8DC",
           "width": 2
          },
          "type": "line",
          "x0": 7.01523129940033,
          "x1": 7.01523129940033,
          "y0": -11.170450448989868,
          "y1": 14.929820251464843
         },
         {
          "line": {
           "color": "#9E9E9E",
           "width": 2
          },
          "type": "line",
          "x0": -6.7411689281463625,
          "x1": 20.771631526947022,
          "y0": 1.8796849012374874,
          "y1": 1.8796849012374874
         }
        ],
        "sliders": [
         {
          "active": 0,
          "pad": {
           "t": 50
          },
          "steps": [
           {
            "args": [
             {
              "marker.color": [
               [
                "red",
                "#B0BEC5",
                "#B0BEC5",
                "#B0BEC5",
                "#B0BEC5",
                "#B0BEC5",
                "#B0BEC5",
                "#B0BEC5",
                "#B0BEC5",
                "#B0BEC5",
                "#B0BEC5",
                "#B0BEC5",
                "#B0BEC5",
                "#B0BEC5",
                "#B0BEC5",
                "#B0BEC5",
                "#B0BEC5",
                "#B0BEC5",
                "#B0BEC5",
                "#B0BEC5",
                "#B0BEC5",
                "#B0BEC5",
                "#B0BEC5",
                "#B0BEC5",
                "#B0BEC5",
                "#B0BEC5",
                "#B0BEC5",
                "#B0BEC5",
                "#B0BEC5",
                "#B0BEC5",
                "#B0BEC5",
                "#B0BEC5",
                "#B0BEC5",
                "#B0BEC5",
                "#B0BEC5",
                "#B0BEC5",
                "#B0BEC5",
                "#B0BEC5",
                "#B0BEC5",
                "#B0BEC5",
                "#B0BEC5",
                "#B0BEC5"
               ]
              ]
             }
            ],
            "label": "Topic 0",
            "method": "update"
           },
           {
            "args": [
             {
              "marker.color": [
               [
                "#B0BEC5",
                "red",
                "#B0BEC5",
                "#B0BEC5",
                "#B0BEC5",
                "#B0BEC5",
                "#B0BEC5",
                "#B0BEC5",
                "#B0BEC5",
                "#B0BEC5",
                "#B0BEC5",
                "#B0BEC5",
                "#B0BEC5",
                "#B0BEC5",
                "#B0BEC5",
                "#B0BEC5",
                "#B0BEC5",
                "#B0BEC5",
                "#B0BEC5",
                "#B0BEC5",
                "#B0BEC5",
                "#B0BEC5",
                "#B0BEC5",
                "#B0BEC5",
                "#B0BEC5",
                "#B0BEC5",
                "#B0BEC5",
                "#B0BEC5",
                "#B0BEC5",
                "#B0BEC5",
                "#B0BEC5",
                "#B0BEC5",
                "#B0BEC5",
                "#B0BEC5",
                "#B0BEC5",
                "#B0BEC5",
                "#B0BEC5",
                "#B0BEC5",
                "#B0BEC5",
                "#B0BEC5",
                "#B0BEC5",
                "#B0BEC5"
               ]
              ]
             }
            ],
            "label": "Topic 1",
            "method": "update"
           },
           {
            "args": [
             {
              "marker.color": [
               [
                "#B0BEC5",
                "#B0BEC5",
                "red",
                "#B0BEC5",
                "#B0BEC5",
                "#B0BEC5",
                "#B0BEC5",
                "#B0BEC5",
                "#B0BEC5",
                "#B0BEC5",
                "#B0BEC5",
                "#B0BEC5",
                "#B0BEC5",
                "#B0BEC5",
                "#B0BEC5",
                "#B0BEC5",
                "#B0BEC5",
                "#B0BEC5",
                "#B0BEC5",
                "#B0BEC5",
                "#B0BEC5",
                "#B0BEC5",
                "#B0BEC5",
                "#B0BEC5",
                "#B0BEC5",
                "#B0BEC5",
                "#B0BEC5",
                "#B0BEC5",
                "#B0BEC5",
                "#B0BEC5",
                "#B0BEC5",
                "#B0BEC5",
                "#B0BEC5",
                "#B0BEC5",
                "#B0BEC5",
                "#B0BEC5",
                "#B0BEC5",
                "#B0BEC5",
                "#B0BEC5",
                "#B0BEC5",
                "#B0BEC5",
                "#B0BEC5"
               ]
              ]
             }
            ],
            "label": "Topic 2",
            "method": "update"
           },
           {
            "args": [
             {
              "marker.color": [
               [
                "#B0BEC5",
                "#B0BEC5",
                "#B0BEC5",
                "red",
                "#B0BEC5",
                "#B0BEC5",
                "#B0BEC5",
                "#B0BEC5",
                "#B0BEC5",
                "#B0BEC5",
                "#B0BEC5",
                "#B0BEC5",
                "#B0BEC5",
                "#B0BEC5",
                "#B0BEC5",
                "#B0BEC5",
                "#B0BEC5",
                "#B0BEC5",
                "#B0BEC5",
                "#B0BEC5",
                "#B0BEC5",
                "#B0BEC5",
                "#B0BEC5",
                "#B0BEC5",
                "#B0BEC5",
                "#B0BEC5",
                "#B0BEC5",
                "#B0BEC5",
                "#B0BEC5",
                "#B0BEC5",
                "#B0BEC5",
                "#B0BEC5",
                "#B0BEC5",
                "#B0BEC5",
                "#B0BEC5",
                "#B0BEC5",
                "#B0BEC5",
                "#B0BEC5",
                "#B0BEC5",
                "#B0BEC5",
                "#B0BEC5",
                "#B0BEC5"
               ]
              ]
             }
            ],
            "label": "Topic 3",
            "method": "update"
           },
           {
            "args": [
             {
              "marker.color": [
               [
                "#B0BEC5",
                "#B0BEC5",
                "#B0BEC5",
                "#B0BEC5",
                "red",
                "#B0BEC5",
                "#B0BEC5",
                "#B0BEC5",
                "#B0BEC5",
                "#B0BEC5",
                "#B0BEC5",
                "#B0BEC5",
                "#B0BEC5",
                "#B0BEC5",
                "#B0BEC5",
                "#B0BEC5",
                "#B0BEC5",
                "#B0BEC5",
                "#B0BEC5",
                "#B0BEC5",
                "#B0BEC5",
                "#B0BEC5",
                "#B0BEC5",
                "#B0BEC5",
                "#B0BEC5",
                "#B0BEC5",
                "#B0BEC5",
                "#B0BEC5",
                "#B0BEC5",
                "#B0BEC5",
                "#B0BEC5",
                "#B0BEC5",
                "#B0BEC5",
                "#B0BEC5",
                "#B0BEC5",
                "#B0BEC5",
                "#B0BEC5",
                "#B0BEC5",
                "#B0BEC5",
                "#B0BEC5",
                "#B0BEC5",
                "#B0BEC5"
               ]
              ]
             }
            ],
            "label": "Topic 4",
            "method": "update"
           },
           {
            "args": [
             {
              "marker.color": [
               [
                "#B0BEC5",
                "#B0BEC5",
                "#B0BEC5",
                "#B0BEC5",
                "#B0BEC5",
                "red",
                "#B0BEC5",
                "#B0BEC5",
                "#B0BEC5",
                "#B0BEC5",
                "#B0BEC5",
                "#B0BEC5",
                "#B0BEC5",
                "#B0BEC5",
                "#B0BEC5",
                "#B0BEC5",
                "#B0BEC5",
                "#B0BEC5",
                "#B0BEC5",
                "#B0BEC5",
                "#B0BEC5",
                "#B0BEC5",
                "#B0BEC5",
                "#B0BEC5",
                "#B0BEC5",
                "#B0BEC5",
                "#B0BEC5",
                "#B0BEC5",
                "#B0BEC5",
                "#B0BEC5",
                "#B0BEC5",
                "#B0BEC5",
                "#B0BEC5",
                "#B0BEC5",
                "#B0BEC5",
                "#B0BEC5",
                "#B0BEC5",
                "#B0BEC5",
                "#B0BEC5",
                "#B0BEC5",
                "#B0BEC5",
                "#B0BEC5"
               ]
              ]
             }
            ],
            "label": "Topic 5",
            "method": "update"
           },
           {
            "args": [
             {
              "marker.color": [
               [
                "#B0BEC5",
                "#B0BEC5",
                "#B0BEC5",
                "#B0BEC5",
                "#B0BEC5",
                "#B0BEC5",
                "red",
                "#B0BEC5",
                "#B0BEC5",
                "#B0BEC5",
                "#B0BEC5",
                "#B0BEC5",
                "#B0BEC5",
                "#B0BEC5",
                "#B0BEC5",
                "#B0BEC5",
                "#B0BEC5",
                "#B0BEC5",
                "#B0BEC5",
                "#B0BEC5",
                "#B0BEC5",
                "#B0BEC5",
                "#B0BEC5",
                "#B0BEC5",
                "#B0BEC5",
                "#B0BEC5",
                "#B0BEC5",
                "#B0BEC5",
                "#B0BEC5",
                "#B0BEC5",
                "#B0BEC5",
                "#B0BEC5",
                "#B0BEC5",
                "#B0BEC5",
                "#B0BEC5",
                "#B0BEC5",
                "#B0BEC5",
                "#B0BEC5",
                "#B0BEC5",
                "#B0BEC5",
                "#B0BEC5",
                "#B0BEC5"
               ]
              ]
             }
            ],
            "label": "Topic 6",
            "method": "update"
           },
           {
            "args": [
             {
              "marker.color": [
               [
                "#B0BEC5",
                "#B0BEC5",
                "#B0BEC5",
                "#B0BEC5",
                "#B0BEC5",
                "#B0BEC5",
                "#B0BEC5",
                "red",
                "#B0BEC5",
                "#B0BEC5",
                "#B0BEC5",
                "#B0BEC5",
                "#B0BEC5",
                "#B0BEC5",
                "#B0BEC5",
                "#B0BEC5",
                "#B0BEC5",
                "#B0BEC5",
                "#B0BEC5",
                "#B0BEC5",
                "#B0BEC5",
                "#B0BEC5",
                "#B0BEC5",
                "#B0BEC5",
                "#B0BEC5",
                "#B0BEC5",
                "#B0BEC5",
                "#B0BEC5",
                "#B0BEC5",
                "#B0BEC5",
                "#B0BEC5",
                "#B0BEC5",
                "#B0BEC5",
                "#B0BEC5",
                "#B0BEC5",
                "#B0BEC5",
                "#B0BEC5",
                "#B0BEC5",
                "#B0BEC5",
                "#B0BEC5",
                "#B0BEC5",
                "#B0BEC5"
               ]
              ]
             }
            ],
            "label": "Topic 7",
            "method": "update"
           },
           {
            "args": [
             {
              "marker.color": [
               [
                "#B0BEC5",
                "#B0BEC5",
                "#B0BEC5",
                "#B0BEC5",
                "#B0BEC5",
                "#B0BEC5",
                "#B0BEC5",
                "#B0BEC5",
                "red",
                "#B0BEC5",
                "#B0BEC5",
                "#B0BEC5",
                "#B0BEC5",
                "#B0BEC5",
                "#B0BEC5",
                "#B0BEC5",
                "#B0BEC5",
                "#B0BEC5",
                "#B0BEC5",
                "#B0BEC5",
                "#B0BEC5",
                "#B0BEC5",
                "#B0BEC5",
                "#B0BEC5",
                "#B0BEC5",
                "#B0BEC5",
                "#B0BEC5",
                "#B0BEC5",
                "#B0BEC5",
                "#B0BEC5",
                "#B0BEC5",
                "#B0BEC5",
                "#B0BEC5",
                "#B0BEC5",
                "#B0BEC5",
                "#B0BEC5",
                "#B0BEC5",
                "#B0BEC5",
                "#B0BEC5",
                "#B0BEC5",
                "#B0BEC5",
                "#B0BEC5"
               ]
              ]
             }
            ],
            "label": "Topic 8",
            "method": "update"
           },
           {
            "args": [
             {
              "marker.color": [
               [
                "#B0BEC5",
                "#B0BEC5",
                "#B0BEC5",
                "#B0BEC5",
                "#B0BEC5",
                "#B0BEC5",
                "#B0BEC5",
                "#B0BEC5",
                "#B0BEC5",
                "red",
                "#B0BEC5",
                "#B0BEC5",
                "#B0BEC5",
                "#B0BEC5",
                "#B0BEC5",
                "#B0BEC5",
                "#B0BEC5",
                "#B0BEC5",
                "#B0BEC5",
                "#B0BEC5",
                "#B0BEC5",
                "#B0BEC5",
                "#B0BEC5",
                "#B0BEC5",
                "#B0BEC5",
                "#B0BEC5",
                "#B0BEC5",
                "#B0BEC5",
                "#B0BEC5",
                "#B0BEC5",
                "#B0BEC5",
                "#B0BEC5",
                "#B0BEC5",
                "#B0BEC5",
                "#B0BEC5",
                "#B0BEC5",
                "#B0BEC5",
                "#B0BEC5",
                "#B0BEC5",
                "#B0BEC5",
                "#B0BEC5",
                "#B0BEC5"
               ]
              ]
             }
            ],
            "label": "Topic 9",
            "method": "update"
           },
           {
            "args": [
             {
              "marker.color": [
               [
                "#B0BEC5",
                "#B0BEC5",
                "#B0BEC5",
                "#B0BEC5",
                "#B0BEC5",
                "#B0BEC5",
                "#B0BEC5",
                "#B0BEC5",
                "#B0BEC5",
                "#B0BEC5",
                "red",
                "#B0BEC5",
                "#B0BEC5",
                "#B0BEC5",
                "#B0BEC5",
                "#B0BEC5",
                "#B0BEC5",
                "#B0BEC5",
                "#B0BEC5",
                "#B0BEC5",
                "#B0BEC5",
                "#B0BEC5",
                "#B0BEC5",
                "#B0BEC5",
                "#B0BEC5",
                "#B0BEC5",
                "#B0BEC5",
                "#B0BEC5",
                "#B0BEC5",
                "#B0BEC5",
                "#B0BEC5",
                "#B0BEC5",
                "#B0BEC5",
                "#B0BEC5",
                "#B0BEC5",
                "#B0BEC5",
                "#B0BEC5",
                "#B0BEC5",
                "#B0BEC5",
                "#B0BEC5",
                "#B0BEC5",
                "#B0BEC5"
               ]
              ]
             }
            ],
            "label": "Topic 10",
            "method": "update"
           },
           {
            "args": [
             {
              "marker.color": [
               [
                "#B0BEC5",
                "#B0BEC5",
                "#B0BEC5",
                "#B0BEC5",
                "#B0BEC5",
                "#B0BEC5",
                "#B0BEC5",
                "#B0BEC5",
                "#B0BEC5",
                "#B0BEC5",
                "#B0BEC5",
                "red",
                "#B0BEC5",
                "#B0BEC5",
                "#B0BEC5",
                "#B0BEC5",
                "#B0BEC5",
                "#B0BEC5",
                "#B0BEC5",
                "#B0BEC5",
                "#B0BEC5",
                "#B0BEC5",
                "#B0BEC5",
                "#B0BEC5",
                "#B0BEC5",
                "#B0BEC5",
                "#B0BEC5",
                "#B0BEC5",
                "#B0BEC5",
                "#B0BEC5",
                "#B0BEC5",
                "#B0BEC5",
                "#B0BEC5",
                "#B0BEC5",
                "#B0BEC5",
                "#B0BEC5",
                "#B0BEC5",
                "#B0BEC5",
                "#B0BEC5",
                "#B0BEC5",
                "#B0BEC5",
                "#B0BEC5"
               ]
              ]
             }
            ],
            "label": "Topic 11",
            "method": "update"
           },
           {
            "args": [
             {
              "marker.color": [
               [
                "#B0BEC5",
                "#B0BEC5",
                "#B0BEC5",
                "#B0BEC5",
                "#B0BEC5",
                "#B0BEC5",
                "#B0BEC5",
                "#B0BEC5",
                "#B0BEC5",
                "#B0BEC5",
                "#B0BEC5",
                "#B0BEC5",
                "red",
                "#B0BEC5",
                "#B0BEC5",
                "#B0BEC5",
                "#B0BEC5",
                "#B0BEC5",
                "#B0BEC5",
                "#B0BEC5",
                "#B0BEC5",
                "#B0BEC5",
                "#B0BEC5",
                "#B0BEC5",
                "#B0BEC5",
                "#B0BEC5",
                "#B0BEC5",
                "#B0BEC5",
                "#B0BEC5",
                "#B0BEC5",
                "#B0BEC5",
                "#B0BEC5",
                "#B0BEC5",
                "#B0BEC5",
                "#B0BEC5",
                "#B0BEC5",
                "#B0BEC5",
                "#B0BEC5",
                "#B0BEC5",
                "#B0BEC5",
                "#B0BEC5",
                "#B0BEC5"
               ]
              ]
             }
            ],
            "label": "Topic 12",
            "method": "update"
           },
           {
            "args": [
             {
              "marker.color": [
               [
                "#B0BEC5",
                "#B0BEC5",
                "#B0BEC5",
                "#B0BEC5",
                "#B0BEC5",
                "#B0BEC5",
                "#B0BEC5",
                "#B0BEC5",
                "#B0BEC5",
                "#B0BEC5",
                "#B0BEC5",
                "#B0BEC5",
                "#B0BEC5",
                "red",
                "#B0BEC5",
                "#B0BEC5",
                "#B0BEC5",
                "#B0BEC5",
                "#B0BEC5",
                "#B0BEC5",
                "#B0BEC5",
                "#B0BEC5",
                "#B0BEC5",
                "#B0BEC5",
                "#B0BEC5",
                "#B0BEC5",
                "#B0BEC5",
                "#B0BEC5",
                "#B0BEC5",
                "#B0BEC5",
                "#B0BEC5",
                "#B0BEC5",
                "#B0BEC5",
                "#B0BEC5",
                "#B0BEC5",
                "#B0BEC5",
                "#B0BEC5",
                "#B0BEC5",
                "#B0BEC5",
                "#B0BEC5",
                "#B0BEC5",
                "#B0BEC5"
               ]
              ]
             }
            ],
            "label": "Topic 13",
            "method": "update"
           },
           {
            "args": [
             {
              "marker.color": [
               [
                "#B0BEC5",
                "#B0BEC5",
                "#B0BEC5",
                "#B0BEC5",
                "#B0BEC5",
                "#B0BEC5",
                "#B0BEC5",
                "#B0BEC5",
                "#B0BEC5",
                "#B0BEC5",
                "#B0BEC5",
                "#B0BEC5",
                "#B0BEC5",
                "#B0BEC5",
                "red",
                "#B0BEC5",
                "#B0BEC5",
                "#B0BEC5",
                "#B0BEC5",
                "#B0BEC5",
                "#B0BEC5",
                "#B0BEC5",
                "#B0BEC5",
                "#B0BEC5",
                "#B0BEC5",
                "#B0BEC5",
                "#B0BEC5",
                "#B0BEC5",
                "#B0BEC5",
                "#B0BEC5",
                "#B0BEC5",
                "#B0BEC5",
                "#B0BEC5",
                "#B0BEC5",
                "#B0BEC5",
                "#B0BEC5",
                "#B0BEC5",
                "#B0BEC5",
                "#B0BEC5",
                "#B0BEC5",
                "#B0BEC5",
                "#B0BEC5"
               ]
              ]
             }
            ],
            "label": "Topic 14",
            "method": "update"
           },
           {
            "args": [
             {
              "marker.color": [
               [
                "#B0BEC5",
                "#B0BEC5",
                "#B0BEC5",
                "#B0BEC5",
                "#B0BEC5",
                "#B0BEC5",
                "#B0BEC5",
                "#B0BEC5",
                "#B0BEC5",
                "#B0BEC5",
                "#B0BEC5",
                "#B0BEC5",
                "#B0BEC5",
                "#B0BEC5",
                "#B0BEC5",
                "red",
                "#B0BEC5",
                "#B0BEC5",
                "#B0BEC5",
                "#B0BEC5",
                "#B0BEC5",
                "#B0BEC5",
                "#B0BEC5",
                "#B0BEC5",
                "#B0BEC5",
                "#B0BEC5",
                "#B0BEC5",
                "#B0BEC5",
                "#B0BEC5",
                "#B0BEC5",
                "#B0BEC5",
                "#B0BEC5",
                "#B0BEC5",
                "#B0BEC5",
                "#B0BEC5",
                "#B0BEC5",
                "#B0BEC5",
                "#B0BEC5",
                "#B0BEC5",
                "#B0BEC5",
                "#B0BEC5",
                "#B0BEC5"
               ]
              ]
             }
            ],
            "label": "Topic 15",
            "method": "update"
           },
           {
            "args": [
             {
              "marker.color": [
               [
                "#B0BEC5",
                "#B0BEC5",
                "#B0BEC5",
                "#B0BEC5",
                "#B0BEC5",
                "#B0BEC5",
                "#B0BEC5",
                "#B0BEC5",
                "#B0BEC5",
                "#B0BEC5",
                "#B0BEC5",
                "#B0BEC5",
                "#B0BEC5",
                "#B0BEC5",
                "#B0BEC5",
                "#B0BEC5",
                "red",
                "#B0BEC5",
                "#B0BEC5",
                "#B0BEC5",
                "#B0BEC5",
                "#B0BEC5",
                "#B0BEC5",
                "#B0BEC5",
                "#B0BEC5",
                "#B0BEC5",
                "#B0BEC5",
                "#B0BEC5",
                "#B0BEC5",
                "#B0BEC5",
                "#B0BEC5",
                "#B0BEC5",
                "#B0BEC5",
                "#B0BEC5",
                "#B0BEC5",
                "#B0BEC5",
                "#B0BEC5",
                "#B0BEC5",
                "#B0BEC5",
                "#B0BEC5",
                "#B0BEC5",
                "#B0BEC5"
               ]
              ]
             }
            ],
            "label": "Topic 16",
            "method": "update"
           },
           {
            "args": [
             {
              "marker.color": [
               [
                "#B0BEC5",
                "#B0BEC5",
                "#B0BEC5",
                "#B0BEC5",
                "#B0BEC5",
                "#B0BEC5",
                "#B0BEC5",
                "#B0BEC5",
                "#B0BEC5",
                "#B0BEC5",
                "#B0BEC5",
                "#B0BEC5",
                "#B0BEC5",
                "#B0BEC5",
                "#B0BEC5",
                "#B0BEC5",
                "#B0BEC5",
                "red",
                "#B0BEC5",
                "#B0BEC5",
                "#B0BEC5",
                "#B0BEC5",
                "#B0BEC5",
                "#B0BEC5",
                "#B0BEC5",
                "#B0BEC5",
                "#B0BEC5",
                "#B0BEC5",
                "#B0BEC5",
                "#B0BEC5",
                "#B0BEC5",
                "#B0BEC5",
                "#B0BEC5",
                "#B0BEC5",
                "#B0BEC5",
                "#B0BEC5",
                "#B0BEC5",
                "#B0BEC5",
                "#B0BEC5",
                "#B0BEC5",
                "#B0BEC5",
                "#B0BEC5"
               ]
              ]
             }
            ],
            "label": "Topic 17",
            "method": "update"
           },
           {
            "args": [
             {
              "marker.color": [
               [
                "#B0BEC5",
                "#B0BEC5",
                "#B0BEC5",
                "#B0BEC5",
                "#B0BEC5",
                "#B0BEC5",
                "#B0BEC5",
                "#B0BEC5",
                "#B0BEC5",
                "#B0BEC5",
                "#B0BEC5",
                "#B0BEC5",
                "#B0BEC5",
                "#B0BEC5",
                "#B0BEC5",
                "#B0BEC5",
                "#B0BEC5",
                "#B0BEC5",
                "red",
                "#B0BEC5",
                "#B0BEC5",
                "#B0BEC5",
                "#B0BEC5",
                "#B0BEC5",
                "#B0BEC5",
                "#B0BEC5",
                "#B0BEC5",
                "#B0BEC5",
                "#B0BEC5",
                "#B0BEC5",
                "#B0BEC5",
                "#B0BEC5",
                "#B0BEC5",
                "#B0BEC5",
                "#B0BEC5",
                "#B0BEC5",
                "#B0BEC5",
                "#B0BEC5",
                "#B0BEC5",
                "#B0BEC5",
                "#B0BEC5",
                "#B0BEC5"
               ]
              ]
             }
            ],
            "label": "Topic 18",
            "method": "update"
           },
           {
            "args": [
             {
              "marker.color": [
               [
                "#B0BEC5",
                "#B0BEC5",
                "#B0BEC5",
                "#B0BEC5",
                "#B0BEC5",
                "#B0BEC5",
                "#B0BEC5",
                "#B0BEC5",
                "#B0BEC5",
                "#B0BEC5",
                "#B0BEC5",
                "#B0BEC5",
                "#B0BEC5",
                "#B0BEC5",
                "#B0BEC5",
                "#B0BEC5",
                "#B0BEC5",
                "#B0BEC5",
                "#B0BEC5",
                "red",
                "#B0BEC5",
                "#B0BEC5",
                "#B0BEC5",
                "#B0BEC5",
                "#B0BEC5",
                "#B0BEC5",
                "#B0BEC5",
                "#B0BEC5",
                "#B0BEC5",
                "#B0BEC5",
                "#B0BEC5",
                "#B0BEC5",
                "#B0BEC5",
                "#B0BEC5",
                "#B0BEC5",
                "#B0BEC5",
                "#B0BEC5",
                "#B0BEC5",
                "#B0BEC5",
                "#B0BEC5",
                "#B0BEC5",
                "#B0BEC5"
               ]
              ]
             }
            ],
            "label": "Topic 19",
            "method": "update"
           },
           {
            "args": [
             {
              "marker.color": [
               [
                "#B0BEC5",
                "#B0BEC5",
                "#B0BEC5",
                "#B0BEC5",
                "#B0BEC5",
                "#B0BEC5",
                "#B0BEC5",
                "#B0BEC5",
                "#B0BEC5",
                "#B0BEC5",
                "#B0BEC5",
                "#B0BEC5",
                "#B0BEC5",
                "#B0BEC5",
                "#B0BEC5",
                "#B0BEC5",
                "#B0BEC5",
                "#B0BEC5",
                "#B0BEC5",
                "#B0BEC5",
                "red",
                "#B0BEC5",
                "#B0BEC5",
                "#B0BEC5",
                "#B0BEC5",
                "#B0BEC5",
                "#B0BEC5",
                "#B0BEC5",
                "#B0BEC5",
                "#B0BEC5",
                "#B0BEC5",
                "#B0BEC5",
                "#B0BEC5",
                "#B0BEC5",
                "#B0BEC5",
                "#B0BEC5",
                "#B0BEC5",
                "#B0BEC5",
                "#B0BEC5",
                "#B0BEC5",
                "#B0BEC5",
                "#B0BEC5"
               ]
              ]
             }
            ],
            "label": "Topic 20",
            "method": "update"
           },
           {
            "args": [
             {
              "marker.color": [
               [
                "#B0BEC5",
                "#B0BEC5",
                "#B0BEC5",
                "#B0BEC5",
                "#B0BEC5",
                "#B0BEC5",
                "#B0BEC5",
                "#B0BEC5",
                "#B0BEC5",
                "#B0BEC5",
                "#B0BEC5",
                "#B0BEC5",
                "#B0BEC5",
                "#B0BEC5",
                "#B0BEC5",
                "#B0BEC5",
                "#B0BEC5",
                "#B0BEC5",
                "#B0BEC5",
                "#B0BEC5",
                "#B0BEC5",
                "red",
                "#B0BEC5",
                "#B0BEC5",
                "#B0BEC5",
                "#B0BEC5",
                "#B0BEC5",
                "#B0BEC5",
                "#B0BEC5",
                "#B0BEC5",
                "#B0BEC5",
                "#B0BEC5",
                "#B0BEC5",
                "#B0BEC5",
                "#B0BEC5",
                "#B0BEC5",
                "#B0BEC5",
                "#B0BEC5",
                "#B0BEC5",
                "#B0BEC5",
                "#B0BEC5",
                "#B0BEC5"
               ]
              ]
             }
            ],
            "label": "Topic 21",
            "method": "update"
           },
           {
            "args": [
             {
              "marker.color": [
               [
                "#B0BEC5",
                "#B0BEC5",
                "#B0BEC5",
                "#B0BEC5",
                "#B0BEC5",
                "#B0BEC5",
                "#B0BEC5",
                "#B0BEC5",
                "#B0BEC5",
                "#B0BEC5",
                "#B0BEC5",
                "#B0BEC5",
                "#B0BEC5",
                "#B0BEC5",
                "#B0BEC5",
                "#B0BEC5",
                "#B0BEC5",
                "#B0BEC5",
                "#B0BEC5",
                "#B0BEC5",
                "#B0BEC5",
                "#B0BEC5",
                "red",
                "#B0BEC5",
                "#B0BEC5",
                "#B0BEC5",
                "#B0BEC5",
                "#B0BEC5",
                "#B0BEC5",
                "#B0BEC5",
                "#B0BEC5",
                "#B0BEC5",
                "#B0BEC5",
                "#B0BEC5",
                "#B0BEC5",
                "#B0BEC5",
                "#B0BEC5",
                "#B0BEC5",
                "#B0BEC5",
                "#B0BEC5",
                "#B0BEC5",
                "#B0BEC5"
               ]
              ]
             }
            ],
            "label": "Topic 22",
            "method": "update"
           },
           {
            "args": [
             {
              "marker.color": [
               [
                "#B0BEC5",
                "#B0BEC5",
                "#B0BEC5",
                "#B0BEC5",
                "#B0BEC5",
                "#B0BEC5",
                "#B0BEC5",
                "#B0BEC5",
                "#B0BEC5",
                "#B0BEC5",
                "#B0BEC5",
                "#B0BEC5",
                "#B0BEC5",
                "#B0BEC5",
                "#B0BEC5",
                "#B0BEC5",
                "#B0BEC5",
                "#B0BEC5",
                "#B0BEC5",
                "#B0BEC5",
                "#B0BEC5",
                "#B0BEC5",
                "#B0BEC5",
                "red",
                "#B0BEC5",
                "#B0BEC5",
                "#B0BEC5",
                "#B0BEC5",
                "#B0BEC5",
                "#B0BEC5",
                "#B0BEC5",
                "#B0BEC5",
                "#B0BEC5",
                "#B0BEC5",
                "#B0BEC5",
                "#B0BEC5",
                "#B0BEC5",
                "#B0BEC5",
                "#B0BEC5",
                "#B0BEC5",
                "#B0BEC5",
                "#B0BEC5"
               ]
              ]
             }
            ],
            "label": "Topic 23",
            "method": "update"
           },
           {
            "args": [
             {
              "marker.color": [
               [
                "#B0BEC5",
                "#B0BEC5",
                "#B0BEC5",
                "#B0BEC5",
                "#B0BEC5",
                "#B0BEC5",
                "#B0BEC5",
                "#B0BEC5",
                "#B0BEC5",
                "#B0BEC5",
                "#B0BEC5",
                "#B0BEC5",
                "#B0BEC5",
                "#B0BEC5",
                "#B0BEC5",
                "#B0BEC5",
                "#B0BEC5",
                "#B0BEC5",
                "#B0BEC5",
                "#B0BEC5",
                "#B0BEC5",
                "#B0BEC5",
                "#B0BEC5",
                "#B0BEC5",
                "red",
                "#B0BEC5",
                "#B0BEC5",
                "#B0BEC5",
                "#B0BEC5",
                "#B0BEC5",
                "#B0BEC5",
                "#B0BEC5",
                "#B0BEC5",
                "#B0BEC5",
                "#B0BEC5",
                "#B0BEC5",
                "#B0BEC5",
                "#B0BEC5",
                "#B0BEC5",
                "#B0BEC5",
                "#B0BEC5",
                "#B0BEC5"
               ]
              ]
             }
            ],
            "label": "Topic 24",
            "method": "update"
           },
           {
            "args": [
             {
              "marker.color": [
               [
                "#B0BEC5",
                "#B0BEC5",
                "#B0BEC5",
                "#B0BEC5",
                "#B0BEC5",
                "#B0BEC5",
                "#B0BEC5",
                "#B0BEC5",
                "#B0BEC5",
                "#B0BEC5",
                "#B0BEC5",
                "#B0BEC5",
                "#B0BEC5",
                "#B0BEC5",
                "#B0BEC5",
                "#B0BEC5",
                "#B0BEC5",
                "#B0BEC5",
                "#B0BEC5",
                "#B0BEC5",
                "#B0BEC5",
                "#B0BEC5",
                "#B0BEC5",
                "#B0BEC5",
                "#B0BEC5",
                "red",
                "#B0BEC5",
                "#B0BEC5",
                "#B0BEC5",
                "#B0BEC5",
                "#B0BEC5",
                "#B0BEC5",
                "#B0BEC5",
                "#B0BEC5",
                "#B0BEC5",
                "#B0BEC5",
                "#B0BEC5",
                "#B0BEC5",
                "#B0BEC5",
                "#B0BEC5",
                "#B0BEC5",
                "#B0BEC5"
               ]
              ]
             }
            ],
            "label": "Topic 25",
            "method": "update"
           },
           {
            "args": [
             {
              "marker.color": [
               [
                "#B0BEC5",
                "#B0BEC5",
                "#B0BEC5",
                "#B0BEC5",
                "#B0BEC5",
                "#B0BEC5",
                "#B0BEC5",
                "#B0BEC5",
                "#B0BEC5",
                "#B0BEC5",
                "#B0BEC5",
                "#B0BEC5",
                "#B0BEC5",
                "#B0BEC5",
                "#B0BEC5",
                "#B0BEC5",
                "#B0BEC5",
                "#B0BEC5",
                "#B0BEC5",
                "#B0BEC5",
                "#B0BEC5",
                "#B0BEC5",
                "#B0BEC5",
                "#B0BEC5",
                "#B0BEC5",
                "#B0BEC5",
                "red",
                "#B0BEC5",
                "#B0BEC5",
                "#B0BEC5",
                "#B0BEC5",
                "#B0BEC5",
                "#B0BEC5",
                "#B0BEC5",
                "#B0BEC5",
                "#B0BEC5",
                "#B0BEC5",
                "#B0BEC5",
                "#B0BEC5",
                "#B0BEC5",
                "#B0BEC5",
                "#B0BEC5"
               ]
              ]
             }
            ],
            "label": "Topic 26",
            "method": "update"
           },
           {
            "args": [
             {
              "marker.color": [
               [
                "#B0BEC5",
                "#B0BEC5",
                "#B0BEC5",
                "#B0BEC5",
                "#B0BEC5",
                "#B0BEC5",
                "#B0BEC5",
                "#B0BEC5",
                "#B0BEC5",
                "#B0BEC5",
                "#B0BEC5",
                "#B0BEC5",
                "#B0BEC5",
                "#B0BEC5",
                "#B0BEC5",
                "#B0BEC5",
                "#B0BEC5",
                "#B0BEC5",
                "#B0BEC5",
                "#B0BEC5",
                "#B0BEC5",
                "#B0BEC5",
                "#B0BEC5",
                "#B0BEC5",
                "#B0BEC5",
                "#B0BEC5",
                "#B0BEC5",
                "red",
                "#B0BEC5",
                "#B0BEC5",
                "#B0BEC5",
                "#B0BEC5",
                "#B0BEC5",
                "#B0BEC5",
                "#B0BEC5",
                "#B0BEC5",
                "#B0BEC5",
                "#B0BEC5",
                "#B0BEC5",
                "#B0BEC5",
                "#B0BEC5",
                "#B0BEC5"
               ]
              ]
             }
            ],
            "label": "Topic 27",
            "method": "update"
           },
           {
            "args": [
             {
              "marker.color": [
               [
                "#B0BEC5",
                "#B0BEC5",
                "#B0BEC5",
                "#B0BEC5",
                "#B0BEC5",
                "#B0BEC5",
                "#B0BEC5",
                "#B0BEC5",
                "#B0BEC5",
                "#B0BEC5",
                "#B0BEC5",
                "#B0BEC5",
                "#B0BEC5",
                "#B0BEC5",
                "#B0BEC5",
                "#B0BEC5",
                "#B0BEC5",
                "#B0BEC5",
                "#B0BEC5",
                "#B0BEC5",
                "#B0BEC5",
                "#B0BEC5",
                "#B0BEC5",
                "#B0BEC5",
                "#B0BEC5",
                "#B0BEC5",
                "#B0BEC5",
                "#B0BEC5",
                "red",
                "#B0BEC5",
                "#B0BEC5",
                "#B0BEC5",
                "#B0BEC5",
                "#B0BEC5",
                "#B0BEC5",
                "#B0BEC5",
                "#B0BEC5",
                "#B0BEC5",
                "#B0BEC5",
                "#B0BEC5",
                "#B0BEC5",
                "#B0BEC5"
               ]
              ]
             }
            ],
            "label": "Topic 28",
            "method": "update"
           },
           {
            "args": [
             {
              "marker.color": [
               [
                "#B0BEC5",
                "#B0BEC5",
                "#B0BEC5",
                "#B0BEC5",
                "#B0BEC5",
                "#B0BEC5",
                "#B0BEC5",
                "#B0BEC5",
                "#B0BEC5",
                "#B0BEC5",
                "#B0BEC5",
                "#B0BEC5",
                "#B0BEC5",
                "#B0BEC5",
                "#B0BEC5",
                "#B0BEC5",
                "#B0BEC5",
                "#B0BEC5",
                "#B0BEC5",
                "#B0BEC5",
                "#B0BEC5",
                "#B0BEC5",
                "#B0BEC5",
                "#B0BEC5",
                "#B0BEC5",
                "#B0BEC5",
                "#B0BEC5",
                "#B0BEC5",
                "#B0BEC5",
                "red",
                "#B0BEC5",
                "#B0BEC5",
                "#B0BEC5",
                "#B0BEC5",
                "#B0BEC5",
                "#B0BEC5",
                "#B0BEC5",
                "#B0BEC5",
                "#B0BEC5",
                "#B0BEC5",
                "#B0BEC5",
                "#B0BEC5"
               ]
              ]
             }
            ],
            "label": "Topic 29",
            "method": "update"
           },
           {
            "args": [
             {
              "marker.color": [
               [
                "#B0BEC5",
                "#B0BEC5",
                "#B0BEC5",
                "#B0BEC5",
                "#B0BEC5",
                "#B0BEC5",
                "#B0BEC5",
                "#B0BEC5",
                "#B0BEC5",
                "#B0BEC5",
                "#B0BEC5",
                "#B0BEC5",
                "#B0BEC5",
                "#B0BEC5",
                "#B0BEC5",
                "#B0BEC5",
                "#B0BEC5",
                "#B0BEC5",
                "#B0BEC5",
                "#B0BEC5",
                "#B0BEC5",
                "#B0BEC5",
                "#B0BEC5",
                "#B0BEC5",
                "#B0BEC5",
                "#B0BEC5",
                "#B0BEC5",
                "#B0BEC5",
                "#B0BEC5",
                "#B0BEC5",
                "red",
                "#B0BEC5",
                "#B0BEC5",
                "#B0BEC5",
                "#B0BEC5",
                "#B0BEC5",
                "#B0BEC5",
                "#B0BEC5",
                "#B0BEC5",
                "#B0BEC5",
                "#B0BEC5",
                "#B0BEC5"
               ]
              ]
             }
            ],
            "label": "Topic 30",
            "method": "update"
           },
           {
            "args": [
             {
              "marker.color": [
               [
                "#B0BEC5",
                "#B0BEC5",
                "#B0BEC5",
                "#B0BEC5",
                "#B0BEC5",
                "#B0BEC5",
                "#B0BEC5",
                "#B0BEC5",
                "#B0BEC5",
                "#B0BEC5",
                "#B0BEC5",
                "#B0BEC5",
                "#B0BEC5",
                "#B0BEC5",
                "#B0BEC5",
                "#B0BEC5",
                "#B0BEC5",
                "#B0BEC5",
                "#B0BEC5",
                "#B0BEC5",
                "#B0BEC5",
                "#B0BEC5",
                "#B0BEC5",
                "#B0BEC5",
                "#B0BEC5",
                "#B0BEC5",
                "#B0BEC5",
                "#B0BEC5",
                "#B0BEC5",
                "#B0BEC5",
                "#B0BEC5",
                "red",
                "#B0BEC5",
                "#B0BEC5",
                "#B0BEC5",
                "#B0BEC5",
                "#B0BEC5",
                "#B0BEC5",
                "#B0BEC5",
                "#B0BEC5",
                "#B0BEC5",
                "#B0BEC5"
               ]
              ]
             }
            ],
            "label": "Topic 31",
            "method": "update"
           },
           {
            "args": [
             {
              "marker.color": [
               [
                "#B0BEC5",
                "#B0BEC5",
                "#B0BEC5",
                "#B0BEC5",
                "#B0BEC5",
                "#B0BEC5",
                "#B0BEC5",
                "#B0BEC5",
                "#B0BEC5",
                "#B0BEC5",
                "#B0BEC5",
                "#B0BEC5",
                "#B0BEC5",
                "#B0BEC5",
                "#B0BEC5",
                "#B0BEC5",
                "#B0BEC5",
                "#B0BEC5",
                "#B0BEC5",
                "#B0BEC5",
                "#B0BEC5",
                "#B0BEC5",
                "#B0BEC5",
                "#B0BEC5",
                "#B0BEC5",
                "#B0BEC5",
                "#B0BEC5",
                "#B0BEC5",
                "#B0BEC5",
                "#B0BEC5",
                "#B0BEC5",
                "#B0BEC5",
                "red",
                "#B0BEC5",
                "#B0BEC5",
                "#B0BEC5",
                "#B0BEC5",
                "#B0BEC5",
                "#B0BEC5",
                "#B0BEC5",
                "#B0BEC5",
                "#B0BEC5"
               ]
              ]
             }
            ],
            "label": "Topic 32",
            "method": "update"
           },
           {
            "args": [
             {
              "marker.color": [
               [
                "#B0BEC5",
                "#B0BEC5",
                "#B0BEC5",
                "#B0BEC5",
                "#B0BEC5",
                "#B0BEC5",
                "#B0BEC5",
                "#B0BEC5",
                "#B0BEC5",
                "#B0BEC5",
                "#B0BEC5",
                "#B0BEC5",
                "#B0BEC5",
                "#B0BEC5",
                "#B0BEC5",
                "#B0BEC5",
                "#B0BEC5",
                "#B0BEC5",
                "#B0BEC5",
                "#B0BEC5",
                "#B0BEC5",
                "#B0BEC5",
                "#B0BEC5",
                "#B0BEC5",
                "#B0BEC5",
                "#B0BEC5",
                "#B0BEC5",
                "#B0BEC5",
                "#B0BEC5",
                "#B0BEC5",
                "#B0BEC5",
                "#B0BEC5",
                "#B0BEC5",
                "red",
                "#B0BEC5",
                "#B0BEC5",
                "#B0BEC5",
                "#B0BEC5",
                "#B0BEC5",
                "#B0BEC5",
                "#B0BEC5",
                "#B0BEC5"
               ]
              ]
             }
            ],
            "label": "Topic 33",
            "method": "update"
           },
           {
            "args": [
             {
              "marker.color": [
               [
                "#B0BEC5",
                "#B0BEC5",
                "#B0BEC5",
                "#B0BEC5",
                "#B0BEC5",
                "#B0BEC5",
                "#B0BEC5",
                "#B0BEC5",
                "#B0BEC5",
                "#B0BEC5",
                "#B0BEC5",
                "#B0BEC5",
                "#B0BEC5",
                "#B0BEC5",
                "#B0BEC5",
                "#B0BEC5",
                "#B0BEC5",
                "#B0BEC5",
                "#B0BEC5",
                "#B0BEC5",
                "#B0BEC5",
                "#B0BEC5",
                "#B0BEC5",
                "#B0BEC5",
                "#B0BEC5",
                "#B0BEC5",
                "#B0BEC5",
                "#B0BEC5",
                "#B0BEC5",
                "#B0BEC5",
                "#B0BEC5",
                "#B0BEC5",
                "#B0BEC5",
                "#B0BEC5",
                "red",
                "#B0BEC5",
                "#B0BEC5",
                "#B0BEC5",
                "#B0BEC5",
                "#B0BEC5",
                "#B0BEC5",
                "#B0BEC5"
               ]
              ]
             }
            ],
            "label": "Topic 34",
            "method": "update"
           },
           {
            "args": [
             {
              "marker.color": [
               [
                "#B0BEC5",
                "#B0BEC5",
                "#B0BEC5",
                "#B0BEC5",
                "#B0BEC5",
                "#B0BEC5",
                "#B0BEC5",
                "#B0BEC5",
                "#B0BEC5",
                "#B0BEC5",
                "#B0BEC5",
                "#B0BEC5",
                "#B0BEC5",
                "#B0BEC5",
                "#B0BEC5",
                "#B0BEC5",
                "#B0BEC5",
                "#B0BEC5",
                "#B0BEC5",
                "#B0BEC5",
                "#B0BEC5",
                "#B0BEC5",
                "#B0BEC5",
                "#B0BEC5",
                "#B0BEC5",
                "#B0BEC5",
                "#B0BEC5",
                "#B0BEC5",
                "#B0BEC5",
                "#B0BEC5",
                "#B0BEC5",
                "#B0BEC5",
                "#B0BEC5",
                "#B0BEC5",
                "#B0BEC5",
                "red",
                "#B0BEC5",
                "#B0BEC5",
                "#B0BEC5",
                "#B0BEC5",
                "#B0BEC5",
                "#B0BEC5"
               ]
              ]
             }
            ],
            "label": "Topic 35",
            "method": "update"
           },
           {
            "args": [
             {
              "marker.color": [
               [
                "#B0BEC5",
                "#B0BEC5",
                "#B0BEC5",
                "#B0BEC5",
                "#B0BEC5",
                "#B0BEC5",
                "#B0BEC5",
                "#B0BEC5",
                "#B0BEC5",
                "#B0BEC5",
                "#B0BEC5",
                "#B0BEC5",
                "#B0BEC5",
                "#B0BEC5",
                "#B0BEC5",
                "#B0BEC5",
                "#B0BEC5",
                "#B0BEC5",
                "#B0BEC5",
                "#B0BEC5",
                "#B0BEC5",
                "#B0BEC5",
                "#B0BEC5",
                "#B0BEC5",
                "#B0BEC5",
                "#B0BEC5",
                "#B0BEC5",
                "#B0BEC5",
                "#B0BEC5",
                "#B0BEC5",
                "#B0BEC5",
                "#B0BEC5",
                "#B0BEC5",
                "#B0BEC5",
                "#B0BEC5",
                "#B0BEC5",
                "red",
                "#B0BEC5",
                "#B0BEC5",
                "#B0BEC5",
                "#B0BEC5",
                "#B0BEC5"
               ]
              ]
             }
            ],
            "label": "Topic 36",
            "method": "update"
           },
           {
            "args": [
             {
              "marker.color": [
               [
                "#B0BEC5",
                "#B0BEC5",
                "#B0BEC5",
                "#B0BEC5",
                "#B0BEC5",
                "#B0BEC5",
                "#B0BEC5",
                "#B0BEC5",
                "#B0BEC5",
                "#B0BEC5",
                "#B0BEC5",
                "#B0BEC5",
                "#B0BEC5",
                "#B0BEC5",
                "#B0BEC5",
                "#B0BEC5",
                "#B0BEC5",
                "#B0BEC5",
                "#B0BEC5",
                "#B0BEC5",
                "#B0BEC5",
                "#B0BEC5",
                "#B0BEC5",
                "#B0BEC5",
                "#B0BEC5",
                "#B0BEC5",
                "#B0BEC5",
                "#B0BEC5",
                "#B0BEC5",
                "#B0BEC5",
                "#B0BEC5",
                "#B0BEC5",
                "#B0BEC5",
                "#B0BEC5",
                "#B0BEC5",
                "#B0BEC5",
                "#B0BEC5",
                "red",
                "#B0BEC5",
                "#B0BEC5",
                "#B0BEC5",
                "#B0BEC5"
               ]
              ]
             }
            ],
            "label": "Topic 37",
            "method": "update"
           },
           {
            "args": [
             {
              "marker.color": [
               [
                "#B0BEC5",
                "#B0BEC5",
                "#B0BEC5",
                "#B0BEC5",
                "#B0BEC5",
                "#B0BEC5",
                "#B0BEC5",
                "#B0BEC5",
                "#B0BEC5",
                "#B0BEC5",
                "#B0BEC5",
                "#B0BEC5",
                "#B0BEC5",
                "#B0BEC5",
                "#B0BEC5",
                "#B0BEC5",
                "#B0BEC5",
                "#B0BEC5",
                "#B0BEC5",
                "#B0BEC5",
                "#B0BEC5",
                "#B0BEC5",
                "#B0BEC5",
                "#B0BEC5",
                "#B0BEC5",
                "#B0BEC5",
                "#B0BEC5",
                "#B0BEC5",
                "#B0BEC5",
                "#B0BEC5",
                "#B0BEC5",
                "#B0BEC5",
                "#B0BEC5",
                "#B0BEC5",
                "#B0BEC5",
                "#B0BEC5",
                "#B0BEC5",
                "#B0BEC5",
                "red",
                "#B0BEC5",
                "#B0BEC5",
                "#B0BEC5"
               ]
              ]
             }
            ],
            "label": "Topic 38",
            "method": "update"
           },
           {
            "args": [
             {
              "marker.color": [
               [
                "#B0BEC5",
                "#B0BEC5",
                "#B0BEC5",
                "#B0BEC5",
                "#B0BEC5",
                "#B0BEC5",
                "#B0BEC5",
                "#B0BEC5",
                "#B0BEC5",
                "#B0BEC5",
                "#B0BEC5",
                "#B0BEC5",
                "#B0BEC5",
                "#B0BEC5",
                "#B0BEC5",
                "#B0BEC5",
                "#B0BEC5",
                "#B0BEC5",
                "#B0BEC5",
                "#B0BEC5",
                "#B0BEC5",
                "#B0BEC5",
                "#B0BEC5",
                "#B0BEC5",
                "#B0BEC5",
                "#B0BEC5",
                "#B0BEC5",
                "#B0BEC5",
                "#B0BEC5",
                "#B0BEC5",
                "#B0BEC5",
                "#B0BEC5",
                "#B0BEC5",
                "#B0BEC5",
                "#B0BEC5",
                "#B0BEC5",
                "#B0BEC5",
                "#B0BEC5",
                "#B0BEC5",
                "red",
                "#B0BEC5",
                "#B0BEC5"
               ]
              ]
             }
            ],
            "label": "Topic 39",
            "method": "update"
           },
           {
            "args": [
             {
              "marker.color": [
               [
                "#B0BEC5",
                "#B0BEC5",
                "#B0BEC5",
                "#B0BEC5",
                "#B0BEC5",
                "#B0BEC5",
                "#B0BEC5",
                "#B0BEC5",
                "#B0BEC5",
                "#B0BEC5",
                "#B0BEC5",
                "#B0BEC5",
                "#B0BEC5",
                "#B0BEC5",
                "#B0BEC5",
                "#B0BEC5",
                "#B0BEC5",
                "#B0BEC5",
                "#B0BEC5",
                "#B0BEC5",
                "#B0BEC5",
                "#B0BEC5",
                "#B0BEC5",
                "#B0BEC5",
                "#B0BEC5",
                "#B0BEC5",
                "#B0BEC5",
                "#B0BEC5",
                "#B0BEC5",
                "#B0BEC5",
                "#B0BEC5",
                "#B0BEC5",
                "#B0BEC5",
                "#B0BEC5",
                "#B0BEC5",
                "#B0BEC5",
                "#B0BEC5",
                "#B0BEC5",
                "#B0BEC5",
                "#B0BEC5",
                "red",
                "#B0BEC5"
               ]
              ]
             }
            ],
            "label": "Topic 40",
            "method": "update"
           },
           {
            "args": [
             {
              "marker.color": [
               [
                "#B0BEC5",
                "#B0BEC5",
                "#B0BEC5",
                "#B0BEC5",
                "#B0BEC5",
                "#B0BEC5",
                "#B0BEC5",
                "#B0BEC5",
                "#B0BEC5",
                "#B0BEC5",
                "#B0BEC5",
                "#B0BEC5",
                "#B0BEC5",
                "#B0BEC5",
                "#B0BEC5",
                "#B0BEC5",
                "#B0BEC5",
                "#B0BEC5",
                "#B0BEC5",
                "#B0BEC5",
                "#B0BEC5",
                "#B0BEC5",
                "#B0BEC5",
                "#B0BEC5",
                "#B0BEC5",
                "#B0BEC5",
                "#B0BEC5",
                "#B0BEC5",
                "#B0BEC5",
                "#B0BEC5",
                "#B0BEC5",
                "#B0BEC5",
                "#B0BEC5",
                "#B0BEC5",
                "#B0BEC5",
                "#B0BEC5",
                "#B0BEC5",
                "#B0BEC5",
                "#B0BEC5",
                "#B0BEC5",
                "#B0BEC5",
                "red"
               ]
              ]
             }
            ],
            "label": "Topic 41",
            "method": "update"
           }
          ]
         }
        ],
        "template": {
         "data": {
          "bar": [
           {
            "error_x": {
             "color": "rgb(36,36,36)"
            },
            "error_y": {
             "color": "rgb(36,36,36)"
            },
            "marker": {
             "line": {
              "color": "white",
              "width": 0.5
             },
             "pattern": {
              "fillmode": "overlay",
              "size": 10,
              "solidity": 0.2
             }
            },
            "type": "bar"
           }
          ],
          "barpolar": [
           {
            "marker": {
             "line": {
              "color": "white",
              "width": 0.5
             },
             "pattern": {
              "fillmode": "overlay",
              "size": 10,
              "solidity": 0.2
             }
            },
            "type": "barpolar"
           }
          ],
          "carpet": [
           {
            "aaxis": {
             "endlinecolor": "rgb(36,36,36)",
             "gridcolor": "white",
             "linecolor": "white",
             "minorgridcolor": "white",
             "startlinecolor": "rgb(36,36,36)"
            },
            "baxis": {
             "endlinecolor": "rgb(36,36,36)",
             "gridcolor": "white",
             "linecolor": "white",
             "minorgridcolor": "white",
             "startlinecolor": "rgb(36,36,36)"
            },
            "type": "carpet"
           }
          ],
          "choropleth": [
           {
            "colorbar": {
             "outlinewidth": 1,
             "tickcolor": "rgb(36,36,36)",
             "ticks": "outside"
            },
            "type": "choropleth"
           }
          ],
          "contour": [
           {
            "colorbar": {
             "outlinewidth": 1,
             "tickcolor": "rgb(36,36,36)",
             "ticks": "outside"
            },
            "colorscale": [
             [
              0,
              "#440154"
             ],
             [
              0.1111111111111111,
              "#482878"
             ],
             [
              0.2222222222222222,
              "#3e4989"
             ],
             [
              0.3333333333333333,
              "#31688e"
             ],
             [
              0.4444444444444444,
              "#26828e"
             ],
             [
              0.5555555555555556,
              "#1f9e89"
             ],
             [
              0.6666666666666666,
              "#35b779"
             ],
             [
              0.7777777777777778,
              "#6ece58"
             ],
             [
              0.8888888888888888,
              "#b5de2b"
             ],
             [
              1,
              "#fde725"
             ]
            ],
            "type": "contour"
           }
          ],
          "contourcarpet": [
           {
            "colorbar": {
             "outlinewidth": 1,
             "tickcolor": "rgb(36,36,36)",
             "ticks": "outside"
            },
            "type": "contourcarpet"
           }
          ],
          "heatmap": [
           {
            "colorbar": {
             "outlinewidth": 1,
             "tickcolor": "rgb(36,36,36)",
             "ticks": "outside"
            },
            "colorscale": [
             [
              0,
              "#440154"
             ],
             [
              0.1111111111111111,
              "#482878"
             ],
             [
              0.2222222222222222,
              "#3e4989"
             ],
             [
              0.3333333333333333,
              "#31688e"
             ],
             [
              0.4444444444444444,
              "#26828e"
             ],
             [
              0.5555555555555556,
              "#1f9e89"
             ],
             [
              0.6666666666666666,
              "#35b779"
             ],
             [
              0.7777777777777778,
              "#6ece58"
             ],
             [
              0.8888888888888888,
              "#b5de2b"
             ],
             [
              1,
              "#fde725"
             ]
            ],
            "type": "heatmap"
           }
          ],
          "heatmapgl": [
           {
            "colorbar": {
             "outlinewidth": 1,
             "tickcolor": "rgb(36,36,36)",
             "ticks": "outside"
            },
            "colorscale": [
             [
              0,
              "#440154"
             ],
             [
              0.1111111111111111,
              "#482878"
             ],
             [
              0.2222222222222222,
              "#3e4989"
             ],
             [
              0.3333333333333333,
              "#31688e"
             ],
             [
              0.4444444444444444,
              "#26828e"
             ],
             [
              0.5555555555555556,
              "#1f9e89"
             ],
             [
              0.6666666666666666,
              "#35b779"
             ],
             [
              0.7777777777777778,
              "#6ece58"
             ],
             [
              0.8888888888888888,
              "#b5de2b"
             ],
             [
              1,
              "#fde725"
             ]
            ],
            "type": "heatmapgl"
           }
          ],
          "histogram": [
           {
            "marker": {
             "line": {
              "color": "white",
              "width": 0.6
             }
            },
            "type": "histogram"
           }
          ],
          "histogram2d": [
           {
            "colorbar": {
             "outlinewidth": 1,
             "tickcolor": "rgb(36,36,36)",
             "ticks": "outside"
            },
            "colorscale": [
             [
              0,
              "#440154"
             ],
             [
              0.1111111111111111,
              "#482878"
             ],
             [
              0.2222222222222222,
              "#3e4989"
             ],
             [
              0.3333333333333333,
              "#31688e"
             ],
             [
              0.4444444444444444,
              "#26828e"
             ],
             [
              0.5555555555555556,
              "#1f9e89"
             ],
             [
              0.6666666666666666,
              "#35b779"
             ],
             [
              0.7777777777777778,
              "#6ece58"
             ],
             [
              0.8888888888888888,
              "#b5de2b"
             ],
             [
              1,
              "#fde725"
             ]
            ],
            "type": "histogram2d"
           }
          ],
          "histogram2dcontour": [
           {
            "colorbar": {
             "outlinewidth": 1,
             "tickcolor": "rgb(36,36,36)",
             "ticks": "outside"
            },
            "colorscale": [
             [
              0,
              "#440154"
             ],
             [
              0.1111111111111111,
              "#482878"
             ],
             [
              0.2222222222222222,
              "#3e4989"
             ],
             [
              0.3333333333333333,
              "#31688e"
             ],
             [
              0.4444444444444444,
              "#26828e"
             ],
             [
              0.5555555555555556,
              "#1f9e89"
             ],
             [
              0.6666666666666666,
              "#35b779"
             ],
             [
              0.7777777777777778,
              "#6ece58"
             ],
             [
              0.8888888888888888,
              "#b5de2b"
             ],
             [
              1,
              "#fde725"
             ]
            ],
            "type": "histogram2dcontour"
           }
          ],
          "mesh3d": [
           {
            "colorbar": {
             "outlinewidth": 1,
             "tickcolor": "rgb(36,36,36)",
             "ticks": "outside"
            },
            "type": "mesh3d"
           }
          ],
          "parcoords": [
           {
            "line": {
             "colorbar": {
              "outlinewidth": 1,
              "tickcolor": "rgb(36,36,36)",
              "ticks": "outside"
             }
            },
            "type": "parcoords"
           }
          ],
          "pie": [
           {
            "automargin": true,
            "type": "pie"
           }
          ],
          "scatter": [
           {
            "fillpattern": {
             "fillmode": "overlay",
             "size": 10,
             "solidity": 0.2
            },
            "type": "scatter"
           }
          ],
          "scatter3d": [
           {
            "line": {
             "colorbar": {
              "outlinewidth": 1,
              "tickcolor": "rgb(36,36,36)",
              "ticks": "outside"
             }
            },
            "marker": {
             "colorbar": {
              "outlinewidth": 1,
              "tickcolor": "rgb(36,36,36)",
              "ticks": "outside"
             }
            },
            "type": "scatter3d"
           }
          ],
          "scattercarpet": [
           {
            "marker": {
             "colorbar": {
              "outlinewidth": 1,
              "tickcolor": "rgb(36,36,36)",
              "ticks": "outside"
             }
            },
            "type": "scattercarpet"
           }
          ],
          "scattergeo": [
           {
            "marker": {
             "colorbar": {
              "outlinewidth": 1,
              "tickcolor": "rgb(36,36,36)",
              "ticks": "outside"
             }
            },
            "type": "scattergeo"
           }
          ],
          "scattergl": [
           {
            "marker": {
             "colorbar": {
              "outlinewidth": 1,
              "tickcolor": "rgb(36,36,36)",
              "ticks": "outside"
             }
            },
            "type": "scattergl"
           }
          ],
          "scattermapbox": [
           {
            "marker": {
             "colorbar": {
              "outlinewidth": 1,
              "tickcolor": "rgb(36,36,36)",
              "ticks": "outside"
             }
            },
            "type": "scattermapbox"
           }
          ],
          "scatterpolar": [
           {
            "marker": {
             "colorbar": {
              "outlinewidth": 1,
              "tickcolor": "rgb(36,36,36)",
              "ticks": "outside"
             }
            },
            "type": "scatterpolar"
           }
          ],
          "scatterpolargl": [
           {
            "marker": {
             "colorbar": {
              "outlinewidth": 1,
              "tickcolor": "rgb(36,36,36)",
              "ticks": "outside"
             }
            },
            "type": "scatterpolargl"
           }
          ],
          "scatterternary": [
           {
            "marker": {
             "colorbar": {
              "outlinewidth": 1,
              "tickcolor": "rgb(36,36,36)",
              "ticks": "outside"
             }
            },
            "type": "scatterternary"
           }
          ],
          "surface": [
           {
            "colorbar": {
             "outlinewidth": 1,
             "tickcolor": "rgb(36,36,36)",
             "ticks": "outside"
            },
            "colorscale": [
             [
              0,
              "#440154"
             ],
             [
              0.1111111111111111,
              "#482878"
             ],
             [
              0.2222222222222222,
              "#3e4989"
             ],
             [
              0.3333333333333333,
              "#31688e"
             ],
             [
              0.4444444444444444,
              "#26828e"
             ],
             [
              0.5555555555555556,
              "#1f9e89"
             ],
             [
              0.6666666666666666,
              "#35b779"
             ],
             [
              0.7777777777777778,
              "#6ece58"
             ],
             [
              0.8888888888888888,
              "#b5de2b"
             ],
             [
              1,
              "#fde725"
             ]
            ],
            "type": "surface"
           }
          ],
          "table": [
           {
            "cells": {
             "fill": {
              "color": "rgb(237,237,237)"
             },
             "line": {
              "color": "white"
             }
            },
            "header": {
             "fill": {
              "color": "rgb(217,217,217)"
             },
             "line": {
              "color": "white"
             }
            },
            "type": "table"
           }
          ]
         },
         "layout": {
          "annotationdefaults": {
           "arrowhead": 0,
           "arrowwidth": 1
          },
          "autotypenumbers": "strict",
          "coloraxis": {
           "colorbar": {
            "outlinewidth": 1,
            "tickcolor": "rgb(36,36,36)",
            "ticks": "outside"
           }
          },
          "colorscale": {
           "diverging": [
            [
             0,
             "rgb(103,0,31)"
            ],
            [
             0.1,
             "rgb(178,24,43)"
            ],
            [
             0.2,
             "rgb(214,96,77)"
            ],
            [
             0.3,
             "rgb(244,165,130)"
            ],
            [
             0.4,
             "rgb(253,219,199)"
            ],
            [
             0.5,
             "rgb(247,247,247)"
            ],
            [
             0.6,
             "rgb(209,229,240)"
            ],
            [
             0.7,
             "rgb(146,197,222)"
            ],
            [
             0.8,
             "rgb(67,147,195)"
            ],
            [
             0.9,
             "rgb(33,102,172)"
            ],
            [
             1,
             "rgb(5,48,97)"
            ]
           ],
           "sequential": [
            [
             0,
             "#440154"
            ],
            [
             0.1111111111111111,
             "#482878"
            ],
            [
             0.2222222222222222,
             "#3e4989"
            ],
            [
             0.3333333333333333,
             "#31688e"
            ],
            [
             0.4444444444444444,
             "#26828e"
            ],
            [
             0.5555555555555556,
             "#1f9e89"
            ],
            [
             0.6666666666666666,
             "#35b779"
            ],
            [
             0.7777777777777778,
             "#6ece58"
            ],
            [
             0.8888888888888888,
             "#b5de2b"
            ],
            [
             1,
             "#fde725"
            ]
           ],
           "sequentialminus": [
            [
             0,
             "#440154"
            ],
            [
             0.1111111111111111,
             "#482878"
            ],
            [
             0.2222222222222222,
             "#3e4989"
            ],
            [
             0.3333333333333333,
             "#31688e"
            ],
            [
             0.4444444444444444,
             "#26828e"
            ],
            [
             0.5555555555555556,
             "#1f9e89"
            ],
            [
             0.6666666666666666,
             "#35b779"
            ],
            [
             0.7777777777777778,
             "#6ece58"
            ],
            [
             0.8888888888888888,
             "#b5de2b"
            ],
            [
             1,
             "#fde725"
            ]
           ]
          },
          "colorway": [
           "#1F77B4",
           "#FF7F0E",
           "#2CA02C",
           "#D62728",
           "#9467BD",
           "#8C564B",
           "#E377C2",
           "#7F7F7F",
           "#BCBD22",
           "#17BECF"
          ],
          "font": {
           "color": "rgb(36,36,36)"
          },
          "geo": {
           "bgcolor": "white",
           "lakecolor": "white",
           "landcolor": "white",
           "showlakes": true,
           "showland": true,
           "subunitcolor": "white"
          },
          "hoverlabel": {
           "align": "left"
          },
          "hovermode": "closest",
          "mapbox": {
           "style": "light"
          },
          "paper_bgcolor": "white",
          "plot_bgcolor": "white",
          "polar": {
           "angularaxis": {
            "gridcolor": "rgb(232,232,232)",
            "linecolor": "rgb(36,36,36)",
            "showgrid": false,
            "showline": true,
            "ticks": "outside"
           },
           "bgcolor": "white",
           "radialaxis": {
            "gridcolor": "rgb(232,232,232)",
            "linecolor": "rgb(36,36,36)",
            "showgrid": false,
            "showline": true,
            "ticks": "outside"
           }
          },
          "scene": {
           "xaxis": {
            "backgroundcolor": "white",
            "gridcolor": "rgb(232,232,232)",
            "gridwidth": 2,
            "linecolor": "rgb(36,36,36)",
            "showbackground": true,
            "showgrid": false,
            "showline": true,
            "ticks": "outside",
            "zeroline": false,
            "zerolinecolor": "rgb(36,36,36)"
           },
           "yaxis": {
            "backgroundcolor": "white",
            "gridcolor": "rgb(232,232,232)",
            "gridwidth": 2,
            "linecolor": "rgb(36,36,36)",
            "showbackground": true,
            "showgrid": false,
            "showline": true,
            "ticks": "outside",
            "zeroline": false,
            "zerolinecolor": "rgb(36,36,36)"
           },
           "zaxis": {
            "backgroundcolor": "white",
            "gridcolor": "rgb(232,232,232)",
            "gridwidth": 2,
            "linecolor": "rgb(36,36,36)",
            "showbackground": true,
            "showgrid": false,
            "showline": true,
            "ticks": "outside",
            "zeroline": false,
            "zerolinecolor": "rgb(36,36,36)"
           }
          },
          "shapedefaults": {
           "fillcolor": "black",
           "line": {
            "width": 0
           },
           "opacity": 0.3
          },
          "ternary": {
           "aaxis": {
            "gridcolor": "rgb(232,232,232)",
            "linecolor": "rgb(36,36,36)",
            "showgrid": false,
            "showline": true,
            "ticks": "outside"
           },
           "baxis": {
            "gridcolor": "rgb(232,232,232)",
            "linecolor": "rgb(36,36,36)",
            "showgrid": false,
            "showline": true,
            "ticks": "outside"
           },
           "bgcolor": "white",
           "caxis": {
            "gridcolor": "rgb(232,232,232)",
            "linecolor": "rgb(36,36,36)",
            "showgrid": false,
            "showline": true,
            "ticks": "outside"
           }
          },
          "title": {
           "x": 0.05
          },
          "xaxis": {
           "automargin": true,
           "gridcolor": "rgb(232,232,232)",
           "linecolor": "rgb(36,36,36)",
           "showgrid": false,
           "showline": true,
           "ticks": "outside",
           "title": {
            "standoff": 15
           },
           "zeroline": false,
           "zerolinecolor": "rgb(36,36,36)"
          },
          "yaxis": {
           "automargin": true,
           "gridcolor": "rgb(232,232,232)",
           "linecolor": "rgb(36,36,36)",
           "showgrid": false,
           "showline": true,
           "ticks": "outside",
           "title": {
            "standoff": 15
           },
           "zeroline": false,
           "zerolinecolor": "rgb(36,36,36)"
          }
         }
        },
        "title": {
         "font": {
          "color": "Black",
          "size": 22
         },
         "text": "<b>Intertopic Distance Map</b>",
         "x": 0.5,
         "xanchor": "center",
         "y": 0.95,
         "yanchor": "top"
        },
        "width": 650,
        "xaxis": {
         "anchor": "y",
         "domain": [
          0,
          1
         ],
         "range": [
          -6.7411689281463625,
          20.771631526947022
         ],
         "title": {
          "text": ""
         },
         "visible": false
        },
        "yaxis": {
         "anchor": "x",
         "domain": [
          0,
          1
         ],
         "range": [
          -11.170450448989868,
          14.929820251464843
         ],
         "title": {
          "text": ""
         },
         "visible": false
        }
       }
      }
     },
     "metadata": {},
     "output_type": "display_data"
    }
   ],
   "source": [
    "# Visualize the topics\n",
    "topic_model.visualize_topics()"
   ]
  },
  {
   "cell_type": "code",
   "execution_count": 8,
   "metadata": {},
   "outputs": [
    {
     "data": {
      "application/vnd.plotly.v1+json": {
       "config": {
        "plotlyServerURL": "https://plot.ly"
       },
       "data": [
        {
         "marker": {
          "color": "#C8D2D7",
          "line": {
           "color": "#6E8484",
           "width": 1
          }
         },
         "orientation": "h",
         "type": "bar",
         "x": [
          0.724882724575053,
          0.39634829572676894,
          0.3616060920883433,
          0.741687132241921,
          0.7639659973664551,
          0.7454263331793207,
          0.6195537554810444,
          0.4880341143131078,
          0.565055118907011,
          0.7498788451588605,
          0.7745052307591898,
          0.565055118907011,
          0.9622088217183479,
          0.8198667554719593,
          0.8732398862913395,
          0.848166783192843,
          0.9344882229949019,
          1,
          1,
          1,
          1,
          1,
          1,
          1,
          1,
          1,
          1,
          1,
          1,
          1,
          1,
          1,
          1
         ],
         "y": [
          "<b>Topic 0</b>: student_internet_medium_...",
          "<b>Topic 1</b>: library_museum_journal_p...",
          "<b>Topic 2</b>: open source_floss_softwa...",
          "<b>Topic 3</b>: pandemic_covid_covid pan...",
          "<b>Topic 5</b>: bb ecommerce_bb_business...",
          "<b>Topic 6</b>: urban_screen_city_space_...",
          "<b>Topic 8</b>: music_music industry_art...",
          "<b>Topic 9</b>: ai_intelligence_artifici...",
          "<b>Topic 11</b>: russia_russian_ukraine_...",
          "<b>Topic 12</b>: gifting_gift_tangible_t...",
          "<b>Topic 13</b>: available available_ava...",
          "<b>Topic 14</b>: gambling_wellbeing_thir...",
          "<b>Topic 16</b>: instagram_online impuls...",
          "<b>Topic 17</b>: openness_oer_open_ocw_o...",
          "<b>Topic 18</b>: online news_news_dotcom...",
          "<b>Topic 19</b>: hiv_sex_hivaids_survivo...",
          "<b>Topic 20</b>: music_imagined network_...",
          "<b>Topic 21</b>: world_virtual world_onl...",
          "<b>Topic 22</b>: issue open source_speci...",
          "<b>Topic 23</b>: woman_computing_computi...",
          "<b>Topic 25</b>: telecommunication_moroc...",
          "<b>Topic 26</b>: link_site_web_web site_...",
          "<b>Topic 27</b>: intention_theory_predic...",
          "<b>Topic 28</b>: wikipedia_edits_researc...",
          "<b>Topic 30</b>: article paper included_...",
          "<b>Topic 31</b>: video evidence_video_po...",
          "<b>Topic 33</b>: youth_youth activist_ci...",
          "<b>Topic 34</b>: herbarium_plant_botanic...",
          "<b>Topic 35</b>: childrens_child_social ...",
          "<b>Topic 36</b>: disaster_crisis_terrori...",
          "<b>Topic 38</b>: game_racism_fifa_realis...",
          "<b>Topic 39</b>: protest_singapore_twitt...",
          "<b>Topic 40</b>: subsaharan africa_subsa..."
         ]
        }
       ],
       "layout": {
        "height": 600,
        "hoverlabel": {
         "bgcolor": "white",
         "font": {
          "family": "Rockwell",
          "size": 16
         }
        },
        "template": {
         "data": {
          "bar": [
           {
            "error_x": {
             "color": "rgb(36,36,36)"
            },
            "error_y": {
             "color": "rgb(36,36,36)"
            },
            "marker": {
             "line": {
              "color": "white",
              "width": 0.5
             },
             "pattern": {
              "fillmode": "overlay",
              "size": 10,
              "solidity": 0.2
             }
            },
            "type": "bar"
           }
          ],
          "barpolar": [
           {
            "marker": {
             "line": {
              "color": "white",
              "width": 0.5
             },
             "pattern": {
              "fillmode": "overlay",
              "size": 10,
              "solidity": 0.2
             }
            },
            "type": "barpolar"
           }
          ],
          "carpet": [
           {
            "aaxis": {
             "endlinecolor": "rgb(36,36,36)",
             "gridcolor": "white",
             "linecolor": "white",
             "minorgridcolor": "white",
             "startlinecolor": "rgb(36,36,36)"
            },
            "baxis": {
             "endlinecolor": "rgb(36,36,36)",
             "gridcolor": "white",
             "linecolor": "white",
             "minorgridcolor": "white",
             "startlinecolor": "rgb(36,36,36)"
            },
            "type": "carpet"
           }
          ],
          "choropleth": [
           {
            "colorbar": {
             "outlinewidth": 1,
             "tickcolor": "rgb(36,36,36)",
             "ticks": "outside"
            },
            "type": "choropleth"
           }
          ],
          "contour": [
           {
            "colorbar": {
             "outlinewidth": 1,
             "tickcolor": "rgb(36,36,36)",
             "ticks": "outside"
            },
            "colorscale": [
             [
              0,
              "#440154"
             ],
             [
              0.1111111111111111,
              "#482878"
             ],
             [
              0.2222222222222222,
              "#3e4989"
             ],
             [
              0.3333333333333333,
              "#31688e"
             ],
             [
              0.4444444444444444,
              "#26828e"
             ],
             [
              0.5555555555555556,
              "#1f9e89"
             ],
             [
              0.6666666666666666,
              "#35b779"
             ],
             [
              0.7777777777777778,
              "#6ece58"
             ],
             [
              0.8888888888888888,
              "#b5de2b"
             ],
             [
              1,
              "#fde725"
             ]
            ],
            "type": "contour"
           }
          ],
          "contourcarpet": [
           {
            "colorbar": {
             "outlinewidth": 1,
             "tickcolor": "rgb(36,36,36)",
             "ticks": "outside"
            },
            "type": "contourcarpet"
           }
          ],
          "heatmap": [
           {
            "colorbar": {
             "outlinewidth": 1,
             "tickcolor": "rgb(36,36,36)",
             "ticks": "outside"
            },
            "colorscale": [
             [
              0,
              "#440154"
             ],
             [
              0.1111111111111111,
              "#482878"
             ],
             [
              0.2222222222222222,
              "#3e4989"
             ],
             [
              0.3333333333333333,
              "#31688e"
             ],
             [
              0.4444444444444444,
              "#26828e"
             ],
             [
              0.5555555555555556,
              "#1f9e89"
             ],
             [
              0.6666666666666666,
              "#35b779"
             ],
             [
              0.7777777777777778,
              "#6ece58"
             ],
             [
              0.8888888888888888,
              "#b5de2b"
             ],
             [
              1,
              "#fde725"
             ]
            ],
            "type": "heatmap"
           }
          ],
          "heatmapgl": [
           {
            "colorbar": {
             "outlinewidth": 1,
             "tickcolor": "rgb(36,36,36)",
             "ticks": "outside"
            },
            "colorscale": [
             [
              0,
              "#440154"
             ],
             [
              0.1111111111111111,
              "#482878"
             ],
             [
              0.2222222222222222,
              "#3e4989"
             ],
             [
              0.3333333333333333,
              "#31688e"
             ],
             [
              0.4444444444444444,
              "#26828e"
             ],
             [
              0.5555555555555556,
              "#1f9e89"
             ],
             [
              0.6666666666666666,
              "#35b779"
             ],
             [
              0.7777777777777778,
              "#6ece58"
             ],
             [
              0.8888888888888888,
              "#b5de2b"
             ],
             [
              1,
              "#fde725"
             ]
            ],
            "type": "heatmapgl"
           }
          ],
          "histogram": [
           {
            "marker": {
             "line": {
              "color": "white",
              "width": 0.6
             }
            },
            "type": "histogram"
           }
          ],
          "histogram2d": [
           {
            "colorbar": {
             "outlinewidth": 1,
             "tickcolor": "rgb(36,36,36)",
             "ticks": "outside"
            },
            "colorscale": [
             [
              0,
              "#440154"
             ],
             [
              0.1111111111111111,
              "#482878"
             ],
             [
              0.2222222222222222,
              "#3e4989"
             ],
             [
              0.3333333333333333,
              "#31688e"
             ],
             [
              0.4444444444444444,
              "#26828e"
             ],
             [
              0.5555555555555556,
              "#1f9e89"
             ],
             [
              0.6666666666666666,
              "#35b779"
             ],
             [
              0.7777777777777778,
              "#6ece58"
             ],
             [
              0.8888888888888888,
              "#b5de2b"
             ],
             [
              1,
              "#fde725"
             ]
            ],
            "type": "histogram2d"
           }
          ],
          "histogram2dcontour": [
           {
            "colorbar": {
             "outlinewidth": 1,
             "tickcolor": "rgb(36,36,36)",
             "ticks": "outside"
            },
            "colorscale": [
             [
              0,
              "#440154"
             ],
             [
              0.1111111111111111,
              "#482878"
             ],
             [
              0.2222222222222222,
              "#3e4989"
             ],
             [
              0.3333333333333333,
              "#31688e"
             ],
             [
              0.4444444444444444,
              "#26828e"
             ],
             [
              0.5555555555555556,
              "#1f9e89"
             ],
             [
              0.6666666666666666,
              "#35b779"
             ],
             [
              0.7777777777777778,
              "#6ece58"
             ],
             [
              0.8888888888888888,
              "#b5de2b"
             ],
             [
              1,
              "#fde725"
             ]
            ],
            "type": "histogram2dcontour"
           }
          ],
          "mesh3d": [
           {
            "colorbar": {
             "outlinewidth": 1,
             "tickcolor": "rgb(36,36,36)",
             "ticks": "outside"
            },
            "type": "mesh3d"
           }
          ],
          "parcoords": [
           {
            "line": {
             "colorbar": {
              "outlinewidth": 1,
              "tickcolor": "rgb(36,36,36)",
              "ticks": "outside"
             }
            },
            "type": "parcoords"
           }
          ],
          "pie": [
           {
            "automargin": true,
            "type": "pie"
           }
          ],
          "scatter": [
           {
            "fillpattern": {
             "fillmode": "overlay",
             "size": 10,
             "solidity": 0.2
            },
            "type": "scatter"
           }
          ],
          "scatter3d": [
           {
            "line": {
             "colorbar": {
              "outlinewidth": 1,
              "tickcolor": "rgb(36,36,36)",
              "ticks": "outside"
             }
            },
            "marker": {
             "colorbar": {
              "outlinewidth": 1,
              "tickcolor": "rgb(36,36,36)",
              "ticks": "outside"
             }
            },
            "type": "scatter3d"
           }
          ],
          "scattercarpet": [
           {
            "marker": {
             "colorbar": {
              "outlinewidth": 1,
              "tickcolor": "rgb(36,36,36)",
              "ticks": "outside"
             }
            },
            "type": "scattercarpet"
           }
          ],
          "scattergeo": [
           {
            "marker": {
             "colorbar": {
              "outlinewidth": 1,
              "tickcolor": "rgb(36,36,36)",
              "ticks": "outside"
             }
            },
            "type": "scattergeo"
           }
          ],
          "scattergl": [
           {
            "marker": {
             "colorbar": {
              "outlinewidth": 1,
              "tickcolor": "rgb(36,36,36)",
              "ticks": "outside"
             }
            },
            "type": "scattergl"
           }
          ],
          "scattermapbox": [
           {
            "marker": {
             "colorbar": {
              "outlinewidth": 1,
              "tickcolor": "rgb(36,36,36)",
              "ticks": "outside"
             }
            },
            "type": "scattermapbox"
           }
          ],
          "scatterpolar": [
           {
            "marker": {
             "colorbar": {
              "outlinewidth": 1,
              "tickcolor": "rgb(36,36,36)",
              "ticks": "outside"
             }
            },
            "type": "scatterpolar"
           }
          ],
          "scatterpolargl": [
           {
            "marker": {
             "colorbar": {
              "outlinewidth": 1,
              "tickcolor": "rgb(36,36,36)",
              "ticks": "outside"
             }
            },
            "type": "scatterpolargl"
           }
          ],
          "scatterternary": [
           {
            "marker": {
             "colorbar": {
              "outlinewidth": 1,
              "tickcolor": "rgb(36,36,36)",
              "ticks": "outside"
             }
            },
            "type": "scatterternary"
           }
          ],
          "surface": [
           {
            "colorbar": {
             "outlinewidth": 1,
             "tickcolor": "rgb(36,36,36)",
             "ticks": "outside"
            },
            "colorscale": [
             [
              0,
              "#440154"
             ],
             [
              0.1111111111111111,
              "#482878"
             ],
             [
              0.2222222222222222,
              "#3e4989"
             ],
             [
              0.3333333333333333,
              "#31688e"
             ],
             [
              0.4444444444444444,
              "#26828e"
             ],
             [
              0.5555555555555556,
              "#1f9e89"
             ],
             [
              0.6666666666666666,
              "#35b779"
             ],
             [
              0.7777777777777778,
              "#6ece58"
             ],
             [
              0.8888888888888888,
              "#b5de2b"
             ],
             [
              1,
              "#fde725"
             ]
            ],
            "type": "surface"
           }
          ],
          "table": [
           {
            "cells": {
             "fill": {
              "color": "rgb(237,237,237)"
             },
             "line": {
              "color": "white"
             }
            },
            "header": {
             "fill": {
              "color": "rgb(217,217,217)"
             },
             "line": {
              "color": "white"
             }
            },
            "type": "table"
           }
          ]
         },
         "layout": {
          "annotationdefaults": {
           "arrowhead": 0,
           "arrowwidth": 1
          },
          "autotypenumbers": "strict",
          "coloraxis": {
           "colorbar": {
            "outlinewidth": 1,
            "tickcolor": "rgb(36,36,36)",
            "ticks": "outside"
           }
          },
          "colorscale": {
           "diverging": [
            [
             0,
             "rgb(103,0,31)"
            ],
            [
             0.1,
             "rgb(178,24,43)"
            ],
            [
             0.2,
             "rgb(214,96,77)"
            ],
            [
             0.3,
             "rgb(244,165,130)"
            ],
            [
             0.4,
             "rgb(253,219,199)"
            ],
            [
             0.5,
             "rgb(247,247,247)"
            ],
            [
             0.6,
             "rgb(209,229,240)"
            ],
            [
             0.7,
             "rgb(146,197,222)"
            ],
            [
             0.8,
             "rgb(67,147,195)"
            ],
            [
             0.9,
             "rgb(33,102,172)"
            ],
            [
             1,
             "rgb(5,48,97)"
            ]
           ],
           "sequential": [
            [
             0,
             "#440154"
            ],
            [
             0.1111111111111111,
             "#482878"
            ],
            [
             0.2222222222222222,
             "#3e4989"
            ],
            [
             0.3333333333333333,
             "#31688e"
            ],
            [
             0.4444444444444444,
             "#26828e"
            ],
            [
             0.5555555555555556,
             "#1f9e89"
            ],
            [
             0.6666666666666666,
             "#35b779"
            ],
            [
             0.7777777777777778,
             "#6ece58"
            ],
            [
             0.8888888888888888,
             "#b5de2b"
            ],
            [
             1,
             "#fde725"
            ]
           ],
           "sequentialminus": [
            [
             0,
             "#440154"
            ],
            [
             0.1111111111111111,
             "#482878"
            ],
            [
             0.2222222222222222,
             "#3e4989"
            ],
            [
             0.3333333333333333,
             "#31688e"
            ],
            [
             0.4444444444444444,
             "#26828e"
            ],
            [
             0.5555555555555556,
             "#1f9e89"
            ],
            [
             0.6666666666666666,
             "#35b779"
            ],
            [
             0.7777777777777778,
             "#6ece58"
            ],
            [
             0.8888888888888888,
             "#b5de2b"
            ],
            [
             1,
             "#fde725"
            ]
           ]
          },
          "colorway": [
           "#1F77B4",
           "#FF7F0E",
           "#2CA02C",
           "#D62728",
           "#9467BD",
           "#8C564B",
           "#E377C2",
           "#7F7F7F",
           "#BCBD22",
           "#17BECF"
          ],
          "font": {
           "color": "rgb(36,36,36)"
          },
          "geo": {
           "bgcolor": "white",
           "lakecolor": "white",
           "landcolor": "white",
           "showlakes": true,
           "showland": true,
           "subunitcolor": "white"
          },
          "hoverlabel": {
           "align": "left"
          },
          "hovermode": "closest",
          "mapbox": {
           "style": "light"
          },
          "paper_bgcolor": "white",
          "plot_bgcolor": "white",
          "polar": {
           "angularaxis": {
            "gridcolor": "rgb(232,232,232)",
            "linecolor": "rgb(36,36,36)",
            "showgrid": false,
            "showline": true,
            "ticks": "outside"
           },
           "bgcolor": "white",
           "radialaxis": {
            "gridcolor": "rgb(232,232,232)",
            "linecolor": "rgb(36,36,36)",
            "showgrid": false,
            "showline": true,
            "ticks": "outside"
           }
          },
          "scene": {
           "xaxis": {
            "backgroundcolor": "white",
            "gridcolor": "rgb(232,232,232)",
            "gridwidth": 2,
            "linecolor": "rgb(36,36,36)",
            "showbackground": true,
            "showgrid": false,
            "showline": true,
            "ticks": "outside",
            "zeroline": false,
            "zerolinecolor": "rgb(36,36,36)"
           },
           "yaxis": {
            "backgroundcolor": "white",
            "gridcolor": "rgb(232,232,232)",
            "gridwidth": 2,
            "linecolor": "rgb(36,36,36)",
            "showbackground": true,
            "showgrid": false,
            "showline": true,
            "ticks": "outside",
            "zeroline": false,
            "zerolinecolor": "rgb(36,36,36)"
           },
           "zaxis": {
            "backgroundcolor": "white",
            "gridcolor": "rgb(232,232,232)",
            "gridwidth": 2,
            "linecolor": "rgb(36,36,36)",
            "showbackground": true,
            "showgrid": false,
            "showline": true,
            "ticks": "outside",
            "zeroline": false,
            "zerolinecolor": "rgb(36,36,36)"
           }
          },
          "shapedefaults": {
           "fillcolor": "black",
           "line": {
            "width": 0
           },
           "opacity": 0.3
          },
          "ternary": {
           "aaxis": {
            "gridcolor": "rgb(232,232,232)",
            "linecolor": "rgb(36,36,36)",
            "showgrid": false,
            "showline": true,
            "ticks": "outside"
           },
           "baxis": {
            "gridcolor": "rgb(232,232,232)",
            "linecolor": "rgb(36,36,36)",
            "showgrid": false,
            "showline": true,
            "ticks": "outside"
           },
           "bgcolor": "white",
           "caxis": {
            "gridcolor": "rgb(232,232,232)",
            "linecolor": "rgb(36,36,36)",
            "showgrid": false,
            "showline": true,
            "ticks": "outside"
           }
          },
          "title": {
           "x": 0.05
          },
          "xaxis": {
           "automargin": true,
           "gridcolor": "rgb(232,232,232)",
           "linecolor": "rgb(36,36,36)",
           "showgrid": false,
           "showline": true,
           "ticks": "outside",
           "title": {
            "standoff": 15
           },
           "zeroline": false,
           "zerolinecolor": "rgb(36,36,36)"
          },
          "yaxis": {
           "automargin": true,
           "gridcolor": "rgb(232,232,232)",
           "linecolor": "rgb(36,36,36)",
           "showgrid": false,
           "showline": true,
           "ticks": "outside",
           "title": {
            "standoff": 15
           },
           "zeroline": false,
           "zerolinecolor": "rgb(36,36,36)"
          }
         }
        },
        "title": {
         "font": {
          "color": "Black",
          "size": 22
         },
         "text": "<b>Topic Probability Distribution</b>",
         "x": 0.5,
         "xanchor": "center",
         "y": 0.95,
         "yanchor": "top"
        },
        "width": 800,
        "xaxis": {
         "title": {
          "text": "Probability"
         }
        }
       }
      }
     },
     "metadata": {},
     "output_type": "display_data"
    }
   ],
   "source": [
    "topic_model.visualize_distribution(probabilities)"
   ]
  },
  {
   "cell_type": "code",
   "execution_count": 9,
   "metadata": {},
   "outputs": [
    {
     "data": {
      "application/vnd.plotly.v1+json": {
       "config": {
        "plotlyServerURL": "https://plot.ly"
       },
       "data": [
        {
         "hoverinfo": "text",
         "marker": {
          "color": "rgb(61,153,112)"
         },
         "mode": "lines",
         "type": "scatter",
         "x": [
          0,
          0.6748607588053795,
          0.6748607588053795,
          0
         ],
         "xaxis": "x",
         "y": [
          -5,
          -5,
          -15,
          -15
         ],
         "yaxis": "y"
        },
        {
         "hoverinfo": "text",
         "marker": {
          "color": "rgb(255,65,54)"
         },
         "mode": "lines",
         "type": "scatter",
         "x": [
          0,
          0.7906932379007565,
          0.7906932379007565,
          0
         ],
         "xaxis": "x",
         "y": [
          -35,
          -35,
          -45,
          -45
         ],
         "yaxis": "y"
        },
        {
         "hoverinfo": "text",
         "marker": {
          "color": "rgb(255,65,54)"
         },
         "mode": "lines",
         "type": "scatter",
         "x": [
          0,
          0.9269024765764036,
          0.9269024765764036,
          0.7906932379007565
         ],
         "xaxis": "x",
         "y": [
          -25,
          -25,
          -40,
          -40
         ],
         "yaxis": "y"
        },
        {
         "hoverinfo": "text",
         "marker": {
          "color": "rgb(255,65,54)"
         },
         "mode": "lines",
         "type": "scatter",
         "x": [
          0,
          0.8794446314186326,
          0.8794446314186326,
          0
         ],
         "xaxis": "x",
         "y": [
          -55,
          -55,
          -65,
          -65
         ],
         "yaxis": "y"
        },
        {
         "hoverinfo": "text",
         "marker": {
          "color": "rgb(255,65,54)"
         },
         "mode": "lines",
         "type": "scatter",
         "x": [
          0.9269024765764036,
          0.995796750979508,
          0.995796750979508,
          0.8794446314186326
         ],
         "xaxis": "x",
         "y": [
          -32.5,
          -32.5,
          -60,
          -60
         ],
         "yaxis": "y"
        },
        {
         "hoverinfo": "text",
         "marker": {
          "color": "rgb(0,116,217)"
         },
         "mode": "lines",
         "type": "scatter",
         "x": [
          0.6748607588053795,
          1.107299861655107,
          1.107299861655107,
          0.995796750979508
         ],
         "xaxis": "x",
         "y": [
          -10,
          -10,
          -46.25,
          -46.25
         ],
         "yaxis": "y"
        },
        {
         "hoverinfo": "text",
         "marker": {
          "color": "rgb(35,205,205)"
         },
         "mode": "lines",
         "type": "scatter",
         "x": [
          0,
          0.9978247210390686,
          0.9978247210390686,
          0
         ],
         "xaxis": "x",
         "y": [
          -75,
          -75,
          -85,
          -85
         ],
         "yaxis": "y"
        },
        {
         "hoverinfo": "text",
         "marker": {
          "color": "rgb(133,20,75)"
         },
         "mode": "lines",
         "type": "scatter",
         "x": [
          0,
          0.7983549249811358,
          0.7983549249811358,
          0
         ],
         "xaxis": "x",
         "y": [
          -115,
          -115,
          -125,
          -125
         ],
         "yaxis": "y"
        },
        {
         "hoverinfo": "text",
         "marker": {
          "color": "rgb(133,20,75)"
         },
         "mode": "lines",
         "type": "scatter",
         "x": [
          0.7983549249811358,
          0.9183342565071245,
          0.9183342565071245,
          0
         ],
         "xaxis": "x",
         "y": [
          -120,
          -120,
          -135,
          -135
         ],
         "yaxis": "y"
        },
        {
         "hoverinfo": "text",
         "marker": {
          "color": "rgb(133,20,75)"
         },
         "mode": "lines",
         "type": "scatter",
         "x": [
          0,
          0.949350795892263,
          0.949350795892263,
          0.9183342565071245
         ],
         "xaxis": "x",
         "y": [
          -105,
          -105,
          -127.5,
          -127.5
         ],
         "yaxis": "y"
        },
        {
         "hoverinfo": "text",
         "marker": {
          "color": "rgb(133,20,75)"
         },
         "mode": "lines",
         "type": "scatter",
         "x": [
          0,
          0.9640642214772044,
          0.9640642214772044,
          0.949350795892263
         ],
         "xaxis": "x",
         "y": [
          -95,
          -95,
          -116.25,
          -116.25
         ],
         "yaxis": "y"
        },
        {
         "hoverinfo": "text",
         "marker": {
          "color": "rgb(0,116,217)"
         },
         "mode": "lines",
         "type": "scatter",
         "x": [
          0.9978247210390686,
          1.0576313939573923,
          1.0576313939573923,
          0.9640642214772044
         ],
         "xaxis": "x",
         "y": [
          -80,
          -80,
          -105.625,
          -105.625
         ],
         "yaxis": "y"
        },
        {
         "hoverinfo": "text",
         "marker": {
          "color": "rgb(255,220,0)"
         },
         "mode": "lines",
         "type": "scatter",
         "x": [
          0,
          0.8097109814376746,
          0.8097109814376746,
          0
         ],
         "xaxis": "x",
         "y": [
          -145,
          -145,
          -155,
          -155
         ],
         "yaxis": "y"
        },
        {
         "hoverinfo": "text",
         "marker": {
          "color": "rgb(255,220,0)"
         },
         "mode": "lines",
         "type": "scatter",
         "x": [
          0.8097109814376746,
          0.9203114913827188,
          0.9203114913827188,
          0
         ],
         "xaxis": "x",
         "y": [
          -150,
          -150,
          -165,
          -165
         ],
         "yaxis": "y"
        },
        {
         "hoverinfo": "text",
         "marker": {
          "color": "rgb(0,116,217)"
         },
         "mode": "lines",
         "type": "scatter",
         "x": [
          1.0576313939573923,
          1.0748240441317922,
          1.0748240441317922,
          0.9203114913827188
         ],
         "xaxis": "x",
         "y": [
          -92.8125,
          -92.8125,
          -157.5,
          -157.5
         ],
         "yaxis": "y"
        },
        {
         "hoverinfo": "text",
         "marker": {
          "color": "rgb(40,35,35)"
         },
         "mode": "lines",
         "type": "scatter",
         "x": [
          0,
          0.8467163832514766,
          0.8467163832514766,
          0
         ],
         "xaxis": "x",
         "y": [
          -175,
          -175,
          -185,
          -185
         ],
         "yaxis": "y"
        },
        {
         "hoverinfo": "text",
         "marker": {
          "color": "rgb(40,35,35)"
         },
         "mode": "lines",
         "type": "scatter",
         "x": [
          0.8467163832514766,
          0.8688266541772607,
          0.8688266541772607,
          0
         ],
         "xaxis": "x",
         "y": [
          -180,
          -180,
          -195,
          -195
         ],
         "yaxis": "y"
        },
        {
         "hoverinfo": "text",
         "marker": {
          "color": "rgb(0,116,217)"
         },
         "mode": "lines",
         "type": "scatter",
         "x": [
          1.0748240441317922,
          1.1318091211101755,
          1.1318091211101755,
          0.8688266541772607
         ],
         "xaxis": "x",
         "y": [
          -125.15625,
          -125.15625,
          -187.5,
          -187.5
         ],
         "yaxis": "y"
        },
        {
         "hoverinfo": "text",
         "marker": {
          "color": "rgb(61,153,112)"
         },
         "mode": "lines",
         "type": "scatter",
         "x": [
          0,
          0.9136457326076952,
          0.9136457326076952,
          0
         ],
         "xaxis": "x",
         "y": [
          -215,
          -215,
          -225,
          -225
         ],
         "yaxis": "y"
        },
        {
         "hoverinfo": "text",
         "marker": {
          "color": "rgb(61,153,112)"
         },
         "mode": "lines",
         "type": "scatter",
         "x": [
          0,
          0.9581902392209104,
          0.9581902392209104,
          0.9136457326076952
         ],
         "xaxis": "x",
         "y": [
          -205,
          -205,
          -220,
          -220
         ],
         "yaxis": "y"
        },
        {
         "hoverinfo": "text",
         "marker": {
          "color": "rgb(61,153,112)"
         },
         "mode": "lines",
         "type": "scatter",
         "x": [
          0,
          0.8894595188170354,
          0.8894595188170354,
          0
         ],
         "xaxis": "x",
         "y": [
          -235,
          -235,
          -245,
          -245
         ],
         "yaxis": "y"
        },
        {
         "hoverinfo": "text",
         "marker": {
          "color": "rgb(61,153,112)"
         },
         "mode": "lines",
         "type": "scatter",
         "x": [
          0,
          0.6691154354243605,
          0.6691154354243605,
          0
         ],
         "xaxis": "x",
         "y": [
          -255,
          -255,
          -265,
          -265
         ],
         "yaxis": "y"
        },
        {
         "hoverinfo": "text",
         "marker": {
          "color": "rgb(61,153,112)"
         },
         "mode": "lines",
         "type": "scatter",
         "x": [
          0.6691154354243605,
          0.8601737654366705,
          0.8601737654366705,
          0
         ],
         "xaxis": "x",
         "y": [
          -260,
          -260,
          -275,
          -275
         ],
         "yaxis": "y"
        },
        {
         "hoverinfo": "text",
         "marker": {
          "color": "rgb(61,153,112)"
         },
         "mode": "lines",
         "type": "scatter",
         "x": [
          0.8894595188170354,
          0.9209605017586154,
          0.9209605017586154,
          0.8601737654366705
         ],
         "xaxis": "x",
         "y": [
          -240,
          -240,
          -267.5,
          -267.5
         ],
         "yaxis": "y"
        },
        {
         "hoverinfo": "text",
         "marker": {
          "color": "rgb(61,153,112)"
         },
         "mode": "lines",
         "type": "scatter",
         "x": [
          0,
          0.9317980210993099,
          0.9317980210993099,
          0
         ],
         "xaxis": "x",
         "y": [
          -285,
          -285,
          -295,
          -295
         ],
         "yaxis": "y"
        },
        {
         "hoverinfo": "text",
         "marker": {
          "color": "rgb(61,153,112)"
         },
         "mode": "lines",
         "type": "scatter",
         "x": [
          0.9209605017586154,
          0.970201199872663,
          0.970201199872663,
          0.9317980210993099
         ],
         "xaxis": "x",
         "y": [
          -253.75,
          -253.75,
          -290,
          -290
         ],
         "yaxis": "y"
        },
        {
         "hoverinfo": "text",
         "marker": {
          "color": "rgb(61,153,112)"
         },
         "mode": "lines",
         "type": "scatter",
         "x": [
          0.9581902392209104,
          0.9931551888893445,
          0.9931551888893445,
          0.970201199872663
         ],
         "xaxis": "x",
         "y": [
          -212.5,
          -212.5,
          -271.875,
          -271.875
         ],
         "yaxis": "y"
        },
        {
         "hoverinfo": "text",
         "marker": {
          "color": "rgb(255,65,54)"
         },
         "mode": "lines",
         "type": "scatter",
         "x": [
          0,
          0.8836843271647915,
          0.8836843271647915,
          0
         ],
         "xaxis": "x",
         "y": [
          -305,
          -305,
          -315,
          -315
         ],
         "yaxis": "y"
        },
        {
         "hoverinfo": "text",
         "marker": {
          "color": "rgb(35,205,205)"
         },
         "mode": "lines",
         "type": "scatter",
         "x": [
          0,
          0.9006996620378886,
          0.9006996620378886,
          0
         ],
         "xaxis": "x",
         "y": [
          -325,
          -325,
          -335,
          -335
         ],
         "yaxis": "y"
        },
        {
         "hoverinfo": "text",
         "marker": {
          "color": "rgb(35,205,205)"
         },
         "mode": "lines",
         "type": "scatter",
         "x": [
          0,
          0.9049854792071396,
          0.9049854792071396,
          0
         ],
         "xaxis": "x",
         "y": [
          -345,
          -345,
          -355,
          -355
         ],
         "yaxis": "y"
        },
        {
         "hoverinfo": "text",
         "marker": {
          "color": "rgb(35,205,205)"
         },
         "mode": "lines",
         "type": "scatter",
         "x": [
          0.9006996620378886,
          0.9570403986080536,
          0.9570403986080536,
          0.9049854792071396
         ],
         "xaxis": "x",
         "y": [
          -330,
          -330,
          -350,
          -350
         ],
         "yaxis": "y"
        },
        {
         "hoverinfo": "text",
         "marker": {
          "color": "rgb(61,153,112)"
         },
         "mode": "lines",
         "type": "scatter",
         "x": [
          0,
          0.8942847287617166,
          0.8942847287617166,
          0
         ],
         "xaxis": "x",
         "y": [
          -365,
          -365,
          -375,
          -375
         ],
         "yaxis": "y"
        },
        {
         "hoverinfo": "text",
         "marker": {
          "color": "rgb(61,153,112)"
         },
         "mode": "lines",
         "type": "scatter",
         "x": [
          0,
          0.878768352701506,
          0.878768352701506,
          0
         ],
         "xaxis": "x",
         "y": [
          -385,
          -385,
          -395,
          -395
         ],
         "yaxis": "y"
        },
        {
         "hoverinfo": "text",
         "marker": {
          "color": "rgb(61,153,112)"
         },
         "mode": "lines",
         "type": "scatter",
         "x": [
          0.8942847287617166,
          0.9214705471034634,
          0.9214705471034634,
          0.878768352701506
         ],
         "xaxis": "x",
         "y": [
          -370,
          -370,
          -390,
          -390
         ],
         "yaxis": "y"
        },
        {
         "hoverinfo": "text",
         "marker": {
          "color": "rgb(61,153,112)"
         },
         "mode": "lines",
         "type": "scatter",
         "x": [
          0,
          0.8998936474934727,
          0.8998936474934727,
          0
         ],
         "xaxis": "x",
         "y": [
          -405,
          -405,
          -415,
          -415
         ],
         "yaxis": "y"
        },
        {
         "hoverinfo": "text",
         "marker": {
          "color": "rgb(61,153,112)"
         },
         "mode": "lines",
         "type": "scatter",
         "x": [
          0.9214705471034634,
          0.9926240010646314,
          0.9926240010646314,
          0.8998936474934727
         ],
         "xaxis": "x",
         "y": [
          -380,
          -380,
          -410,
          -410
         ],
         "yaxis": "y"
        },
        {
         "hoverinfo": "text",
         "marker": {
          "color": "rgb(0,116,217)"
         },
         "mode": "lines",
         "type": "scatter",
         "x": [
          0.9570403986080536,
          1.011366590292266,
          1.011366590292266,
          0.9926240010646314
         ],
         "xaxis": "x",
         "y": [
          -340,
          -340,
          -395,
          -395
         ],
         "yaxis": "y"
        },
        {
         "hoverinfo": "text",
         "marker": {
          "color": "rgb(0,116,217)"
         },
         "mode": "lines",
         "type": "scatter",
         "x": [
          0.8836843271647915,
          1.0251129937633388,
          1.0251129937633388,
          1.011366590292266
         ],
         "xaxis": "x",
         "y": [
          -310,
          -310,
          -367.5,
          -367.5
         ],
         "yaxis": "y"
        },
        {
         "hoverinfo": "text",
         "marker": {
          "color": "rgb(0,116,217)"
         },
         "mode": "lines",
         "type": "scatter",
         "x": [
          0.9931551888893445,
          1.0357985678090915,
          1.0357985678090915,
          1.0251129937633388
         ],
         "xaxis": "x",
         "y": [
          -242.1875,
          -242.1875,
          -338.75,
          -338.75
         ],
         "yaxis": "y"
        },
        {
         "hoverinfo": "text",
         "marker": {
          "color": "rgb(0,116,217)"
         },
         "mode": "lines",
         "type": "scatter",
         "x": [
          1.1318091211101755,
          1.182430300073172,
          1.182430300073172,
          1.0357985678090915
         ],
         "xaxis": "x",
         "y": [
          -156.328125,
          -156.328125,
          -290.46875,
          -290.46875
         ],
         "yaxis": "y"
        },
        {
         "hoverinfo": "text",
         "marker": {
          "color": "rgb(0,116,217)"
         },
         "mode": "lines",
         "type": "scatter",
         "x": [
          1.107299861655107,
          1.2557936399053573,
          1.2557936399053573,
          1.182430300073172
         ],
         "xaxis": "x",
         "y": [
          -28.125,
          -28.125,
          -223.3984375,
          -223.3984375
         ],
         "yaxis": "y"
        }
       ],
       "layout": {
        "autosize": false,
        "height": 830,
        "hoverlabel": {
         "bgcolor": "white",
         "font": {
          "family": "Rockwell",
          "size": 16
         }
        },
        "hovermode": "closest",
        "plot_bgcolor": "#ECEFF1",
        "showlegend": false,
        "template": {
         "data": {
          "bar": [
           {
            "error_x": {
             "color": "#2a3f5f"
            },
            "error_y": {
             "color": "#2a3f5f"
            },
            "marker": {
             "line": {
              "color": "white",
              "width": 0.5
             },
             "pattern": {
              "fillmode": "overlay",
              "size": 10,
              "solidity": 0.2
             }
            },
            "type": "bar"
           }
          ],
          "barpolar": [
           {
            "marker": {
             "line": {
              "color": "white",
              "width": 0.5
             },
             "pattern": {
              "fillmode": "overlay",
              "size": 10,
              "solidity": 0.2
             }
            },
            "type": "barpolar"
           }
          ],
          "carpet": [
           {
            "aaxis": {
             "endlinecolor": "#2a3f5f",
             "gridcolor": "#C8D4E3",
             "linecolor": "#C8D4E3",
             "minorgridcolor": "#C8D4E3",
             "startlinecolor": "#2a3f5f"
            },
            "baxis": {
             "endlinecolor": "#2a3f5f",
             "gridcolor": "#C8D4E3",
             "linecolor": "#C8D4E3",
             "minorgridcolor": "#C8D4E3",
             "startlinecolor": "#2a3f5f"
            },
            "type": "carpet"
           }
          ],
          "choropleth": [
           {
            "colorbar": {
             "outlinewidth": 0,
             "ticks": ""
            },
            "type": "choropleth"
           }
          ],
          "contour": [
           {
            "colorbar": {
             "outlinewidth": 0,
             "ticks": ""
            },
            "colorscale": [
             [
              0,
              "#0d0887"
             ],
             [
              0.1111111111111111,
              "#46039f"
             ],
             [
              0.2222222222222222,
              "#7201a8"
             ],
             [
              0.3333333333333333,
              "#9c179e"
             ],
             [
              0.4444444444444444,
              "#bd3786"
             ],
             [
              0.5555555555555556,
              "#d8576b"
             ],
             [
              0.6666666666666666,
              "#ed7953"
             ],
             [
              0.7777777777777778,
              "#fb9f3a"
             ],
             [
              0.8888888888888888,
              "#fdca26"
             ],
             [
              1,
              "#f0f921"
             ]
            ],
            "type": "contour"
           }
          ],
          "contourcarpet": [
           {
            "colorbar": {
             "outlinewidth": 0,
             "ticks": ""
            },
            "type": "contourcarpet"
           }
          ],
          "heatmap": [
           {
            "colorbar": {
             "outlinewidth": 0,
             "ticks": ""
            },
            "colorscale": [
             [
              0,
              "#0d0887"
             ],
             [
              0.1111111111111111,
              "#46039f"
             ],
             [
              0.2222222222222222,
              "#7201a8"
             ],
             [
              0.3333333333333333,
              "#9c179e"
             ],
             [
              0.4444444444444444,
              "#bd3786"
             ],
             [
              0.5555555555555556,
              "#d8576b"
             ],
             [
              0.6666666666666666,
              "#ed7953"
             ],
             [
              0.7777777777777778,
              "#fb9f3a"
             ],
             [
              0.8888888888888888,
              "#fdca26"
             ],
             [
              1,
              "#f0f921"
             ]
            ],
            "type": "heatmap"
           }
          ],
          "heatmapgl": [
           {
            "colorbar": {
             "outlinewidth": 0,
             "ticks": ""
            },
            "colorscale": [
             [
              0,
              "#0d0887"
             ],
             [
              0.1111111111111111,
              "#46039f"
             ],
             [
              0.2222222222222222,
              "#7201a8"
             ],
             [
              0.3333333333333333,
              "#9c179e"
             ],
             [
              0.4444444444444444,
              "#bd3786"
             ],
             [
              0.5555555555555556,
              "#d8576b"
             ],
             [
              0.6666666666666666,
              "#ed7953"
             ],
             [
              0.7777777777777778,
              "#fb9f3a"
             ],
             [
              0.8888888888888888,
              "#fdca26"
             ],
             [
              1,
              "#f0f921"
             ]
            ],
            "type": "heatmapgl"
           }
          ],
          "histogram": [
           {
            "marker": {
             "pattern": {
              "fillmode": "overlay",
              "size": 10,
              "solidity": 0.2
             }
            },
            "type": "histogram"
           }
          ],
          "histogram2d": [
           {
            "colorbar": {
             "outlinewidth": 0,
             "ticks": ""
            },
            "colorscale": [
             [
              0,
              "#0d0887"
             ],
             [
              0.1111111111111111,
              "#46039f"
             ],
             [
              0.2222222222222222,
              "#7201a8"
             ],
             [
              0.3333333333333333,
              "#9c179e"
             ],
             [
              0.4444444444444444,
              "#bd3786"
             ],
             [
              0.5555555555555556,
              "#d8576b"
             ],
             [
              0.6666666666666666,
              "#ed7953"
             ],
             [
              0.7777777777777778,
              "#fb9f3a"
             ],
             [
              0.8888888888888888,
              "#fdca26"
             ],
             [
              1,
              "#f0f921"
             ]
            ],
            "type": "histogram2d"
           }
          ],
          "histogram2dcontour": [
           {
            "colorbar": {
             "outlinewidth": 0,
             "ticks": ""
            },
            "colorscale": [
             [
              0,
              "#0d0887"
             ],
             [
              0.1111111111111111,
              "#46039f"
             ],
             [
              0.2222222222222222,
              "#7201a8"
             ],
             [
              0.3333333333333333,
              "#9c179e"
             ],
             [
              0.4444444444444444,
              "#bd3786"
             ],
             [
              0.5555555555555556,
              "#d8576b"
             ],
             [
              0.6666666666666666,
              "#ed7953"
             ],
             [
              0.7777777777777778,
              "#fb9f3a"
             ],
             [
              0.8888888888888888,
              "#fdca26"
             ],
             [
              1,
              "#f0f921"
             ]
            ],
            "type": "histogram2dcontour"
           }
          ],
          "mesh3d": [
           {
            "colorbar": {
             "outlinewidth": 0,
             "ticks": ""
            },
            "type": "mesh3d"
           }
          ],
          "parcoords": [
           {
            "line": {
             "colorbar": {
              "outlinewidth": 0,
              "ticks": ""
             }
            },
            "type": "parcoords"
           }
          ],
          "pie": [
           {
            "automargin": true,
            "type": "pie"
           }
          ],
          "scatter": [
           {
            "fillpattern": {
             "fillmode": "overlay",
             "size": 10,
             "solidity": 0.2
            },
            "type": "scatter"
           }
          ],
          "scatter3d": [
           {
            "line": {
             "colorbar": {
              "outlinewidth": 0,
              "ticks": ""
             }
            },
            "marker": {
             "colorbar": {
              "outlinewidth": 0,
              "ticks": ""
             }
            },
            "type": "scatter3d"
           }
          ],
          "scattercarpet": [
           {
            "marker": {
             "colorbar": {
              "outlinewidth": 0,
              "ticks": ""
             }
            },
            "type": "scattercarpet"
           }
          ],
          "scattergeo": [
           {
            "marker": {
             "colorbar": {
              "outlinewidth": 0,
              "ticks": ""
             }
            },
            "type": "scattergeo"
           }
          ],
          "scattergl": [
           {
            "marker": {
             "colorbar": {
              "outlinewidth": 0,
              "ticks": ""
             }
            },
            "type": "scattergl"
           }
          ],
          "scattermapbox": [
           {
            "marker": {
             "colorbar": {
              "outlinewidth": 0,
              "ticks": ""
             }
            },
            "type": "scattermapbox"
           }
          ],
          "scatterpolar": [
           {
            "marker": {
             "colorbar": {
              "outlinewidth": 0,
              "ticks": ""
             }
            },
            "type": "scatterpolar"
           }
          ],
          "scatterpolargl": [
           {
            "marker": {
             "colorbar": {
              "outlinewidth": 0,
              "ticks": ""
             }
            },
            "type": "scatterpolargl"
           }
          ],
          "scatterternary": [
           {
            "marker": {
             "colorbar": {
              "outlinewidth": 0,
              "ticks": ""
             }
            },
            "type": "scatterternary"
           }
          ],
          "surface": [
           {
            "colorbar": {
             "outlinewidth": 0,
             "ticks": ""
            },
            "colorscale": [
             [
              0,
              "#0d0887"
             ],
             [
              0.1111111111111111,
              "#46039f"
             ],
             [
              0.2222222222222222,
              "#7201a8"
             ],
             [
              0.3333333333333333,
              "#9c179e"
             ],
             [
              0.4444444444444444,
              "#bd3786"
             ],
             [
              0.5555555555555556,
              "#d8576b"
             ],
             [
              0.6666666666666666,
              "#ed7953"
             ],
             [
              0.7777777777777778,
              "#fb9f3a"
             ],
             [
              0.8888888888888888,
              "#fdca26"
             ],
             [
              1,
              "#f0f921"
             ]
            ],
            "type": "surface"
           }
          ],
          "table": [
           {
            "cells": {
             "fill": {
              "color": "#EBF0F8"
             },
             "line": {
              "color": "white"
             }
            },
            "header": {
             "fill": {
              "color": "#C8D4E3"
             },
             "line": {
              "color": "white"
             }
            },
            "type": "table"
           }
          ]
         },
         "layout": {
          "annotationdefaults": {
           "arrowcolor": "#2a3f5f",
           "arrowhead": 0,
           "arrowwidth": 1
          },
          "autotypenumbers": "strict",
          "coloraxis": {
           "colorbar": {
            "outlinewidth": 0,
            "ticks": ""
           }
          },
          "colorscale": {
           "diverging": [
            [
             0,
             "#8e0152"
            ],
            [
             0.1,
             "#c51b7d"
            ],
            [
             0.2,
             "#de77ae"
            ],
            [
             0.3,
             "#f1b6da"
            ],
            [
             0.4,
             "#fde0ef"
            ],
            [
             0.5,
             "#f7f7f7"
            ],
            [
             0.6,
             "#e6f5d0"
            ],
            [
             0.7,
             "#b8e186"
            ],
            [
             0.8,
             "#7fbc41"
            ],
            [
             0.9,
             "#4d9221"
            ],
            [
             1,
             "#276419"
            ]
           ],
           "sequential": [
            [
             0,
             "#0d0887"
            ],
            [
             0.1111111111111111,
             "#46039f"
            ],
            [
             0.2222222222222222,
             "#7201a8"
            ],
            [
             0.3333333333333333,
             "#9c179e"
            ],
            [
             0.4444444444444444,
             "#bd3786"
            ],
            [
             0.5555555555555556,
             "#d8576b"
            ],
            [
             0.6666666666666666,
             "#ed7953"
            ],
            [
             0.7777777777777778,
             "#fb9f3a"
            ],
            [
             0.8888888888888888,
             "#fdca26"
            ],
            [
             1,
             "#f0f921"
            ]
           ],
           "sequentialminus": [
            [
             0,
             "#0d0887"
            ],
            [
             0.1111111111111111,
             "#46039f"
            ],
            [
             0.2222222222222222,
             "#7201a8"
            ],
            [
             0.3333333333333333,
             "#9c179e"
            ],
            [
             0.4444444444444444,
             "#bd3786"
            ],
            [
             0.5555555555555556,
             "#d8576b"
            ],
            [
             0.6666666666666666,
             "#ed7953"
            ],
            [
             0.7777777777777778,
             "#fb9f3a"
            ],
            [
             0.8888888888888888,
             "#fdca26"
            ],
            [
             1,
             "#f0f921"
            ]
           ]
          },
          "colorway": [
           "#636efa",
           "#EF553B",
           "#00cc96",
           "#ab63fa",
           "#FFA15A",
           "#19d3f3",
           "#FF6692",
           "#B6E880",
           "#FF97FF",
           "#FECB52"
          ],
          "font": {
           "color": "#2a3f5f"
          },
          "geo": {
           "bgcolor": "white",
           "lakecolor": "white",
           "landcolor": "white",
           "showlakes": true,
           "showland": true,
           "subunitcolor": "#C8D4E3"
          },
          "hoverlabel": {
           "align": "left"
          },
          "hovermode": "closest",
          "mapbox": {
           "style": "light"
          },
          "paper_bgcolor": "white",
          "plot_bgcolor": "white",
          "polar": {
           "angularaxis": {
            "gridcolor": "#EBF0F8",
            "linecolor": "#EBF0F8",
            "ticks": ""
           },
           "bgcolor": "white",
           "radialaxis": {
            "gridcolor": "#EBF0F8",
            "linecolor": "#EBF0F8",
            "ticks": ""
           }
          },
          "scene": {
           "xaxis": {
            "backgroundcolor": "white",
            "gridcolor": "#DFE8F3",
            "gridwidth": 2,
            "linecolor": "#EBF0F8",
            "showbackground": true,
            "ticks": "",
            "zerolinecolor": "#EBF0F8"
           },
           "yaxis": {
            "backgroundcolor": "white",
            "gridcolor": "#DFE8F3",
            "gridwidth": 2,
            "linecolor": "#EBF0F8",
            "showbackground": true,
            "ticks": "",
            "zerolinecolor": "#EBF0F8"
           },
           "zaxis": {
            "backgroundcolor": "white",
            "gridcolor": "#DFE8F3",
            "gridwidth": 2,
            "linecolor": "#EBF0F8",
            "showbackground": true,
            "ticks": "",
            "zerolinecolor": "#EBF0F8"
           }
          },
          "shapedefaults": {
           "line": {
            "color": "#2a3f5f"
           }
          },
          "ternary": {
           "aaxis": {
            "gridcolor": "#DFE8F3",
            "linecolor": "#A2B1C6",
            "ticks": ""
           },
           "baxis": {
            "gridcolor": "#DFE8F3",
            "linecolor": "#A2B1C6",
            "ticks": ""
           },
           "bgcolor": "white",
           "caxis": {
            "gridcolor": "#DFE8F3",
            "linecolor": "#A2B1C6",
            "ticks": ""
           }
          },
          "title": {
           "x": 0.05
          },
          "xaxis": {
           "automargin": true,
           "gridcolor": "#EBF0F8",
           "linecolor": "#EBF0F8",
           "ticks": "",
           "title": {
            "standoff": 15
           },
           "zerolinecolor": "#EBF0F8",
           "zerolinewidth": 2
          },
          "yaxis": {
           "automargin": true,
           "gridcolor": "#EBF0F8",
           "linecolor": "#EBF0F8",
           "ticks": "",
           "title": {
            "standoff": 15
           },
           "zerolinecolor": "#EBF0F8",
           "zerolinewidth": 2
          }
         }
        },
        "title": {
         "font": {
          "color": "Black",
          "size": 22
         },
         "text": "<b>Hierarchical Clustering</b>",
         "x": 0.5,
         "xanchor": "center",
         "yanchor": "top"
        },
        "width": 1000,
        "xaxis": {
         "mirror": "allticks",
         "rangemode": "tozero",
         "showgrid": false,
         "showline": true,
         "showticklabels": true,
         "ticks": "outside",
         "type": "linear",
         "zeroline": false
        },
        "yaxis": {
         "mirror": "allticks",
         "range": [
          -420,
          0
         ],
         "rangemode": "tozero",
         "showgrid": false,
         "showline": true,
         "showticklabels": true,
         "tickmode": "array",
         "ticks": "outside",
         "ticktext": [
          "20_music_imagined network_n...",
          "8_music_music industry_artist",
          "12_gifting_gift_tangible",
          "15_emoney_bank_epurses",
          "30_article paper included_a...",
          "5_bb ecommerce_bb_business",
          "18_online news_news_dotcom",
          "13_available available_avai...",
          "25_telecommunication_morocc...",
          "32_education_partnership_ed...",
          "29_law_access law_national ...",
          "40_subsaharan africa_subsah...",
          "1_library_museum_journal",
          "34_herbarium_plant_botanical",
          "17_openness_oer_open",
          "2_open source_floss_software",
          "22_issue open source_specia...",
          "4_search_engine_search engine",
          "26_link_site_web",
          "24_disability_accessibility...",
          "28_wikipedia_edits_research...",
          "31_video evidence_video_pol...",
          "9_ai_intelligence_artificial",
          "11_russia_russian_ukraine",
          "39_protest_singapore_twitter",
          "3_pandemic_covid_covid pand...",
          "0_student_internet_medium",
          "7_privacy_poll_opinion",
          "36_disaster_crisis_terroris...",
          "37_information_information ...",
          "27_intention_theory_predict...",
          "16_instagram_online impulse...",
          "41_queer_reading_queer read...",
          "23_woman_computing_computin...",
          "10_shame_sexual_sharing",
          "19_hiv_sex_hivaids",
          "6_urban_screen_city",
          "21_world_virtual world_onli...",
          "38_game_racism_fifa",
          "14_gambling_wellbeing_third...",
          "33_youth_youth activist_civic",
          "35_childrens_child_social d..."
         ],
         "tickvals": [
          -5,
          -15,
          -25,
          -35,
          -45,
          -55,
          -65,
          -75,
          -85,
          -95,
          -105,
          -115,
          -125,
          -135,
          -145,
          -155,
          -165,
          -175,
          -185,
          -195,
          -205,
          -215,
          -225,
          -235,
          -245,
          -255,
          -265,
          -275,
          -285,
          -295,
          -305,
          -315,
          -325,
          -335,
          -345,
          -355,
          -365,
          -375,
          -385,
          -395,
          -405,
          -415
         ],
         "type": "linear",
         "zeroline": false
        }
       }
      }
     },
     "metadata": {},
     "output_type": "display_data"
    }
   ],
   "source": [
    "topic_model.visualize_hierarchy()"
   ]
  },
  {
   "cell_type": "code",
   "execution_count": 10,
   "metadata": {},
   "outputs": [
    {
     "data": {
      "application/vnd.plotly.v1+json": {
       "config": {
        "plotlyServerURL": "https://plot.ly"
       },
       "data": [
        {
         "marker": {
          "color": "#D55E00"
         },
         "orientation": "h",
         "type": "bar",
         "x": [
          0.008068192095213712,
          0.008783568410537686,
          0.008904664562273854,
          0.00921512282573314,
          0.009601266960733369
         ],
         "xaxis": "x",
         "y": [
          "rural  ",
          "political  ",
          "medium  ",
          "internet  ",
          "student  "
         ],
         "yaxis": "y"
        },
        {
         "marker": {
          "color": "#0072B2"
         },
         "orientation": "h",
         "type": "bar",
         "x": [
          0.020019061054464687,
          0.023052988443827527,
          0.03093756757758982,
          0.03426636463710757,
          0.05334850942612408
         ],
         "xaxis": "x2",
         "y": [
          "scholarly  ",
          "publishing  ",
          "journal  ",
          "museum  ",
          "library  "
         ],
         "yaxis": "y2"
        },
        {
         "marker": {
          "color": "#CC79A7"
         },
         "orientation": "h",
         "type": "bar",
         "x": [
          0.030899201192204,
          0.03207775215975602,
          0.03459855316731874,
          0.04133581743957455,
          0.04311619944859092
         ],
         "xaxis": "x3",
         "y": [
          "copyright  ",
          "source  ",
          "software  ",
          "floss  ",
          "open source  "
         ],
         "yaxis": "y3"
        },
        {
         "marker": {
          "color": "#E69F00"
         },
         "orientation": "h",
         "type": "bar",
         "x": [
          0.020312857987655912,
          0.0308716172327475,
          0.03436848652595512,
          0.05534940412057829,
          0.07032448513172666
         ],
         "xaxis": "x4",
         "y": [
          "social  ",
          "health  ",
          "covid pandemic  ",
          "covid  ",
          "pandemic  "
         ],
         "yaxis": "y4"
        },
        {
         "marker": {
          "color": "#56B4E9"
         },
         "orientation": "h",
         "type": "bar",
         "x": [
          0.03872513776673444,
          0.057407169786790495,
          0.07152404925310506,
          0.08010786541356221,
          0.08685101115329315
         ],
         "xaxis": "x5",
         "y": [
          "web  ",
          "query  ",
          "search engine  ",
          "engine  ",
          "search  "
         ],
         "yaxis": "y5"
        },
        {
         "marker": {
          "color": "#009E73"
         },
         "orientation": "h",
         "type": "bar",
         "x": [
          0.0332832702151171,
          0.03524068092325825,
          0.036644412780372455,
          0.04419769122605585,
          0.04689448306645272
         ],
         "xaxis": "x6",
         "y": [
          "ecommerce  ",
          "internet business  ",
          "business  ",
          "bb  ",
          "bb ecommerce  "
         ],
         "yaxis": "y6"
        },
        {
         "marker": {
          "color": "#F0E442"
         },
         "orientation": "h",
         "type": "bar",
         "x": [
          0.03646106935286508,
          0.05249299433659005,
          0.0615034604085943,
          0.077881560124066,
          0.09985340237010076
         ],
         "xaxis": "x7",
         "y": [
          "spatial  ",
          "space  ",
          "city  ",
          "screen  ",
          "urban  "
         ],
         "yaxis": "y7"
        },
        {
         "marker": {
          "color": "#D55E00"
         },
         "orientation": "h",
         "type": "bar",
         "x": [
          0.026030966196637105,
          0.032507455347330814,
          0.03426185328985112,
          0.03666626055100156,
          0.11702788713815857
         ],
         "xaxis": "x8",
         "y": [
          "tm  ",
          "security  ",
          "opinion  ",
          "poll  ",
          "privacy  "
         ],
         "yaxis": "y8"
        }
       ],
       "layout": {
        "annotations": [
         {
          "font": {
           "size": 16
          },
          "showarrow": false,
          "text": "Topic 0",
          "x": 0.0875,
          "xanchor": "center",
          "xref": "paper",
          "y": 1,
          "yanchor": "bottom",
          "yref": "paper"
         },
         {
          "font": {
           "size": 16
          },
          "showarrow": false,
          "text": "Topic 1",
          "x": 0.36250000000000004,
          "xanchor": "center",
          "xref": "paper",
          "y": 1,
          "yanchor": "bottom",
          "yref": "paper"
         },
         {
          "font": {
           "size": 16
          },
          "showarrow": false,
          "text": "Topic 2",
          "x": 0.6375000000000001,
          "xanchor": "center",
          "xref": "paper",
          "y": 1,
          "yanchor": "bottom",
          "yref": "paper"
         },
         {
          "font": {
           "size": 16
          },
          "showarrow": false,
          "text": "Topic 3",
          "x": 0.9125,
          "xanchor": "center",
          "xref": "paper",
          "y": 1,
          "yanchor": "bottom",
          "yref": "paper"
         },
         {
          "font": {
           "size": 16
          },
          "showarrow": false,
          "text": "Topic 4",
          "x": 0.0875,
          "xanchor": "center",
          "xref": "paper",
          "y": 0.4,
          "yanchor": "bottom",
          "yref": "paper"
         },
         {
          "font": {
           "size": 16
          },
          "showarrow": false,
          "text": "Topic 5",
          "x": 0.36250000000000004,
          "xanchor": "center",
          "xref": "paper",
          "y": 0.4,
          "yanchor": "bottom",
          "yref": "paper"
         },
         {
          "font": {
           "size": 16
          },
          "showarrow": false,
          "text": "Topic 6",
          "x": 0.6375000000000001,
          "xanchor": "center",
          "xref": "paper",
          "y": 0.4,
          "yanchor": "bottom",
          "yref": "paper"
         },
         {
          "font": {
           "size": 16
          },
          "showarrow": false,
          "text": "Topic 7",
          "x": 0.9125,
          "xanchor": "center",
          "xref": "paper",
          "y": 0.4,
          "yanchor": "bottom",
          "yref": "paper"
         }
        ],
        "height": 500,
        "hoverlabel": {
         "bgcolor": "white",
         "font": {
          "family": "Rockwell",
          "size": 16
         }
        },
        "showlegend": false,
        "template": {
         "data": {
          "bar": [
           {
            "error_x": {
             "color": "#2a3f5f"
            },
            "error_y": {
             "color": "#2a3f5f"
            },
            "marker": {
             "line": {
              "color": "white",
              "width": 0.5
             },
             "pattern": {
              "fillmode": "overlay",
              "size": 10,
              "solidity": 0.2
             }
            },
            "type": "bar"
           }
          ],
          "barpolar": [
           {
            "marker": {
             "line": {
              "color": "white",
              "width": 0.5
             },
             "pattern": {
              "fillmode": "overlay",
              "size": 10,
              "solidity": 0.2
             }
            },
            "type": "barpolar"
           }
          ],
          "carpet": [
           {
            "aaxis": {
             "endlinecolor": "#2a3f5f",
             "gridcolor": "#C8D4E3",
             "linecolor": "#C8D4E3",
             "minorgridcolor": "#C8D4E3",
             "startlinecolor": "#2a3f5f"
            },
            "baxis": {
             "endlinecolor": "#2a3f5f",
             "gridcolor": "#C8D4E3",
             "linecolor": "#C8D4E3",
             "minorgridcolor": "#C8D4E3",
             "startlinecolor": "#2a3f5f"
            },
            "type": "carpet"
           }
          ],
          "choropleth": [
           {
            "colorbar": {
             "outlinewidth": 0,
             "ticks": ""
            },
            "type": "choropleth"
           }
          ],
          "contour": [
           {
            "colorbar": {
             "outlinewidth": 0,
             "ticks": ""
            },
            "colorscale": [
             [
              0,
              "#0d0887"
             ],
             [
              0.1111111111111111,
              "#46039f"
             ],
             [
              0.2222222222222222,
              "#7201a8"
             ],
             [
              0.3333333333333333,
              "#9c179e"
             ],
             [
              0.4444444444444444,
              "#bd3786"
             ],
             [
              0.5555555555555556,
              "#d8576b"
             ],
             [
              0.6666666666666666,
              "#ed7953"
             ],
             [
              0.7777777777777778,
              "#fb9f3a"
             ],
             [
              0.8888888888888888,
              "#fdca26"
             ],
             [
              1,
              "#f0f921"
             ]
            ],
            "type": "contour"
           }
          ],
          "contourcarpet": [
           {
            "colorbar": {
             "outlinewidth": 0,
             "ticks": ""
            },
            "type": "contourcarpet"
           }
          ],
          "heatmap": [
           {
            "colorbar": {
             "outlinewidth": 0,
             "ticks": ""
            },
            "colorscale": [
             [
              0,
              "#0d0887"
             ],
             [
              0.1111111111111111,
              "#46039f"
             ],
             [
              0.2222222222222222,
              "#7201a8"
             ],
             [
              0.3333333333333333,
              "#9c179e"
             ],
             [
              0.4444444444444444,
              "#bd3786"
             ],
             [
              0.5555555555555556,
              "#d8576b"
             ],
             [
              0.6666666666666666,
              "#ed7953"
             ],
             [
              0.7777777777777778,
              "#fb9f3a"
             ],
             [
              0.8888888888888888,
              "#fdca26"
             ],
             [
              1,
              "#f0f921"
             ]
            ],
            "type": "heatmap"
           }
          ],
          "heatmapgl": [
           {
            "colorbar": {
             "outlinewidth": 0,
             "ticks": ""
            },
            "colorscale": [
             [
              0,
              "#0d0887"
             ],
             [
              0.1111111111111111,
              "#46039f"
             ],
             [
              0.2222222222222222,
              "#7201a8"
             ],
             [
              0.3333333333333333,
              "#9c179e"
             ],
             [
              0.4444444444444444,
              "#bd3786"
             ],
             [
              0.5555555555555556,
              "#d8576b"
             ],
             [
              0.6666666666666666,
              "#ed7953"
             ],
             [
              0.7777777777777778,
              "#fb9f3a"
             ],
             [
              0.8888888888888888,
              "#fdca26"
             ],
             [
              1,
              "#f0f921"
             ]
            ],
            "type": "heatmapgl"
           }
          ],
          "histogram": [
           {
            "marker": {
             "pattern": {
              "fillmode": "overlay",
              "size": 10,
              "solidity": 0.2
             }
            },
            "type": "histogram"
           }
          ],
          "histogram2d": [
           {
            "colorbar": {
             "outlinewidth": 0,
             "ticks": ""
            },
            "colorscale": [
             [
              0,
              "#0d0887"
             ],
             [
              0.1111111111111111,
              "#46039f"
             ],
             [
              0.2222222222222222,
              "#7201a8"
             ],
             [
              0.3333333333333333,
              "#9c179e"
             ],
             [
              0.4444444444444444,
              "#bd3786"
             ],
             [
              0.5555555555555556,
              "#d8576b"
             ],
             [
              0.6666666666666666,
              "#ed7953"
             ],
             [
              0.7777777777777778,
              "#fb9f3a"
             ],
             [
              0.8888888888888888,
              "#fdca26"
             ],
             [
              1,
              "#f0f921"
             ]
            ],
            "type": "histogram2d"
           }
          ],
          "histogram2dcontour": [
           {
            "colorbar": {
             "outlinewidth": 0,
             "ticks": ""
            },
            "colorscale": [
             [
              0,
              "#0d0887"
             ],
             [
              0.1111111111111111,
              "#46039f"
             ],
             [
              0.2222222222222222,
              "#7201a8"
             ],
             [
              0.3333333333333333,
              "#9c179e"
             ],
             [
              0.4444444444444444,
              "#bd3786"
             ],
             [
              0.5555555555555556,
              "#d8576b"
             ],
             [
              0.6666666666666666,
              "#ed7953"
             ],
             [
              0.7777777777777778,
              "#fb9f3a"
             ],
             [
              0.8888888888888888,
              "#fdca26"
             ],
             [
              1,
              "#f0f921"
             ]
            ],
            "type": "histogram2dcontour"
           }
          ],
          "mesh3d": [
           {
            "colorbar": {
             "outlinewidth": 0,
             "ticks": ""
            },
            "type": "mesh3d"
           }
          ],
          "parcoords": [
           {
            "line": {
             "colorbar": {
              "outlinewidth": 0,
              "ticks": ""
             }
            },
            "type": "parcoords"
           }
          ],
          "pie": [
           {
            "automargin": true,
            "type": "pie"
           }
          ],
          "scatter": [
           {
            "fillpattern": {
             "fillmode": "overlay",
             "size": 10,
             "solidity": 0.2
            },
            "type": "scatter"
           }
          ],
          "scatter3d": [
           {
            "line": {
             "colorbar": {
              "outlinewidth": 0,
              "ticks": ""
             }
            },
            "marker": {
             "colorbar": {
              "outlinewidth": 0,
              "ticks": ""
             }
            },
            "type": "scatter3d"
           }
          ],
          "scattercarpet": [
           {
            "marker": {
             "colorbar": {
              "outlinewidth": 0,
              "ticks": ""
             }
            },
            "type": "scattercarpet"
           }
          ],
          "scattergeo": [
           {
            "marker": {
             "colorbar": {
              "outlinewidth": 0,
              "ticks": ""
             }
            },
            "type": "scattergeo"
           }
          ],
          "scattergl": [
           {
            "marker": {
             "colorbar": {
              "outlinewidth": 0,
              "ticks": ""
             }
            },
            "type": "scattergl"
           }
          ],
          "scattermapbox": [
           {
            "marker": {
             "colorbar": {
              "outlinewidth": 0,
              "ticks": ""
             }
            },
            "type": "scattermapbox"
           }
          ],
          "scatterpolar": [
           {
            "marker": {
             "colorbar": {
              "outlinewidth": 0,
              "ticks": ""
             }
            },
            "type": "scatterpolar"
           }
          ],
          "scatterpolargl": [
           {
            "marker": {
             "colorbar": {
              "outlinewidth": 0,
              "ticks": ""
             }
            },
            "type": "scatterpolargl"
           }
          ],
          "scatterternary": [
           {
            "marker": {
             "colorbar": {
              "outlinewidth": 0,
              "ticks": ""
             }
            },
            "type": "scatterternary"
           }
          ],
          "surface": [
           {
            "colorbar": {
             "outlinewidth": 0,
             "ticks": ""
            },
            "colorscale": [
             [
              0,
              "#0d0887"
             ],
             [
              0.1111111111111111,
              "#46039f"
             ],
             [
              0.2222222222222222,
              "#7201a8"
             ],
             [
              0.3333333333333333,
              "#9c179e"
             ],
             [
              0.4444444444444444,
              "#bd3786"
             ],
             [
              0.5555555555555556,
              "#d8576b"
             ],
             [
              0.6666666666666666,
              "#ed7953"
             ],
             [
              0.7777777777777778,
              "#fb9f3a"
             ],
             [
              0.8888888888888888,
              "#fdca26"
             ],
             [
              1,
              "#f0f921"
             ]
            ],
            "type": "surface"
           }
          ],
          "table": [
           {
            "cells": {
             "fill": {
              "color": "#EBF0F8"
             },
             "line": {
              "color": "white"
             }
            },
            "header": {
             "fill": {
              "color": "#C8D4E3"
             },
             "line": {
              "color": "white"
             }
            },
            "type": "table"
           }
          ]
         },
         "layout": {
          "annotationdefaults": {
           "arrowcolor": "#2a3f5f",
           "arrowhead": 0,
           "arrowwidth": 1
          },
          "autotypenumbers": "strict",
          "coloraxis": {
           "colorbar": {
            "outlinewidth": 0,
            "ticks": ""
           }
          },
          "colorscale": {
           "diverging": [
            [
             0,
             "#8e0152"
            ],
            [
             0.1,
             "#c51b7d"
            ],
            [
             0.2,
             "#de77ae"
            ],
            [
             0.3,
             "#f1b6da"
            ],
            [
             0.4,
             "#fde0ef"
            ],
            [
             0.5,
             "#f7f7f7"
            ],
            [
             0.6,
             "#e6f5d0"
            ],
            [
             0.7,
             "#b8e186"
            ],
            [
             0.8,
             "#7fbc41"
            ],
            [
             0.9,
             "#4d9221"
            ],
            [
             1,
             "#276419"
            ]
           ],
           "sequential": [
            [
             0,
             "#0d0887"
            ],
            [
             0.1111111111111111,
             "#46039f"
            ],
            [
             0.2222222222222222,
             "#7201a8"
            ],
            [
             0.3333333333333333,
             "#9c179e"
            ],
            [
             0.4444444444444444,
             "#bd3786"
            ],
            [
             0.5555555555555556,
             "#d8576b"
            ],
            [
             0.6666666666666666,
             "#ed7953"
            ],
            [
             0.7777777777777778,
             "#fb9f3a"
            ],
            [
             0.8888888888888888,
             "#fdca26"
            ],
            [
             1,
             "#f0f921"
            ]
           ],
           "sequentialminus": [
            [
             0,
             "#0d0887"
            ],
            [
             0.1111111111111111,
             "#46039f"
            ],
            [
             0.2222222222222222,
             "#7201a8"
            ],
            [
             0.3333333333333333,
             "#9c179e"
            ],
            [
             0.4444444444444444,
             "#bd3786"
            ],
            [
             0.5555555555555556,
             "#d8576b"
            ],
            [
             0.6666666666666666,
             "#ed7953"
            ],
            [
             0.7777777777777778,
             "#fb9f3a"
            ],
            [
             0.8888888888888888,
             "#fdca26"
            ],
            [
             1,
             "#f0f921"
            ]
           ]
          },
          "colorway": [
           "#636efa",
           "#EF553B",
           "#00cc96",
           "#ab63fa",
           "#FFA15A",
           "#19d3f3",
           "#FF6692",
           "#B6E880",
           "#FF97FF",
           "#FECB52"
          ],
          "font": {
           "color": "#2a3f5f"
          },
          "geo": {
           "bgcolor": "white",
           "lakecolor": "white",
           "landcolor": "white",
           "showlakes": true,
           "showland": true,
           "subunitcolor": "#C8D4E3"
          },
          "hoverlabel": {
           "align": "left"
          },
          "hovermode": "closest",
          "mapbox": {
           "style": "light"
          },
          "paper_bgcolor": "white",
          "plot_bgcolor": "white",
          "polar": {
           "angularaxis": {
            "gridcolor": "#EBF0F8",
            "linecolor": "#EBF0F8",
            "ticks": ""
           },
           "bgcolor": "white",
           "radialaxis": {
            "gridcolor": "#EBF0F8",
            "linecolor": "#EBF0F8",
            "ticks": ""
           }
          },
          "scene": {
           "xaxis": {
            "backgroundcolor": "white",
            "gridcolor": "#DFE8F3",
            "gridwidth": 2,
            "linecolor": "#EBF0F8",
            "showbackground": true,
            "ticks": "",
            "zerolinecolor": "#EBF0F8"
           },
           "yaxis": {
            "backgroundcolor": "white",
            "gridcolor": "#DFE8F3",
            "gridwidth": 2,
            "linecolor": "#EBF0F8",
            "showbackground": true,
            "ticks": "",
            "zerolinecolor": "#EBF0F8"
           },
           "zaxis": {
            "backgroundcolor": "white",
            "gridcolor": "#DFE8F3",
            "gridwidth": 2,
            "linecolor": "#EBF0F8",
            "showbackground": true,
            "ticks": "",
            "zerolinecolor": "#EBF0F8"
           }
          },
          "shapedefaults": {
           "line": {
            "color": "#2a3f5f"
           }
          },
          "ternary": {
           "aaxis": {
            "gridcolor": "#DFE8F3",
            "linecolor": "#A2B1C6",
            "ticks": ""
           },
           "baxis": {
            "gridcolor": "#DFE8F3",
            "linecolor": "#A2B1C6",
            "ticks": ""
           },
           "bgcolor": "white",
           "caxis": {
            "gridcolor": "#DFE8F3",
            "linecolor": "#A2B1C6",
            "ticks": ""
           }
          },
          "title": {
           "x": 0.05
          },
          "xaxis": {
           "automargin": true,
           "gridcolor": "#EBF0F8",
           "linecolor": "#EBF0F8",
           "ticks": "",
           "title": {
            "standoff": 15
           },
           "zerolinecolor": "#EBF0F8",
           "zerolinewidth": 2
          },
          "yaxis": {
           "automargin": true,
           "gridcolor": "#EBF0F8",
           "linecolor": "#EBF0F8",
           "ticks": "",
           "title": {
            "standoff": 15
           },
           "zerolinecolor": "#EBF0F8",
           "zerolinewidth": 2
          }
         }
        },
        "title": {
         "font": {
          "color": "Black",
          "size": 22
         },
         "text": "Topic Word Scores",
         "x": 0.5,
         "xanchor": "center",
         "yanchor": "top"
        },
        "width": 1000,
        "xaxis": {
         "anchor": "y",
         "domain": [
          0,
          0.175
         ],
         "showgrid": true
        },
        "xaxis2": {
         "anchor": "y2",
         "domain": [
          0.275,
          0.45
         ],
         "showgrid": true
        },
        "xaxis3": {
         "anchor": "y3",
         "domain": [
          0.55,
          0.7250000000000001
         ],
         "showgrid": true
        },
        "xaxis4": {
         "anchor": "y4",
         "domain": [
          0.825,
          1
         ],
         "showgrid": true
        },
        "xaxis5": {
         "anchor": "y5",
         "domain": [
          0,
          0.175
         ],
         "showgrid": true
        },
        "xaxis6": {
         "anchor": "y6",
         "domain": [
          0.275,
          0.45
         ],
         "showgrid": true
        },
        "xaxis7": {
         "anchor": "y7",
         "domain": [
          0.55,
          0.7250000000000001
         ],
         "showgrid": true
        },
        "xaxis8": {
         "anchor": "y8",
         "domain": [
          0.825,
          1
         ],
         "showgrid": true
        },
        "yaxis": {
         "anchor": "x",
         "domain": [
          0.6000000000000001,
          1
         ],
         "showgrid": true
        },
        "yaxis2": {
         "anchor": "x2",
         "domain": [
          0.6000000000000001,
          1
         ],
         "showgrid": true
        },
        "yaxis3": {
         "anchor": "x3",
         "domain": [
          0.6000000000000001,
          1
         ],
         "showgrid": true
        },
        "yaxis4": {
         "anchor": "x4",
         "domain": [
          0.6000000000000001,
          1
         ],
         "showgrid": true
        },
        "yaxis5": {
         "anchor": "x5",
         "domain": [
          0,
          0.4
         ],
         "showgrid": true
        },
        "yaxis6": {
         "anchor": "x6",
         "domain": [
          0,
          0.4
         ],
         "showgrid": true
        },
        "yaxis7": {
         "anchor": "x7",
         "domain": [
          0,
          0.4
         ],
         "showgrid": true
        },
        "yaxis8": {
         "anchor": "x8",
         "domain": [
          0,
          0.4
         ],
         "showgrid": true
        }
       }
      }
     },
     "metadata": {},
     "output_type": "display_data"
    }
   ],
   "source": [
    "topic_model.visualize_barchart()"
   ]
  },
  {
   "cell_type": "code",
   "execution_count": 11,
   "metadata": {},
   "outputs": [
    {
     "data": {
      "application/vnd.plotly.v1+json": {
       "config": {
        "plotlyServerURL": "https://plot.ly"
       },
       "data": [
        {
         "coloraxis": "coloraxis",
         "hovertemplate": "x: %{x}<br>y: %{y}<br>Similarity Score: %{z}<extra></extra>",
         "name": "0",
         "type": "heatmap",
         "x": [
          "0_student_internet_medium",
          "1_library_museum_journal",
          "2_open source_floss_software",
          "3_pandemic_covid_covid pand...",
          "4_search_engine_search engine",
          "5_bb ecommerce_bb_business",
          "6_urban_screen_city",
          "7_privacy_poll_opinion",
          "8_music_music industry_artist",
          "9_ai_intelligence_artificial",
          "10_shame_sexual_sharing",
          "11_russia_russian_ukraine",
          "12_gifting_gift_tangible",
          "13_available available_avai...",
          "14_gambling_wellbeing_third...",
          "15_emoney_bank_epurses",
          "16_instagram_online impulse...",
          "17_openness_oer_open",
          "18_online news_news_dotcom",
          "19_hiv_sex_hivaids",
          "20_music_imagined network_n...",
          "21_world_virtual world_onli...",
          "22_issue open source_specia...",
          "23_woman_computing_computin...",
          "24_disability_accessibility...",
          "25_telecommunication_morocc...",
          "26_link_site_web",
          "27_intention_theory_predict...",
          "28_wikipedia_edits_research...",
          "29_law_access law_national ...",
          "30_article paper included_a...",
          "31_video evidence_video_pol...",
          "32_education_partnership_ed...",
          "33_youth_youth activist_civic",
          "34_herbarium_plant_botanical",
          "35_childrens_child_social d...",
          "36_disaster_crisis_terroris...",
          "37_information_information ...",
          "38_game_racism_fifa",
          "39_protest_singapore_twitter",
          "40_subsaharan africa_subsah...",
          "41_queer_reading_queer read..."
         ],
         "xaxis": "x",
         "y": [
          "0_student_internet_medium",
          "1_library_museum_journal",
          "2_open source_floss_software",
          "3_pandemic_covid_covid pand...",
          "4_search_engine_search engine",
          "5_bb ecommerce_bb_business",
          "6_urban_screen_city",
          "7_privacy_poll_opinion",
          "8_music_music industry_artist",
          "9_ai_intelligence_artificial",
          "10_shame_sexual_sharing",
          "11_russia_russian_ukraine",
          "12_gifting_gift_tangible",
          "13_available available_avai...",
          "14_gambling_wellbeing_third...",
          "15_emoney_bank_epurses",
          "16_instagram_online impulse...",
          "17_openness_oer_open",
          "18_online news_news_dotcom",
          "19_hiv_sex_hivaids",
          "20_music_imagined network_n...",
          "21_world_virtual world_onli...",
          "22_issue open source_specia...",
          "23_woman_computing_computin...",
          "24_disability_accessibility...",
          "25_telecommunication_morocc...",
          "26_link_site_web",
          "27_intention_theory_predict...",
          "28_wikipedia_edits_research...",
          "29_law_access law_national ...",
          "30_article paper included_a...",
          "31_video evidence_video_pol...",
          "32_education_partnership_ed...",
          "33_youth_youth activist_civic",
          "34_herbarium_plant_botanical",
          "35_childrens_child_social d...",
          "36_disaster_crisis_terroris...",
          "37_information_information ...",
          "38_game_racism_fifa",
          "39_protest_singapore_twitter",
          "40_subsaharan africa_subsah...",
          "41_queer_reading_queer read..."
         ],
         "yaxis": "y",
         "z": [
          [
           1,
           0.738097790353234,
           0.7626604570961539,
           0.7660604221336851,
           0.6843814169698516,
           0.6785913702818411,
           0.7584063926755921,
           0.791500053040253,
           0.6204803160231496,
           0.725291760295119,
           0.672547214130047,
           0.7163486049152389,
           0.6561658515232424,
           0.09626205746249547,
           0.7376314210672137,
           0.5689936071153034,
           0.646840691461738,
           0.5605422519663765,
           0.6648408516362236,
           0.6828284699698455,
           0.6460081089675732,
           0.6978069061786134,
           0.42960851107583875,
           0.6209036951146888,
           0.6381136316947706,
           0.5839162008237228,
           0.6693493578641283,
           0.6883210505245366,
           0.6277678291271848,
           0.5876468813604464,
           0.430733116692103,
           0.5966079259872621,
           0.6506123663545753,
           0.7703611040460885,
           0.3705471210814563,
           0.5657030513097392,
           0.6928800394734731,
           0.7371449141135252,
           0.6550031172189381,
           0.7181216860044564,
           0.6699109774104128,
           0.6860519751163523
          ],
          [
           0.738097790353234,
           0.9999999999999997,
           0.7215242376414714,
           0.5433380236380839,
           0.6684831594189864,
           0.5447566318608477,
           0.620511196547181,
           0.6514338121808985,
           0.5777791745324921,
           0.5401003692200768,
           0.49434956303430255,
           0.5450069493399197,
           0.5720987290357249,
           0.10292859434569543,
           0.5010229687925358,
           0.47654045594452815,
           0.435737212563887,
           0.6495522052326639,
           0.5433713012841292,
           0.6076174667048153,
           0.5469947737063985,
           0.5279417455341693,
           0.4617219279581528,
           0.4574422331054609,
           0.5954632130924145,
           0.44461822283871977,
           0.5956254217927843,
           0.4053010614734228,
           0.6939839205364263,
           0.5730431977380281,
           0.44404442691248514,
           0.48551070321285517,
           0.5478245277706316,
           0.5601659112955866,
           0.6231568559934209,
           0.5347743973702406,
           0.5750647981155026,
           0.6544101290647617,
           0.4567056466864312,
           0.42770831337024406,
           0.7595758169452321,
           0.4308710038752035
          ],
          [
           0.7626604570961539,
           0.7215242376414714,
           1,
           0.5366003904749231,
           0.5781935276092034,
           0.662099937655515,
           0.6202681581394157,
           0.6461234073731149,
           0.6243415715242255,
           0.6668714860671512,
           0.4868458255308261,
           0.6090539680198288,
           0.6396016048891411,
           0.06279854533322517,
           0.5091882737982779,
           0.49682289602942514,
           0.4343999834176432,
           0.6999474902547902,
           0.5815185302653362,
           0.5382003286258183,
           0.6034668812776438,
           0.6192802342317162,
           0.6167630370320041,
           0.47500560196733,
           0.5365703461915914,
           0.4796984537791422,
           0.5487096508257772,
           0.5253706593009455,
           0.5710140334488769,
           0.668472595189507,
           0.40693982793895567,
           0.5009187705587083,
           0.5486351353977506,
           0.5588214121790276,
           0.3809173156453214,
           0.40537789455581974,
           0.5203289432150374,
           0.6162099367239652,
           0.5404894837654785,
           0.4913061044675636,
           0.6934488889574895,
           0.43460991686115025
          ],
          [
           0.7660604221336851,
           0.5433380236380839,
           0.5366003904749231,
           1.0000000000000007,
           0.48540688319585046,
           0.4174769135419184,
           0.5421441404224443,
           0.6367031884290921,
           0.41834020973592784,
           0.5680174504056598,
           0.576872901223817,
           0.5673451319561538,
           0.4432652662469184,
           0.08427472788580948,
           0.5898382301065083,
           0.4107353915534443,
           0.5353629514185548,
           0.35548369638345895,
           0.4832807101203912,
           0.6838631646176476,
           0.41465149627878195,
           0.554574887273745,
           0.3725700145850086,
           0.4537460516323079,
           0.4970071961923232,
           0.40328151204969415,
           0.4635334246240822,
           0.5271680013754205,
           0.48113935623546944,
           0.4069979413173227,
           0.3558821171287849,
           0.4722131130607503,
           0.46638596266248294,
           0.6283112486554867,
           0.2834145785350067,
           0.3909594096692665,
           0.6841452079337889,
           0.5835164160825779,
           0.6300454595138845,
           0.6671206689291049,
           0.5387955888573908,
           0.5142468366305153
          ],
          [
           0.6843814169698516,
           0.6684831594189864,
           0.5781935276092034,
           0.48540688319585046,
           1.0000000000000002,
           0.6550300400918001,
           0.5055389124788718,
           0.6322732197616193,
           0.48807219088193454,
           0.5038540418303271,
           0.40829259272922863,
           0.4738006004720051,
           0.490334634914699,
           0.07732205359980553,
           0.5670978548868506,
           0.43781445897361854,
           0.45173951388335226,
           0.4880697111309973,
           0.579634213773397,
           0.40453270063446206,
           0.4491763709215505,
           0.42242502841739993,
           0.350456290554097,
           0.45918797415886625,
           0.5943471403069895,
           0.33925033295404877,
           0.7560421605714942,
           0.5135049722815539,
           0.680811646968773,
           0.5081500806411298,
           0.3674421761415906,
           0.36834474924189897,
           0.4260393018346791,
           0.3612838415448359,
           0.4949427137682098,
           0.37734090068022674,
           0.46902698425960665,
           0.7418204418789982,
           0.4001264056146764,
           0.4074434476753976,
           0.5679756984084918,
           0.44008096064555174
          ],
          [
           0.6785913702818411,
           0.5447566318608477,
           0.662099937655515,
           0.4174769135419184,
           0.6550300400918001,
           1.0000000000000009,
           0.5214693081918823,
           0.6313545050045686,
           0.5677867918584709,
           0.4970547027550072,
           0.38382325903937853,
           0.4788381467766506,
           0.6960476237620669,
           0.14461131465429417,
           0.5492188939421544,
           0.6994815724876172,
           0.4680892798021936,
           0.483114798021323,
           0.6887315440451933,
           0.3709189451834192,
           0.47316917279868886,
           0.5187809825229495,
           0.3252537824153158,
           0.39594460655321473,
           0.5022569988196764,
           0.48302129776858943,
           0.578807604666699,
           0.638110797518066,
           0.40537606174874175,
           0.5325030844956005,
           0.43033866488989736,
           0.36662300115422275,
           0.5002861141180452,
           0.3591437723421209,
           0.2692397434515191,
           0.33977248331214294,
           0.42992661878008653,
           0.6778840903514387,
           0.422071166258315,
           0.34130882796624135,
           0.4465330084680575,
           0.3475251973938182
          ],
          [
           0.7584063926755921,
           0.620511196547181,
           0.6202681581394157,
           0.5421441404224443,
           0.5055389124788718,
           0.5214693081918823,
           1.0000000000000009,
           0.5470510317521875,
           0.5346319053140732,
           0.5902763364641348,
           0.5773587624210055,
           0.5172288818182217,
           0.5060463040375782,
           0.07773814569790721,
           0.5729466968198615,
           0.39670515013247476,
           0.5945305362227099,
           0.45622892115638514,
           0.5062903727156105,
           0.5244964422859797,
           0.5982210677565774,
           0.6916806249494932,
           0.30483606174932953,
           0.46375461424067127,
           0.48954742877523383,
           0.44079689778820275,
           0.509144296519708,
           0.5464881591353108,
           0.3966633778195433,
           0.4507300482833835,
           0.3131400264791335,
           0.5615428265938829,
           0.503815218537703,
           0.5813719501957841,
           0.3908204119795161,
           0.5021094558619981,
           0.5311171764538657,
           0.5753279963363076,
           0.5763860688603678,
           0.4987344140489457,
           0.4665238269020623,
           0.519675020765693
          ],
          [
           0.791500053040253,
           0.6514338121808985,
           0.6461234073731149,
           0.6367031884290921,
           0.6322732197616193,
           0.6313545050045686,
           0.5470510317521875,
           1,
           0.49379637144830046,
           0.5647293175104797,
           0.5676217840978293,
           0.5887001896827232,
           0.601093838481801,
           0.09181217937252549,
           0.5779063473271453,
           0.5424150001118677,
           0.5603888810816726,
           0.43299084714862174,
           0.5567257630694625,
           0.5148610749383935,
           0.47626789032283623,
           0.4949341092789351,
           0.43314797238800196,
           0.4292256135697954,
           0.6129226157146763,
           0.4305838964129131,
           0.5714101042213013,
           0.6033534081707177,
           0.5672605672980617,
           0.6352860369126093,
           0.47043992184710764,
           0.5094550682674673,
           0.43634111584722785,
           0.5574785779688272,
           0.33180760176901847,
           0.4637367186946306,
           0.5208374412787888,
           0.684491885723491,
           0.47492980507650573,
           0.5030068811615543,
           0.5647045923224638,
           0.5002534273630039
          ],
          [
           0.6204803160231496,
           0.5777791745324921,
           0.6243415715242255,
           0.41834020973592784,
           0.48807219088193454,
           0.5677867918584709,
           0.5346319053140732,
           0.49379637144830046,
           1.0000000000000007,
           0.47226632204148733,
           0.3925277470473073,
           0.4755943939674465,
           0.578589367837886,
           0.07486397910615963,
           0.48714442094142185,
           0.48811763369357214,
           0.40839324590746207,
           0.3890671592571911,
           0.4881090710807754,
           0.4514882532772994,
           0.8551678836295196,
           0.5338826163628747,
           0.37643054730028747,
           0.40436663242270954,
           0.40732049992242064,
           0.41268035601201886,
           0.4453718753345896,
           0.49158010945927266,
           0.37311157270135137,
           0.5189758878250365,
           0.3331549122544709,
           0.3618171887016398,
           0.4414887025360727,
           0.45876296772229563,
           0.28180726586684035,
           0.3509240658861346,
           0.3850091519112343,
           0.4986648078072863,
           0.424614464281938,
           0.3906334197709692,
           0.5124246546590054,
           0.37652609108997215
          ],
          [
           0.725291760295119,
           0.5401003692200768,
           0.6668714860671512,
           0.5680174504056598,
           0.5038540418303271,
           0.4970547027550072,
           0.5902763364641348,
           0.5647293175104797,
           0.47226632204148733,
           1.0000000000000007,
           0.45567226920450643,
           0.5218604166852782,
           0.4423716561010127,
           0.037209258765999786,
           0.4678164294277698,
           0.4156464051061526,
           0.4115595141058973,
           0.4423367546300254,
           0.4138632932592878,
           0.5368606379951212,
           0.4744423175319189,
           0.5660555675408296,
           0.3118979533588775,
           0.5858182784537026,
           0.48196154300661653,
           0.5055554451837807,
           0.4332599312970773,
           0.4739512550319938,
           0.4246372037944415,
           0.5136872015643814,
           0.25875281942260714,
           0.612659311166034,
           0.4960531714728079,
           0.5681874093222182,
           0.2708679753469785,
           0.41547133794544233,
           0.5225893821216046,
           0.5776414739923974,
           0.5778685847317248,
           0.5379579887717829,
           0.514055273805448,
           0.5283453530931017
          ],
          [
           0.672547214130047,
           0.49434956303430255,
           0.4868458255308261,
           0.576872901223817,
           0.40829259272922863,
           0.38382325903937853,
           0.5773587624210055,
           0.5676217840978293,
           0.3925277470473073,
           0.45567226920450643,
           1.0000000000000009,
           0.3967717277877932,
           0.47939254623584915,
           0.1249955057845882,
           0.5937974810235818,
           0.27684172691406955,
           0.6971629316633221,
           0.36605242684364836,
           0.40532370352115005,
           0.6843424693965566,
           0.4908766191355103,
           0.5414854082344606,
           0.25453215492153075,
           0.49605521021515,
           0.47825894447676154,
           0.26735440332622445,
           0.4604125326198245,
           0.5326346276736498,
           0.36887249381017684,
           0.40054989330966645,
           0.23906167677830764,
           0.5106658807235134,
           0.3404563305436231,
           0.6321340195683873,
           0.2692490857765976,
           0.4329735862815757,
           0.3876258556231079,
           0.4855429317504542,
           0.4976331762728712,
           0.48257122391775953,
           0.44474700279195123,
           0.642186509260436
          ],
          [
           0.7163486049152389,
           0.5450069493399197,
           0.6090539680198288,
           0.5673451319561538,
           0.4738006004720051,
           0.4788381467766506,
           0.5172288818182217,
           0.5887001896827232,
           0.4755943939674465,
           0.5218604166852782,
           0.3967717277877932,
           1.0000000000000007,
           0.47731389772219757,
           0.059806819888576626,
           0.4768356602830053,
           0.49298245760841763,
           0.32753615668736114,
           0.32454723967834975,
           0.4269073621883166,
           0.5015713521676015,
           0.46502253582273245,
           0.5244319850647667,
           0.3610877549859023,
           0.36351643815525814,
           0.3741832797991377,
           0.5325444143473186,
           0.41434017880613705,
           0.3749504461831533,
           0.4552964465218191,
           0.5616764769039159,
           0.33603623961505785,
           0.4246653324585026,
           0.40127718446515004,
           0.46404618599144243,
           0.2220672700317794,
           0.31859430089365814,
           0.5429948497717907,
           0.4935215596279026,
           0.46244150429316644,
           0.6458267122341639,
           0.5254340415994098,
           0.4705183245796566
          ],
          [
           0.6561658515232424,
           0.5720987290357249,
           0.6396016048891411,
           0.4432652662469184,
           0.490334634914699,
           0.6960476237620669,
           0.5060463040375782,
           0.601093838481801,
           0.578589367837886,
           0.4423716561010127,
           0.47939254623584915,
           0.47731389772219757,
           1.0000000000000007,
           0.14019894700035407,
           0.5269225212808094,
           0.6347227520067066,
           0.45503240795349775,
           0.45918251987999914,
           0.542007330524875,
           0.4598213386247025,
           0.5673917755668183,
           0.5095284811018121,
           0.35530834850824333,
           0.36222803502760687,
           0.46303797968747995,
           0.4032247873925322,
           0.4823602578794045,
           0.5746045358389875,
           0.41150657144797276,
           0.470723486795552,
           0.4040330895877304,
           0.3051230641856712,
           0.4763175745226534,
           0.4569228210127253,
           0.25319638285524115,
           0.40991662629167724,
           0.3978850003220975,
           0.5453591215710551,
           0.4160654902405033,
           0.40117520578693194,
           0.5389719759040863,
           0.35596684269385226
          ],
          [
           0.09626205746249547,
           0.10292859434569543,
           0.06279854533322517,
           0.08427472788580948,
           0.07732205359980553,
           0.14461131465429417,
           0.07773814569790721,
           0.09181217937252549,
           0.07486397910615963,
           0.037209258765999786,
           0.1249955057845882,
           0.059806819888576626,
           0.14019894700035407,
           1.0000000000000007,
           0.13642640970254932,
           0.11217341865833155,
           0.07050539720733555,
           0.08121335111394225,
           0.06881735717622484,
           0.09324001462624763,
           0.07991113030119834,
           0.09804767531526531,
           0.11348850454892996,
           0.06151410434240512,
           0.1519956030820196,
           -0.00460341303078354,
           0.04300064985895037,
           0.08353726849171655,
           0.03150165340072105,
           0.06663574969470525,
           0.17452583818658826,
           0.018626467172523097,
           0.055068179696223754,
           0.08633520253223159,
           0.06926560398315056,
           0.058234054972052515,
           0.057162165988691144,
           0.07519101773086333,
           0.07683374993567749,
           0.09171691876509101,
           0.09525622486919752,
           0.11982244884574306
          ],
          [
           0.7376314210672137,
           0.5010229687925358,
           0.5091882737982779,
           0.5898382301065083,
           0.5670978548868506,
           0.5492188939421544,
           0.5729466968198615,
           0.5779063473271453,
           0.48714442094142185,
           0.4678164294277698,
           0.5937974810235818,
           0.4768356602830053,
           0.5269225212808094,
           0.13642640970254932,
           0.9999999999999998,
           0.44518227609089583,
           0.5752684032562134,
           0.4545740863966248,
           0.5349385538351524,
           0.5286070776422054,
           0.524334339229328,
           0.6899979784594336,
           0.2336330575599608,
           0.5710265567143884,
           0.5819441614248859,
           0.4175848176853599,
           0.48989801825558743,
           0.6803115810590548,
           0.4088202024129929,
           0.39035841573000907,
           0.3026503457487003,
           0.3951061343456986,
           0.511364646508715,
           0.6333050006491359,
           0.24962878822935786,
           0.5207566840788382,
           0.4447204456378941,
           0.5900833143401809,
           0.6350589481731458,
           0.4878666424574187,
           0.4876846030313182,
           0.5931154103371918
          ],
          [
           0.5689936071153034,
           0.47654045594452815,
           0.49682289602942514,
           0.4107353915534443,
           0.43781445897361854,
           0.6994815724876172,
           0.39670515013247476,
           0.5424150001118677,
           0.48811763369357214,
           0.4156464051061526,
           0.27684172691406955,
           0.49298245760841763,
           0.6347227520067066,
           0.11217341865833155,
           0.44518227609089583,
           1.0000000000000009,
           0.3025795417446193,
           0.31543194423272825,
           0.4530465385584933,
           0.32810144704682476,
           0.34244191780775535,
           0.4238931201875703,
           0.2960298300621338,
           0.3324180321591221,
           0.4384009392215884,
           0.49689180479757245,
           0.32778457856969334,
           0.44214390926732616,
           0.3207211025169615,
           0.5094730906715763,
           0.40001853649506813,
           0.3133699324639343,
           0.46892168755491603,
           0.317400616556035,
           0.12968968667082081,
           0.31241475258366214,
           0.3526958137059175,
           0.4708930832672455,
           0.3009443111401681,
           0.36403800964109967,
           0.48500858903620414,
           0.2872849204944091
          ],
          [
           0.646840691461738,
           0.435737212563887,
           0.4343999834176432,
           0.5353629514185548,
           0.45173951388335226,
           0.4680892798021936,
           0.5945305362227099,
           0.5603888810816726,
           0.40839324590746207,
           0.4115595141058973,
           0.6971629316633221,
           0.32753615668736114,
           0.45503240795349775,
           0.07050539720733555,
           0.5752684032562134,
           0.3025795417446193,
           1.0000000000000004,
           0.28825570059272254,
           0.5277065879811087,
           0.46666851994095215,
           0.4358856672454947,
           0.5047849598766525,
           0.14915751909710054,
           0.46605860507957597,
           0.42894311801770785,
           0.2432781788418636,
           0.4682511295252467,
           0.6879107980555059,
           0.43287857232303395,
           0.26344939151168345,
           0.2023048767020448,
           0.48831172448653665,
           0.30302153944511384,
           0.5756099735532867,
           0.2677018774914231,
           0.43667124501492216,
           0.3598984128877736,
           0.5262986844552296,
           0.4798298556502991,
           0.4284157710432319,
           0.42089548086896555,
           0.5297865686716865
          ],
          [
           0.5605422519663765,
           0.6495522052326639,
           0.6999474902547902,
           0.35548369638345895,
           0.4880697111309973,
           0.483114798021323,
           0.45622892115638514,
           0.43299084714862174,
           0.3890671592571911,
           0.4423367546300254,
           0.36605242684364836,
           0.32454723967834975,
           0.45918251987999914,
           0.08121335111394225,
           0.4545740863966248,
           0.31543194423272825,
           0.28825570059272254,
           1.0000000000000009,
           0.4543204189694912,
           0.39194556853936313,
           0.3725169372459278,
           0.4313921025798716,
           0.5033713924711113,
           0.336355008379126,
           0.47133195208351597,
           0.3778468846813252,
           0.4494249147154187,
           0.36742055667377355,
           0.46794615758624625,
           0.4740079449160546,
           0.26173743366780045,
           0.3353251709096583,
           0.6839347463899466,
           0.4235998414455335,
           0.46779935537794326,
           0.43059781752551296,
           0.41499704766420686,
           0.4864728799019315,
           0.38867061356207755,
           0.26622767971348504,
           0.5910376992336077,
           0.2635736949266864
          ],
          [
           0.6648408516362236,
           0.5433713012841292,
           0.5815185302653362,
           0.4832807101203912,
           0.579634213773397,
           0.6887315440451933,
           0.5062903727156105,
           0.5567257630694625,
           0.4881090710807754,
           0.4138632932592878,
           0.40532370352115005,
           0.4269073621883166,
           0.542007330524875,
           0.06881735717622484,
           0.5349385538351524,
           0.4530465385584933,
           0.5277065879811087,
           0.4543204189694912,
           1.0000000000000004,
           0.3948606310569822,
           0.4717500989367971,
           0.5070378664249842,
           0.36104212127508994,
           0.32014488565834576,
           0.5071240418480427,
           0.40073247401582013,
           0.5714918520517749,
           0.6277573204582909,
           0.5368587179827495,
           0.355740018298344,
           0.4560254183707556,
           0.334309082965819,
           0.4063589221137395,
           0.43277226307917693,
           0.20143972903761953,
           0.3554477373082474,
           0.47239175695751606,
           0.5998063379460148,
           0.3986535697024666,
           0.3840367821103442,
           0.4788944905009438,
           0.363052705835995
          ],
          [
           0.6828284699698455,
           0.6076174667048153,
           0.5382003286258183,
           0.6838631646176476,
           0.40453270063446206,
           0.3709189451834192,
           0.5244964422859797,
           0.5148610749383935,
           0.4514882532772994,
           0.5368606379951212,
           0.6843424693965566,
           0.5015713521676015,
           0.4598213386247025,
           0.09324001462624763,
           0.5286070776422054,
           0.32810144704682476,
           0.46666851994095215,
           0.39194556853936313,
           0.3948606310569822,
           1.0000000000000007,
           0.48397544929703273,
           0.5593249638188883,
           0.32875274008652033,
           0.4906044858476095,
           0.44914526834534874,
           0.36963369804044255,
           0.44075775593865374,
           0.38349823767275915,
           0.45181951063725556,
           0.4239878859923141,
           0.3235400051686005,
           0.5008729851433962,
           0.4490637087986318,
           0.6452902097927138,
           0.3265751815098734,
           0.4010680696374006,
           0.5056623067708732,
           0.4826250913141228,
           0.5362854665999475,
           0.5227784478685504,
           0.5490057732145295,
           0.5384801570335953
          ],
          [
           0.6460081089675732,
           0.5469947737063985,
           0.6034668812776438,
           0.41465149627878195,
           0.4491763709215505,
           0.47316917279868886,
           0.5982210677565774,
           0.47626789032283623,
           0.8551678836295196,
           0.4744423175319189,
           0.4908766191355103,
           0.46502253582273245,
           0.5673917755668183,
           0.07991113030119834,
           0.524334339229328,
           0.34244191780775535,
           0.4358856672454947,
           0.3725169372459278,
           0.4717500989367971,
           0.48397544929703273,
           1.0000000000000009,
           0.6181951378577533,
           0.35246852478172797,
           0.40204854252422106,
           0.37748412134003817,
           0.3642220195470084,
           0.4859288469843259,
           0.46771845375598675,
           0.3854172741491799,
           0.43789156374001814,
           0.2982406506653155,
           0.35449575186647486,
           0.3880842825691182,
           0.5099068510522438,
           0.258611155701962,
           0.35399738480556336,
           0.37307831399618224,
           0.43421679472419206,
           0.4790927824210962,
           0.4262557659642874,
           0.4651508916006459,
           0.5041806413715534
          ],
          [
           0.6978069061786134,
           0.5279417455341693,
           0.6192802342317162,
           0.554574887273745,
           0.42242502841739993,
           0.5187809825229495,
           0.6916806249494932,
           0.4949341092789351,
           0.5338826163628747,
           0.5660555675408296,
           0.5414854082344606,
           0.5244319850647667,
           0.5095284811018121,
           0.09804767531526531,
           0.6899979784594336,
           0.4238931201875703,
           0.5047849598766525,
           0.4313921025798716,
           0.5070378664249842,
           0.5593249638188883,
           0.6181951378577533,
           1.0000000000000004,
           0.3078271593212105,
           0.45388296526567257,
           0.4158921581689534,
           0.41914058427761725,
           0.4630215738704757,
           0.511909241915486,
           0.3437933036116231,
           0.43166475773739355,
           0.26105451431233073,
           0.42864072964362954,
           0.5035523789915776,
           0.5722471037914877,
           0.2367173448428423,
           0.38166115995764693,
           0.42986031858536566,
           0.4738029944108312,
           0.7060154278264982,
           0.45434869770057734,
           0.4405669022878977,
           0.5907129298395413
          ],
          [
           0.42960851107583875,
           0.4617219279581528,
           0.6167630370320041,
           0.3725700145850086,
           0.350456290554097,
           0.3252537824153158,
           0.30483606174932953,
           0.43314797238800196,
           0.37643054730028747,
           0.3118979533588775,
           0.25453215492153075,
           0.3610877549859023,
           0.35530834850824333,
           0.11348850454892996,
           0.2336330575599608,
           0.2960298300621338,
           0.14915751909710054,
           0.5033713924711113,
           0.36104212127508994,
           0.32875274008652033,
           0.35246852478172797,
           0.3078271593212105,
           1.0000000000000009,
           0.24460588823622914,
           0.3489356538186854,
           0.22898903580907454,
           0.36274912179929164,
           0.1479420969544195,
           0.40327516397158153,
           0.43756424076285594,
           0.5423892637587325,
           0.27825504210282453,
           0.3108443161639501,
           0.25586800331163295,
           0.237986346468754,
           0.1792304905791074,
           0.3724998919326187,
           0.30859636013140046,
           0.30369363306660246,
           0.2863536615808854,
           0.4638141322698661,
           0.24984141546039096
          ],
          [
           0.6209036951146888,
           0.4574422331054609,
           0.47500560196733,
           0.4537460516323079,
           0.45918797415886625,
           0.39594460655321473,
           0.46375461424067127,
           0.4292256135697954,
           0.40436663242270954,
           0.5858182784537026,
           0.49605521021515,
           0.36351643815525814,
           0.36222803502760687,
           0.06151410434240512,
           0.5710265567143884,
           0.3324180321591221,
           0.46605860507957597,
           0.336355008379126,
           0.32014488565834576,
           0.4906044858476095,
           0.40204854252422106,
           0.45388296526567257,
           0.24460588823622914,
           1.0000000000000004,
           0.4510035637709394,
           0.3323893247171666,
           0.35714223197897954,
           0.45032753061302305,
           0.34387044307169645,
           0.3042128578053377,
           0.21809588574561192,
           0.39903167058321065,
           0.42949904604035605,
           0.5368417171030593,
           0.195923802449594,
           0.39810722622565375,
           0.40194978346277116,
           0.44558783877805225,
           0.47864125091641513,
           0.3836914771615675,
           0.4315412600282412,
           0.6327437997292011
          ],
          [
           0.6381136316947706,
           0.5954632130924145,
           0.5365703461915914,
           0.4970071961923232,
           0.5943471403069895,
           0.5022569988196764,
           0.48954742877523383,
           0.6129226157146763,
           0.40732049992242064,
           0.48196154300661653,
           0.47825894447676154,
           0.3741832797991377,
           0.46303797968747995,
           0.1519956030820196,
           0.5819441614248859,
           0.4384009392215884,
           0.42894311801770785,
           0.47133195208351597,
           0.5071240418480427,
           0.44914526834534874,
           0.37748412134003817,
           0.4158921581689534,
           0.3489356538186854,
           0.4510035637709394,
           1.0000000000000007,
           0.3091367584554874,
           0.5390320778353836,
           0.5407493068893808,
           0.4801985769479727,
           0.47471721506449593,
           0.39097780829937756,
           0.474516239072294,
           0.4011973899489273,
           0.46032242230521825,
           0.3368215243213855,
           0.4611113079663358,
           0.4052172542722169,
           0.5711476878285301,
           0.4299270522941603,
           0.3463300872998621,
           0.5033420141146969,
           0.40563028801788537
          ],
          [
           0.5839162008237228,
           0.44461822283871977,
           0.4796984537791422,
           0.40328151204969415,
           0.33925033295404877,
           0.48302129776858943,
           0.44079689778820275,
           0.4305838964129131,
           0.41268035601201886,
           0.5055554451837807,
           0.26735440332622445,
           0.5325444143473186,
           0.4032247873925322,
           -0.00460341303078354,
           0.4175848176853599,
           0.49689180479757245,
           0.2432781788418636,
           0.3778468846813252,
           0.40073247401582013,
           0.36963369804044255,
           0.3642220195470084,
           0.41914058427761725,
           0.22898903580907454,
           0.3323893247171666,
           0.3091367584554874,
           1.0000000000000009,
           0.30749301967843673,
           0.39698466739409766,
           0.2552729274537414,
           0.4145830587480603,
           0.1617173723691174,
           0.3611754134026769,
           0.6427491399249117,
           0.3615402835804057,
           0.1657601466628838,
           0.33078737987305873,
           0.4588003165406198,
           0.4383841270992419,
           0.33714504888508834,
           0.40414782608814626,
           0.48407301969605454,
           0.28621561781745597
          ],
          [
           0.6693493578641283,
           0.5956254217927843,
           0.5487096508257772,
           0.4635334246240822,
           0.7560421605714942,
           0.578807604666699,
           0.509144296519708,
           0.5714101042213013,
           0.4453718753345896,
           0.4332599312970773,
           0.4604125326198245,
           0.41434017880613705,
           0.4823602578794045,
           0.04300064985895037,
           0.48989801825558743,
           0.32778457856969334,
           0.4682511295252467,
           0.4494249147154187,
           0.5714918520517749,
           0.44075775593865374,
           0.4859288469843259,
           0.4630215738704757,
           0.36274912179929164,
           0.35714223197897954,
           0.5390320778353836,
           0.30749301967843673,
           1.0000000000000007,
           0.4866775677833361,
           0.5987800906930612,
           0.4220724968242016,
           0.32954350682853983,
           0.3757663159938676,
           0.3829256696327472,
           0.41387260646814467,
           0.44177810443063803,
           0.35203695494762155,
           0.47112403009095466,
           0.5795475191296388,
           0.36067055908794043,
           0.3683091694704955,
           0.517673150614176,
           0.42508584290760076
          ],
          [
           0.6883210505245366,
           0.4053010614734228,
           0.5253706593009455,
           0.5271680013754205,
           0.5135049722815539,
           0.638110797518066,
           0.5464881591353108,
           0.6033534081707177,
           0.49158010945927266,
           0.4739512550319938,
           0.5326346276736498,
           0.3749504461831533,
           0.5746045358389875,
           0.08353726849171655,
           0.6803115810590548,
           0.44214390926732616,
           0.6879107980555059,
           0.36742055667377355,
           0.6277573204582909,
           0.38349823767275915,
           0.46771845375598675,
           0.511909241915486,
           0.1479420969544195,
           0.45032753061302305,
           0.5407493068893808,
           0.39698466739409766,
           0.4866775677833361,
           1.0000000000000004,
           0.3550154605946309,
           0.37273884178818584,
           0.2755304215797354,
           0.39447796435044047,
           0.4302385124010176,
           0.5454167932033815,
           0.17108151729113621,
           0.39606343154577756,
           0.4080481855214998,
           0.6174377993087571,
           0.5027518017042241,
           0.39105211415310603,
           0.39609636768601386,
           0.4526836634607244
          ],
          [
           0.6277678291271848,
           0.6939839205364263,
           0.5710140334488769,
           0.48113935623546944,
           0.680811646968773,
           0.40537606174874175,
           0.3966633778195433,
           0.5672605672980617,
           0.37311157270135137,
           0.4246372037944415,
           0.36887249381017684,
           0.4552964465218191,
           0.41150657144797276,
           0.03150165340072105,
           0.4088202024129929,
           0.3207211025169615,
           0.43287857232303395,
           0.46794615758624625,
           0.5368587179827495,
           0.45181951063725556,
           0.3854172741491799,
           0.3437933036116231,
           0.40327516397158153,
           0.34387044307169645,
           0.4801985769479727,
           0.2552729274537414,
           0.5987800906930612,
           0.3550154605946309,
           1.0000000000000009,
           0.3910729442285583,
           0.3229007632174164,
           0.42859323674076855,
           0.3217528734482218,
           0.4474422061642742,
           0.4391858711559148,
           0.36345354654957435,
           0.46387288476985583,
           0.5930325855912997,
           0.3661625836002945,
           0.42713434863297517,
           0.6669356060987084,
           0.3791948476987067
          ],
          [
           0.5876468813604464,
           0.5730431977380281,
           0.668472595189507,
           0.4069979413173227,
           0.5081500806411298,
           0.5325030844956005,
           0.4507300482833835,
           0.6352860369126093,
           0.5189758878250365,
           0.5136872015643814,
           0.40054989330966645,
           0.5616764769039159,
           0.470723486795552,
           0.06663574969470525,
           0.39035841573000907,
           0.5094730906715763,
           0.26344939151168345,
           0.4740079449160546,
           0.355740018298344,
           0.4239878859923141,
           0.43789156374001814,
           0.43166475773739355,
           0.43756424076285594,
           0.3042128578053377,
           0.47471721506449593,
           0.4145830587480603,
           0.4220724968242016,
           0.37273884178818584,
           0.3910729442285583,
           1.0000000000000009,
           0.3399845158186554,
           0.5029898102048889,
           0.4459698182062124,
           0.3724601094275155,
           0.304981256924709,
           0.33564912324504015,
           0.418469905895568,
           0.5411899736747066,
           0.34550411962956806,
           0.4382420739708325,
           0.5626663797902737,
           0.32612429492463985
          ],
          [
           0.430733116692103,
           0.44404442691248514,
           0.40693982793895567,
           0.3558821171287849,
           0.3674421761415906,
           0.43033866488989736,
           0.3131400264791335,
           0.47043992184710764,
           0.3331549122544709,
           0.25875281942260714,
           0.23906167677830764,
           0.33603623961505785,
           0.4040330895877304,
           0.17452583818658826,
           0.3026503457487003,
           0.40001853649506813,
           0.2023048767020448,
           0.26173743366780045,
           0.4560254183707556,
           0.3235400051686005,
           0.2982406506653155,
           0.26105451431233073,
           0.5423892637587325,
           0.21809588574561192,
           0.39097780829937756,
           0.1617173723691174,
           0.32954350682853983,
           0.2755304215797354,
           0.3229007632174164,
           0.3399845158186554,
           1.0000000000000009,
           0.2350295249372938,
           0.2710650833036551,
           0.3024977778197695,
           0.20044533259913302,
           0.2208089499917275,
           0.34589361146895536,
           0.33826907271790096,
           0.2587637140027841,
           0.2547416284268112,
           0.37368120062225585,
           0.22061655484310094
          ],
          [
           0.5966079259872621,
           0.48551070321285517,
           0.5009187705587083,
           0.4722131130607503,
           0.36834474924189897,
           0.36662300115422275,
           0.5615428265938829,
           0.5094550682674673,
           0.3618171887016398,
           0.612659311166034,
           0.5106658807235134,
           0.4246653324585026,
           0.3051230641856712,
           0.018626467172523097,
           0.3951061343456986,
           0.3133699324639343,
           0.48831172448653665,
           0.3353251709096583,
           0.334309082965819,
           0.5008729851433962,
           0.35449575186647486,
           0.42864072964362954,
           0.27825504210282453,
           0.39903167058321065,
           0.474516239072294,
           0.3611754134026769,
           0.3757663159938676,
           0.39447796435044047,
           0.42859323674076855,
           0.5029898102048889,
           0.2350295249372938,
           1.000000000000001,
           0.3286178473112459,
           0.5054648616879507,
           0.25920000009740957,
           0.39458274087119855,
           0.44076871131784134,
           0.5172818322891162,
           0.48774196406618336,
           0.44725142437953347,
           0.44443784808119796,
           0.4182462376985189
          ],
          [
           0.6506123663545753,
           0.5478245277706316,
           0.5486351353977506,
           0.46638596266248294,
           0.4260393018346791,
           0.5002861141180452,
           0.503815218537703,
           0.43634111584722785,
           0.4414887025360727,
           0.4960531714728079,
           0.3404563305436231,
           0.40127718446515004,
           0.4763175745226534,
           0.055068179696223754,
           0.511364646508715,
           0.46892168755491603,
           0.30302153944511384,
           0.6839347463899466,
           0.4063589221137395,
           0.4490637087986318,
           0.3880842825691182,
           0.5035523789915776,
           0.3108443161639501,
           0.42949904604035605,
           0.4011973899489273,
           0.6427491399249117,
           0.3829256696327472,
           0.4302385124010176,
           0.3217528734482218,
           0.4459698182062124,
           0.2710650833036551,
           0.3286178473112459,
           1.0000000000000009,
           0.48783534279616436,
           0.27763309036305195,
           0.42252550937798505,
           0.4825673777891051,
           0.46156954140622075,
           0.38764173495830023,
           0.3595360106613031,
           0.5649001027058722,
           0.3171078497532984
          ],
          [
           0.7703611040460885,
           0.5601659112955866,
           0.5588214121790276,
           0.6283112486554867,
           0.3612838415448359,
           0.3591437723421209,
           0.5813719501957841,
           0.5574785779688272,
           0.45876296772229563,
           0.5681874093222182,
           0.6321340195683873,
           0.46404618599144243,
           0.4569228210127253,
           0.08633520253223159,
           0.6333050006491359,
           0.317400616556035,
           0.5756099735532867,
           0.4235998414455335,
           0.43277226307917693,
           0.6452902097927138,
           0.5099068510522438,
           0.5722471037914877,
           0.25586800331163295,
           0.5368417171030593,
           0.46032242230521825,
           0.3615402835804057,
           0.41387260646814467,
           0.5454167932033815,
           0.4474422061642742,
           0.3724601094275155,
           0.3024977778197695,
           0.5054648616879507,
           0.48783534279616436,
           1.0000000000000009,
           0.2363029762850408,
           0.5530900762131344,
           0.5079058179422715,
           0.4433091228238504,
           0.5520859455465268,
           0.6380675451884035,
           0.5452033732630668,
           0.5483849165350305
          ],
          [
           0.3705471210814563,
           0.6231568559934209,
           0.3809173156453214,
           0.2834145785350067,
           0.4949427137682098,
           0.2692397434515191,
           0.3908204119795161,
           0.33180760176901847,
           0.28180726586684035,
           0.2708679753469785,
           0.2692490857765976,
           0.2220672700317794,
           0.25319638285524115,
           0.06926560398315056,
           0.24962878822935786,
           0.12968968667082081,
           0.2677018774914231,
           0.46779935537794326,
           0.20143972903761953,
           0.3265751815098734,
           0.258611155701962,
           0.2367173448428423,
           0.237986346468754,
           0.195923802449594,
           0.3368215243213855,
           0.1657601466628838,
           0.44177810443063803,
           0.17108151729113621,
           0.4391858711559148,
           0.304981256924709,
           0.20044533259913302,
           0.25920000009740957,
           0.27763309036305195,
           0.2363029762850408,
           1.0000000000000004,
           0.36622458511891115,
           0.2867637545087952,
           0.3861792126801392,
           0.24466830457447444,
           0.18133797891067188,
           0.4333420160718965,
           0.19859459542276428
          ],
          [
           0.5657030513097392,
           0.5347743973702406,
           0.40537789455581974,
           0.3909594096692665,
           0.37734090068022674,
           0.33977248331214294,
           0.5021094558619981,
           0.4637367186946306,
           0.3509240658861346,
           0.41547133794544233,
           0.4329735862815757,
           0.31859430089365814,
           0.40991662629167724,
           0.058234054972052515,
           0.5207566840788382,
           0.31241475258366214,
           0.43667124501492216,
           0.43059781752551296,
           0.3554477373082474,
           0.4010680696374006,
           0.35399738480556336,
           0.38166115995764693,
           0.1792304905791074,
           0.39810722622565375,
           0.4611113079663358,
           0.33078737987305873,
           0.35203695494762155,
           0.39606343154577756,
           0.36345354654957435,
           0.33564912324504015,
           0.2208089499917275,
           0.39458274087119855,
           0.42252550937798505,
           0.5530900762131344,
           0.36622458511891115,
           1.0000000000000002,
           0.3693911392951892,
           0.44251714772745143,
           0.3693343641996523,
           0.32974717632398154,
           0.3717892875152874,
           0.3835305868711083
          ],
          [
           0.6928800394734731,
           0.5750647981155026,
           0.5203289432150374,
           0.6841452079337889,
           0.46902698425960665,
           0.42992661878008653,
           0.5311171764538657,
           0.5208374412787888,
           0.3850091519112343,
           0.5225893821216046,
           0.3876258556231079,
           0.5429948497717907,
           0.3978850003220975,
           0.057162165988691144,
           0.4447204456378941,
           0.3526958137059175,
           0.3598984128877736,
           0.41499704766420686,
           0.47239175695751606,
           0.5056623067708732,
           0.37307831399618224,
           0.42986031858536566,
           0.3724998919326187,
           0.40194978346277116,
           0.4052172542722169,
           0.4588003165406198,
           0.47112403009095466,
           0.4080481855214998,
           0.46387288476985583,
           0.418469905895568,
           0.34589361146895536,
           0.44076871131784134,
           0.4825673777891051,
           0.5079058179422715,
           0.2867637545087952,
           0.3693911392951892,
           1.0000000000000007,
           0.5651459798114402,
           0.4424724035924558,
           0.5536982761666455,
           0.5073527206239652,
           0.37934487379887327
          ],
          [
           0.7371449141135252,
           0.6544101290647617,
           0.6162099367239652,
           0.5835164160825779,
           0.7418204418789982,
           0.6778840903514387,
           0.5753279963363076,
           0.684491885723491,
           0.4986648078072863,
           0.5776414739923974,
           0.4855429317504542,
           0.4935215596279026,
           0.5453591215710551,
           0.07519101773086333,
           0.5900833143401809,
           0.4708930832672455,
           0.5262986844552296,
           0.4864728799019315,
           0.5998063379460148,
           0.4826250913141228,
           0.43421679472419206,
           0.4738029944108312,
           0.30859636013140046,
           0.44558783877805225,
           0.5711476878285301,
           0.4383841270992419,
           0.5795475191296388,
           0.6174377993087571,
           0.5930325855912997,
           0.5411899736747066,
           0.33826907271790096,
           0.5172818322891162,
           0.46156954140622075,
           0.4433091228238504,
           0.3861792126801392,
           0.44251714772745143,
           0.5651459798114402,
           1.0000000000000009,
           0.43559452506878815,
           0.42542884020932975,
           0.5210842043664099,
           0.4160992920628187
          ],
          [
           0.6550031172189381,
           0.4567056466864312,
           0.5404894837654785,
           0.6300454595138845,
           0.4001264056146764,
           0.422071166258315,
           0.5763860688603678,
           0.47492980507650573,
           0.424614464281938,
           0.5778685847317248,
           0.4976331762728712,
           0.46244150429316644,
           0.4160654902405033,
           0.07683374993567749,
           0.6350589481731458,
           0.3009443111401681,
           0.4798298556502991,
           0.38867061356207755,
           0.3986535697024666,
           0.5362854665999475,
           0.4790927824210962,
           0.7060154278264982,
           0.30369363306660246,
           0.47864125091641513,
           0.4299270522941603,
           0.33714504888508834,
           0.36067055908794043,
           0.5027518017042241,
           0.3661625836002945,
           0.34550411962956806,
           0.2587637140027841,
           0.48774196406618336,
           0.38764173495830023,
           0.5520859455465268,
           0.24466830457447444,
           0.3693343641996523,
           0.4424724035924558,
           0.43559452506878815,
           1.0000000000000007,
           0.5358247769691553,
           0.42593470649038556,
           0.6319671743945637
          ],
          [
           0.7181216860044564,
           0.42770831337024406,
           0.4913061044675636,
           0.6671206689291049,
           0.4074434476753976,
           0.34130882796624135,
           0.4987344140489457,
           0.5030068811615543,
           0.3906334197709692,
           0.5379579887717829,
           0.48257122391775953,
           0.6458267122341639,
           0.40117520578693194,
           0.09171691876509101,
           0.4878666424574187,
           0.36403800964109967,
           0.4284157710432319,
           0.26622767971348504,
           0.3840367821103442,
           0.5227784478685504,
           0.4262557659642874,
           0.45434869770057734,
           0.2863536615808854,
           0.3836914771615675,
           0.3463300872998621,
           0.40414782608814626,
           0.3683091694704955,
           0.39105211415310603,
           0.42713434863297517,
           0.4382420739708325,
           0.2547416284268112,
           0.44725142437953347,
           0.3595360106613031,
           0.6380675451884035,
           0.18133797891067188,
           0.32974717632398154,
           0.5536982761666455,
           0.42542884020932975,
           0.5358247769691553,
           1.0000000000000004,
           0.47708014934304444,
           0.5137195798743445
          ],
          [
           0.6699109774104128,
           0.7595758169452321,
           0.6934488889574895,
           0.5387955888573908,
           0.5679756984084918,
           0.4465330084680575,
           0.4665238269020623,
           0.5647045923224638,
           0.5124246546590054,
           0.514055273805448,
           0.44474700279195123,
           0.5254340415994098,
           0.5389719759040863,
           0.09525622486919752,
           0.4876846030313182,
           0.48500858903620414,
           0.42089548086896555,
           0.5910376992336077,
           0.4788944905009438,
           0.5490057732145295,
           0.4651508916006459,
           0.4405669022878977,
           0.4638141322698661,
           0.4315412600282412,
           0.5033420141146969,
           0.48407301969605454,
           0.517673150614176,
           0.39609636768601386,
           0.6669356060987084,
           0.5626663797902737,
           0.37368120062225585,
           0.44443784808119796,
           0.5649001027058722,
           0.5452033732630668,
           0.4333420160718965,
           0.3717892875152874,
           0.5073527206239652,
           0.5210842043664099,
           0.42593470649038556,
           0.47708014934304444,
           0.9999999999999998,
           0.38706163788797343
          ],
          [
           0.6860519751163523,
           0.4308710038752035,
           0.43460991686115025,
           0.5142468366305153,
           0.44008096064555174,
           0.3475251973938182,
           0.519675020765693,
           0.5002534273630039,
           0.37652609108997215,
           0.5283453530931017,
           0.642186509260436,
           0.4705183245796566,
           0.35596684269385226,
           0.11982244884574306,
           0.5931154103371918,
           0.2872849204944091,
           0.5297865686716865,
           0.2635736949266864,
           0.363052705835995,
           0.5384801570335953,
           0.5041806413715534,
           0.5907129298395413,
           0.24984141546039096,
           0.6327437997292011,
           0.40563028801788537,
           0.28621561781745597,
           0.42508584290760076,
           0.4526836634607244,
           0.3791948476987067,
           0.32612429492463985,
           0.22061655484310094,
           0.4182462376985189,
           0.3171078497532984,
           0.5483849165350305,
           0.19859459542276428,
           0.3835305868711083,
           0.37934487379887327,
           0.4160992920628187,
           0.6319671743945637,
           0.5137195798743445,
           0.38706163788797343,
           1.0000000000000004
          ]
         ]
        }
       ],
       "layout": {
        "coloraxis": {
         "colorbar": {
          "title": {
           "text": "Similarity Score"
          }
         },
         "colorscale": [
          [
           0,
           "rgb(247,252,240)"
          ],
          [
           0.125,
           "rgb(224,243,219)"
          ],
          [
           0.25,
           "rgb(204,235,197)"
          ],
          [
           0.375,
           "rgb(168,221,181)"
          ],
          [
           0.5,
           "rgb(123,204,196)"
          ],
          [
           0.625,
           "rgb(78,179,211)"
          ],
          [
           0.75,
           "rgb(43,140,190)"
          ],
          [
           0.875,
           "rgb(8,104,172)"
          ],
          [
           1,
           "rgb(8,64,129)"
          ]
         ]
        },
        "height": 800,
        "hoverlabel": {
         "bgcolor": "white",
         "font": {
          "family": "Rockwell",
          "size": 16
         }
        },
        "legend": {
         "title": {
          "text": "Trend"
         }
        },
        "margin": {
         "t": 60
        },
        "showlegend": true,
        "template": {
         "data": {
          "bar": [
           {
            "error_x": {
             "color": "#2a3f5f"
            },
            "error_y": {
             "color": "#2a3f5f"
            },
            "marker": {
             "line": {
              "color": "#E5ECF6",
              "width": 0.5
             },
             "pattern": {
              "fillmode": "overlay",
              "size": 10,
              "solidity": 0.2
             }
            },
            "type": "bar"
           }
          ],
          "barpolar": [
           {
            "marker": {
             "line": {
              "color": "#E5ECF6",
              "width": 0.5
             },
             "pattern": {
              "fillmode": "overlay",
              "size": 10,
              "solidity": 0.2
             }
            },
            "type": "barpolar"
           }
          ],
          "carpet": [
           {
            "aaxis": {
             "endlinecolor": "#2a3f5f",
             "gridcolor": "white",
             "linecolor": "white",
             "minorgridcolor": "white",
             "startlinecolor": "#2a3f5f"
            },
            "baxis": {
             "endlinecolor": "#2a3f5f",
             "gridcolor": "white",
             "linecolor": "white",
             "minorgridcolor": "white",
             "startlinecolor": "#2a3f5f"
            },
            "type": "carpet"
           }
          ],
          "choropleth": [
           {
            "colorbar": {
             "outlinewidth": 0,
             "ticks": ""
            },
            "type": "choropleth"
           }
          ],
          "contour": [
           {
            "colorbar": {
             "outlinewidth": 0,
             "ticks": ""
            },
            "colorscale": [
             [
              0,
              "#0d0887"
             ],
             [
              0.1111111111111111,
              "#46039f"
             ],
             [
              0.2222222222222222,
              "#7201a8"
             ],
             [
              0.3333333333333333,
              "#9c179e"
             ],
             [
              0.4444444444444444,
              "#bd3786"
             ],
             [
              0.5555555555555556,
              "#d8576b"
             ],
             [
              0.6666666666666666,
              "#ed7953"
             ],
             [
              0.7777777777777778,
              "#fb9f3a"
             ],
             [
              0.8888888888888888,
              "#fdca26"
             ],
             [
              1,
              "#f0f921"
             ]
            ],
            "type": "contour"
           }
          ],
          "contourcarpet": [
           {
            "colorbar": {
             "outlinewidth": 0,
             "ticks": ""
            },
            "type": "contourcarpet"
           }
          ],
          "heatmap": [
           {
            "colorbar": {
             "outlinewidth": 0,
             "ticks": ""
            },
            "colorscale": [
             [
              0,
              "#0d0887"
             ],
             [
              0.1111111111111111,
              "#46039f"
             ],
             [
              0.2222222222222222,
              "#7201a8"
             ],
             [
              0.3333333333333333,
              "#9c179e"
             ],
             [
              0.4444444444444444,
              "#bd3786"
             ],
             [
              0.5555555555555556,
              "#d8576b"
             ],
             [
              0.6666666666666666,
              "#ed7953"
             ],
             [
              0.7777777777777778,
              "#fb9f3a"
             ],
             [
              0.8888888888888888,
              "#fdca26"
             ],
             [
              1,
              "#f0f921"
             ]
            ],
            "type": "heatmap"
           }
          ],
          "heatmapgl": [
           {
            "colorbar": {
             "outlinewidth": 0,
             "ticks": ""
            },
            "colorscale": [
             [
              0,
              "#0d0887"
             ],
             [
              0.1111111111111111,
              "#46039f"
             ],
             [
              0.2222222222222222,
              "#7201a8"
             ],
             [
              0.3333333333333333,
              "#9c179e"
             ],
             [
              0.4444444444444444,
              "#bd3786"
             ],
             [
              0.5555555555555556,
              "#d8576b"
             ],
             [
              0.6666666666666666,
              "#ed7953"
             ],
             [
              0.7777777777777778,
              "#fb9f3a"
             ],
             [
              0.8888888888888888,
              "#fdca26"
             ],
             [
              1,
              "#f0f921"
             ]
            ],
            "type": "heatmapgl"
           }
          ],
          "histogram": [
           {
            "marker": {
             "pattern": {
              "fillmode": "overlay",
              "size": 10,
              "solidity": 0.2
             }
            },
            "type": "histogram"
           }
          ],
          "histogram2d": [
           {
            "colorbar": {
             "outlinewidth": 0,
             "ticks": ""
            },
            "colorscale": [
             [
              0,
              "#0d0887"
             ],
             [
              0.1111111111111111,
              "#46039f"
             ],
             [
              0.2222222222222222,
              "#7201a8"
             ],
             [
              0.3333333333333333,
              "#9c179e"
             ],
             [
              0.4444444444444444,
              "#bd3786"
             ],
             [
              0.5555555555555556,
              "#d8576b"
             ],
             [
              0.6666666666666666,
              "#ed7953"
             ],
             [
              0.7777777777777778,
              "#fb9f3a"
             ],
             [
              0.8888888888888888,
              "#fdca26"
             ],
             [
              1,
              "#f0f921"
             ]
            ],
            "type": "histogram2d"
           }
          ],
          "histogram2dcontour": [
           {
            "colorbar": {
             "outlinewidth": 0,
             "ticks": ""
            },
            "colorscale": [
             [
              0,
              "#0d0887"
             ],
             [
              0.1111111111111111,
              "#46039f"
             ],
             [
              0.2222222222222222,
              "#7201a8"
             ],
             [
              0.3333333333333333,
              "#9c179e"
             ],
             [
              0.4444444444444444,
              "#bd3786"
             ],
             [
              0.5555555555555556,
              "#d8576b"
             ],
             [
              0.6666666666666666,
              "#ed7953"
             ],
             [
              0.7777777777777778,
              "#fb9f3a"
             ],
             [
              0.8888888888888888,
              "#fdca26"
             ],
             [
              1,
              "#f0f921"
             ]
            ],
            "type": "histogram2dcontour"
           }
          ],
          "mesh3d": [
           {
            "colorbar": {
             "outlinewidth": 0,
             "ticks": ""
            },
            "type": "mesh3d"
           }
          ],
          "parcoords": [
           {
            "line": {
             "colorbar": {
              "outlinewidth": 0,
              "ticks": ""
             }
            },
            "type": "parcoords"
           }
          ],
          "pie": [
           {
            "automargin": true,
            "type": "pie"
           }
          ],
          "scatter": [
           {
            "fillpattern": {
             "fillmode": "overlay",
             "size": 10,
             "solidity": 0.2
            },
            "type": "scatter"
           }
          ],
          "scatter3d": [
           {
            "line": {
             "colorbar": {
              "outlinewidth": 0,
              "ticks": ""
             }
            },
            "marker": {
             "colorbar": {
              "outlinewidth": 0,
              "ticks": ""
             }
            },
            "type": "scatter3d"
           }
          ],
          "scattercarpet": [
           {
            "marker": {
             "colorbar": {
              "outlinewidth": 0,
              "ticks": ""
             }
            },
            "type": "scattercarpet"
           }
          ],
          "scattergeo": [
           {
            "marker": {
             "colorbar": {
              "outlinewidth": 0,
              "ticks": ""
             }
            },
            "type": "scattergeo"
           }
          ],
          "scattergl": [
           {
            "marker": {
             "colorbar": {
              "outlinewidth": 0,
              "ticks": ""
             }
            },
            "type": "scattergl"
           }
          ],
          "scattermapbox": [
           {
            "marker": {
             "colorbar": {
              "outlinewidth": 0,
              "ticks": ""
             }
            },
            "type": "scattermapbox"
           }
          ],
          "scatterpolar": [
           {
            "marker": {
             "colorbar": {
              "outlinewidth": 0,
              "ticks": ""
             }
            },
            "type": "scatterpolar"
           }
          ],
          "scatterpolargl": [
           {
            "marker": {
             "colorbar": {
              "outlinewidth": 0,
              "ticks": ""
             }
            },
            "type": "scatterpolargl"
           }
          ],
          "scatterternary": [
           {
            "marker": {
             "colorbar": {
              "outlinewidth": 0,
              "ticks": ""
             }
            },
            "type": "scatterternary"
           }
          ],
          "surface": [
           {
            "colorbar": {
             "outlinewidth": 0,
             "ticks": ""
            },
            "colorscale": [
             [
              0,
              "#0d0887"
             ],
             [
              0.1111111111111111,
              "#46039f"
             ],
             [
              0.2222222222222222,
              "#7201a8"
             ],
             [
              0.3333333333333333,
              "#9c179e"
             ],
             [
              0.4444444444444444,
              "#bd3786"
             ],
             [
              0.5555555555555556,
              "#d8576b"
             ],
             [
              0.6666666666666666,
              "#ed7953"
             ],
             [
              0.7777777777777778,
              "#fb9f3a"
             ],
             [
              0.8888888888888888,
              "#fdca26"
             ],
             [
              1,
              "#f0f921"
             ]
            ],
            "type": "surface"
           }
          ],
          "table": [
           {
            "cells": {
             "fill": {
              "color": "#EBF0F8"
             },
             "line": {
              "color": "white"
             }
            },
            "header": {
             "fill": {
              "color": "#C8D4E3"
             },
             "line": {
              "color": "white"
             }
            },
            "type": "table"
           }
          ]
         },
         "layout": {
          "annotationdefaults": {
           "arrowcolor": "#2a3f5f",
           "arrowhead": 0,
           "arrowwidth": 1
          },
          "autotypenumbers": "strict",
          "coloraxis": {
           "colorbar": {
            "outlinewidth": 0,
            "ticks": ""
           }
          },
          "colorscale": {
           "diverging": [
            [
             0,
             "#8e0152"
            ],
            [
             0.1,
             "#c51b7d"
            ],
            [
             0.2,
             "#de77ae"
            ],
            [
             0.3,
             "#f1b6da"
            ],
            [
             0.4,
             "#fde0ef"
            ],
            [
             0.5,
             "#f7f7f7"
            ],
            [
             0.6,
             "#e6f5d0"
            ],
            [
             0.7,
             "#b8e186"
            ],
            [
             0.8,
             "#7fbc41"
            ],
            [
             0.9,
             "#4d9221"
            ],
            [
             1,
             "#276419"
            ]
           ],
           "sequential": [
            [
             0,
             "#0d0887"
            ],
            [
             0.1111111111111111,
             "#46039f"
            ],
            [
             0.2222222222222222,
             "#7201a8"
            ],
            [
             0.3333333333333333,
             "#9c179e"
            ],
            [
             0.4444444444444444,
             "#bd3786"
            ],
            [
             0.5555555555555556,
             "#d8576b"
            ],
            [
             0.6666666666666666,
             "#ed7953"
            ],
            [
             0.7777777777777778,
             "#fb9f3a"
            ],
            [
             0.8888888888888888,
             "#fdca26"
            ],
            [
             1,
             "#f0f921"
            ]
           ],
           "sequentialminus": [
            [
             0,
             "#0d0887"
            ],
            [
             0.1111111111111111,
             "#46039f"
            ],
            [
             0.2222222222222222,
             "#7201a8"
            ],
            [
             0.3333333333333333,
             "#9c179e"
            ],
            [
             0.4444444444444444,
             "#bd3786"
            ],
            [
             0.5555555555555556,
             "#d8576b"
            ],
            [
             0.6666666666666666,
             "#ed7953"
            ],
            [
             0.7777777777777778,
             "#fb9f3a"
            ],
            [
             0.8888888888888888,
             "#fdca26"
            ],
            [
             1,
             "#f0f921"
            ]
           ]
          },
          "colorway": [
           "#636efa",
           "#EF553B",
           "#00cc96",
           "#ab63fa",
           "#FFA15A",
           "#19d3f3",
           "#FF6692",
           "#B6E880",
           "#FF97FF",
           "#FECB52"
          ],
          "font": {
           "color": "#2a3f5f"
          },
          "geo": {
           "bgcolor": "white",
           "lakecolor": "white",
           "landcolor": "#E5ECF6",
           "showlakes": true,
           "showland": true,
           "subunitcolor": "white"
          },
          "hoverlabel": {
           "align": "left"
          },
          "hovermode": "closest",
          "mapbox": {
           "style": "light"
          },
          "paper_bgcolor": "white",
          "plot_bgcolor": "#E5ECF6",
          "polar": {
           "angularaxis": {
            "gridcolor": "white",
            "linecolor": "white",
            "ticks": ""
           },
           "bgcolor": "#E5ECF6",
           "radialaxis": {
            "gridcolor": "white",
            "linecolor": "white",
            "ticks": ""
           }
          },
          "scene": {
           "xaxis": {
            "backgroundcolor": "#E5ECF6",
            "gridcolor": "white",
            "gridwidth": 2,
            "linecolor": "white",
            "showbackground": true,
            "ticks": "",
            "zerolinecolor": "white"
           },
           "yaxis": {
            "backgroundcolor": "#E5ECF6",
            "gridcolor": "white",
            "gridwidth": 2,
            "linecolor": "white",
            "showbackground": true,
            "ticks": "",
            "zerolinecolor": "white"
           },
           "zaxis": {
            "backgroundcolor": "#E5ECF6",
            "gridcolor": "white",
            "gridwidth": 2,
            "linecolor": "white",
            "showbackground": true,
            "ticks": "",
            "zerolinecolor": "white"
           }
          },
          "shapedefaults": {
           "line": {
            "color": "#2a3f5f"
           }
          },
          "ternary": {
           "aaxis": {
            "gridcolor": "white",
            "linecolor": "white",
            "ticks": ""
           },
           "baxis": {
            "gridcolor": "white",
            "linecolor": "white",
            "ticks": ""
           },
           "bgcolor": "#E5ECF6",
           "caxis": {
            "gridcolor": "white",
            "linecolor": "white",
            "ticks": ""
           }
          },
          "title": {
           "x": 0.05
          },
          "xaxis": {
           "automargin": true,
           "gridcolor": "white",
           "linecolor": "white",
           "ticks": "",
           "title": {
            "standoff": 15
           },
           "zerolinecolor": "white",
           "zerolinewidth": 2
          },
          "yaxis": {
           "automargin": true,
           "gridcolor": "white",
           "linecolor": "white",
           "ticks": "",
           "title": {
            "standoff": 15
           },
           "zerolinecolor": "white",
           "zerolinewidth": 2
          }
         }
        },
        "title": {
         "font": {
          "color": "Black",
          "size": 22
         },
         "text": "<b>Similarity Matrix</b>",
         "x": 0.55,
         "xanchor": "center",
         "y": 0.95,
         "yanchor": "top"
        },
        "width": 800,
        "xaxis": {
         "anchor": "y",
         "constrain": "domain",
         "domain": [
          0,
          1
         ],
         "scaleanchor": "y"
        },
        "yaxis": {
         "anchor": "x",
         "autorange": "reversed",
         "constrain": "domain",
         "domain": [
          0,
          1
         ]
        }
       }
      }
     },
     "metadata": {},
     "output_type": "display_data"
    }
   ],
   "source": [
    "topic_model.visualize_heatmap()"
   ]
  },
  {
   "cell_type": "code",
   "execution_count": 21,
   "metadata": {},
   "outputs": [
    {
     "name": "stderr",
     "output_type": "stream",
     "text": [
      "100%|██████████| 41/41 [00:00<00:00, 246.75it/s]\n"
     ]
    },
    {
     "data": {
      "application/vnd.plotly.v1+json": {
       "config": {
        "plotlyServerURL": "https://plot.ly"
       },
       "data": [
        {
         "hoverinfo": "text",
         "marker": {
          "color": "rgb(61,153,112)"
         },
         "mode": "lines",
         "text": [
          "music_imagined network_network community_imagined network community_napster",
          "",
          "",
          "music_music industry_artist_industry_mobile internet"
         ],
         "type": "scatter",
         "x": [
          0,
          0.6748607588053795,
          0.6748607588053795,
          0
         ],
         "xaxis": "x",
         "y": [
          -5,
          -5,
          -15,
          -15
         ],
         "yaxis": "y"
        },
        {
         "hoverinfo": "text",
         "marker": {
          "color": "rgb(255,65,54)"
         },
         "mode": "lines",
         "text": [
          "emoney_bank_epurses_tax_payment",
          "",
          "",
          "article paper included_article paper_regarding article paper_commercial application internet_issue commercial application"
         ],
         "type": "scatter",
         "x": [
          0,
          0.7906932379007565,
          0.7906932379007565,
          0
         ],
         "xaxis": "x",
         "y": [
          -35,
          -35,
          -45,
          -45
         ],
         "yaxis": "y"
        },
        {
         "hoverinfo": "text",
         "marker": {
          "color": "rgb(255,65,54)"
         },
         "mode": "lines",
         "text": [
          "gifting_gift_tangible_tangible reciprocity_reciprocity",
          "",
          "",
          "emoney_bank_epurses_mark fox_editor mark"
         ],
         "type": "scatter",
         "x": [
          0,
          0.9269024765764036,
          0.9269024765764036,
          0.7906932379007565
         ],
         "xaxis": "x",
         "y": [
          -25,
          -25,
          -40,
          -40
         ],
         "yaxis": "y"
        },
        {
         "hoverinfo": "text",
         "marker": {
          "color": "rgb(255,65,54)"
         },
         "mode": "lines",
         "text": [
          "bb ecommerce_bb_business_internet business_ecommerce",
          "",
          "",
          "online news_news_dotcom_model_trade press"
         ],
         "type": "scatter",
         "x": [
          0,
          0.8794446314186326,
          0.8794446314186326,
          0
         ],
         "xaxis": "x",
         "y": [
          -55,
          -55,
          -65,
          -65
         ],
         "yaxis": "y"
        },
        {
         "hoverinfo": "text",
         "marker": {
          "color": "rgb(255,65,54)"
         },
         "mode": "lines",
         "text": [
          "gifting_emoney_gift_payment_bank",
          "",
          "",
          "online news_news_business_bb ecommerce_consumer"
         ],
         "type": "scatter",
         "x": [
          0.9269024765764036,
          0.995796750979508,
          0.995796750979508,
          0.8794446314186326
         ],
         "xaxis": "x",
         "y": [
          -32.5,
          -32.5,
          -60,
          -60
         ],
         "yaxis": "y"
        },
        {
         "hoverinfo": "text",
         "marker": {
          "color": "rgb(0,116,217)"
         },
         "mode": "lines",
         "text": [
          "music_music industry_imagined network_imagined network community_network community",
          "",
          "",
          "gifting_internet_emoney_business_online news"
         ],
         "type": "scatter",
         "x": [
          0.6748607588053795,
          1.107299861655107,
          1.107299861655107,
          0.995796750979508
         ],
         "xaxis": "x",
         "y": [
          -10,
          -10,
          -46.25,
          -46.25
         ],
         "yaxis": "y"
        },
        {
         "hoverinfo": "text",
         "marker": {
          "color": "rgb(35,205,205)"
         },
         "mode": "lines",
         "text": [
          "available available_available available available_available_none_",
          "",
          "",
          "telecommunication_moroccan_national telecommunication strategy_national telecommunication_telecommunication strategy"
         ],
         "type": "scatter",
         "x": [
          0,
          0.9978247210390686,
          0.9978247210390686,
          0
         ],
         "xaxis": "x",
         "y": [
          -75,
          -75,
          -85,
          -85
         ],
         "yaxis": "y"
        },
        {
         "hoverinfo": "text",
         "marker": {
          "color": "rgb(133,20,75)"
         },
         "mode": "lines",
         "text": [
          "subsaharan africa_subsaharan_oa_deposit_africa",
          "",
          "",
          "library_museum_journal_publishing_scholarly"
         ],
         "type": "scatter",
         "x": [
          0,
          0.7983549249811358,
          0.7983549249811358,
          0
         ],
         "xaxis": "x",
         "y": [
          -115,
          -115,
          -125,
          -125
         ],
         "yaxis": "y"
        },
        {
         "hoverinfo": "text",
         "marker": {
          "color": "rgb(133,20,75)"
         },
         "mode": "lines",
         "text": [
          "library_publishing_subsaharan africa_subsaharan_scholarly",
          "",
          "",
          "herbarium_plant_botanical_natural_natural history"
         ],
         "type": "scatter",
         "x": [
          0.7983549249811358,
          0.9183342565071245,
          0.9183342565071245,
          0
         ],
         "xaxis": "x",
         "y": [
          -120,
          -120,
          -135,
          -135
         ],
         "yaxis": "y"
        },
        {
         "hoverinfo": "text",
         "marker": {
          "color": "rgb(133,20,75)"
         },
         "mode": "lines",
         "text": [
          "law_access law_national legal_hash function_hash",
          "",
          "",
          "library_herbarium_plant_publishing_subsaharan africa"
         ],
         "type": "scatter",
         "x": [
          0,
          0.949350795892263,
          0.949350795892263,
          0.9183342565071245
         ],
         "xaxis": "x",
         "y": [
          -105,
          -105,
          -127.5,
          -127.5
         ],
         "yaxis": "y"
        },
        {
         "hoverinfo": "text",
         "marker": {
          "color": "rgb(133,20,75)"
         },
         "mode": "lines",
         "text": [
          "education_partnership_educational_africa_globalization",
          "",
          "",
          "library_access_open access_plant_herbarium"
         ],
         "type": "scatter",
         "x": [
          0,
          0.9640642214772044,
          0.9640642214772044,
          0.949350795892263
         ],
         "xaxis": "x",
         "y": [
          -95,
          -95,
          -116.25,
          -116.25
         ],
         "yaxis": "y"
        },
        {
         "hoverinfo": "text",
         "marker": {
          "color": "rgb(0,116,217)"
         },
         "mode": "lines",
         "text": [
          "available available_available available available_available_telecommunication_moroccan",
          "",
          "",
          "library_access_africa_open access_plant"
         ],
         "type": "scatter",
         "x": [
          0.9978247210390686,
          1.0576313939573923,
          1.0576313939573923,
          0.9640642214772044
         ],
         "xaxis": "x",
         "y": [
          -80,
          -80,
          -105.625,
          -105.625
         ],
         "yaxis": "y"
        },
        {
         "hoverinfo": "text",
         "marker": {
          "color": "rgb(255,220,0)"
         },
         "mode": "lines",
         "text": [
          "openness_oer_open_ocw_open content",
          "",
          "",
          "open source_floss_software_source_copyright"
         ],
         "type": "scatter",
         "x": [
          0,
          0.8097109814376746,
          0.8097109814376746,
          0
         ],
         "xaxis": "x",
         "y": [
          -145,
          -145,
          -155,
          -155
         ],
         "yaxis": "y"
        },
        {
         "hoverinfo": "text",
         "marker": {
          "color": "rgb(255,220,0)"
         },
         "mode": "lines",
         "text": [
          "open_open source_software_floss_source",
          "",
          "",
          "issue open source_special issue open_issue open_following commentary_commentary part"
         ],
         "type": "scatter",
         "x": [
          0.8097109814376746,
          0.9203114913827188,
          0.9203114913827188,
          0
         ],
         "xaxis": "x",
         "y": [
          -150,
          -150,
          -165,
          -165
         ],
         "yaxis": "y"
        },
        {
         "hoverinfo": "text",
         "marker": {
          "color": "rgb(0,116,217)"
         },
         "mode": "lines",
         "text": [
          "available available_available available available_library_access_africa",
          "",
          "",
          "open source_open_source_software_issue open source"
         ],
         "type": "scatter",
         "x": [
          1.0576313939573923,
          1.0748240441317922,
          1.0748240441317922,
          0.9203114913827188
         ],
         "xaxis": "x",
         "y": [
          -92.8125,
          -92.8125,
          -157.5,
          -157.5
         ],
         "yaxis": "y"
        },
        {
         "hoverinfo": "text",
         "marker": {
          "color": "rgb(40,35,35)"
         },
         "mode": "lines",
         "text": [
          "search_engine_search engine_query_web",
          "",
          "",
          "link_site_web_web site_internet archive"
         ],
         "type": "scatter",
         "x": [
          0,
          0.8467163832514766,
          0.8467163832514766,
          0
         ],
         "xaxis": "x",
         "y": [
          -175,
          -175,
          -185,
          -185
         ],
         "yaxis": "y"
        },
        {
         "hoverinfo": "text",
         "marker": {
          "color": "rgb(40,35,35)"
         },
         "mode": "lines",
         "text": [
          "web_search_engine_site_web site",
          "",
          "",
          "disability_accessibility_people disability_web_web accessibility"
         ],
         "type": "scatter",
         "x": [
          0.8467163832514766,
          0.8688266541772607,
          0.8688266541772607,
          0
         ],
         "xaxis": "x",
         "y": [
          -180,
          -180,
          -195,
          -195
         ],
         "yaxis": "y"
        },
        {
         "hoverinfo": "text",
         "marker": {
          "color": "rgb(0,116,217)"
         },
         "mode": "lines",
         "text": [
          "open_available available_open source_available available available_library",
          "",
          "",
          "web_web site_site_search_page"
         ],
         "type": "scatter",
         "x": [
          1.0748240441317922,
          1.1318091211101755,
          1.1318091211101755,
          0.8688266541772607
         ],
         "xaxis": "x",
         "y": [
          -125.15625,
          -125.15625,
          -187.5,
          -187.5
         ],
         "yaxis": "y"
        },
        {
         "hoverinfo": "text",
         "marker": {
          "color": "rgb(61,153,112)"
         },
         "mode": "lines",
         "text": [
          "video evidence_video_police_evidence_officer",
          "",
          "",
          "ai_intelligence_artificial_artificial intelligence_machine"
         ],
         "type": "scatter",
         "x": [
          0,
          0.9136457326076952,
          0.9136457326076952,
          0
         ],
         "xaxis": "x",
         "y": [
          -215,
          -215,
          -225,
          -225
         ],
         "yaxis": "y"
        },
        {
         "hoverinfo": "text",
         "marker": {
          "color": "rgb(61,153,112)"
         },
         "mode": "lines",
         "text": [
          "wikipedia_edits_research scholarship_wikipedias_credibility",
          "",
          "",
          "ai_video evidence_video_police_evidence"
         ],
         "type": "scatter",
         "x": [
          0,
          0.9581902392209104,
          0.9581902392209104,
          0.9136457326076952
         ],
         "xaxis": "x",
         "y": [
          -205,
          -205,
          -220,
          -220
         ],
         "yaxis": "y"
        },
        {
         "hoverinfo": "text",
         "marker": {
          "color": "rgb(61,153,112)"
         },
         "mode": "lines",
         "text": [
          "russia_russian_ukraine_runet_as",
          "",
          "",
          "protest_singapore_twitter_capital punishment_punishment"
         ],
         "type": "scatter",
         "x": [
          0,
          0.8894595188170354,
          0.8894595188170354,
          0
         ],
         "xaxis": "x",
         "y": [
          -235,
          -235,
          -245,
          -245
         ],
         "yaxis": "y"
        },
        {
         "hoverinfo": "text",
         "marker": {
          "color": "rgb(61,153,112)"
         },
         "mode": "lines",
         "text": [
          "pandemic_covid_covid pandemic_health_social",
          "",
          "",
          "student_internet_medium_political_rural"
         ],
         "type": "scatter",
         "x": [
          0,
          0.6691154354243605,
          0.6691154354243605,
          0
         ],
         "xaxis": "x",
         "y": [
          -255,
          -255,
          -265,
          -265
         ],
         "yaxis": "y"
        },
        {
         "hoverinfo": "text",
         "marker": {
          "color": "rgb(61,153,112)"
         },
         "mode": "lines",
         "text": [
          "pandemic_covid_social_covid pandemic_health",
          "",
          "",
          "privacy_poll_opinion_security_tm"
         ],
         "type": "scatter",
         "x": [
          0.6691154354243605,
          0.8601737654366705,
          0.8601737654366705,
          0
         ],
         "xaxis": "x",
         "y": [
          -260,
          -260,
          -275,
          -275
         ],
         "yaxis": "y"
        },
        {
         "hoverinfo": "text",
         "marker": {
          "color": "rgb(61,153,112)"
         },
         "mode": "lines",
         "text": [
          "protest_russia_russian_singapore_ukraine",
          "",
          "",
          "privacy_pandemic_covid_social_covid pandemic"
         ],
         "type": "scatter",
         "x": [
          0.8894595188170354,
          0.9209605017586154,
          0.9209605017586154,
          0.8601737654366705
         ],
         "xaxis": "x",
         "y": [
          -240,
          -240,
          -267.5,
          -267.5
         ],
         "yaxis": "y"
        },
        {
         "hoverinfo": "text",
         "marker": {
          "color": "rgb(61,153,112)"
         },
         "mode": "lines",
         "text": [
          "disaster_crisis_terrorist attack_emergency_attack",
          "",
          "",
          "information_information seeking_keeping_seeking_webtracker"
         ],
         "type": "scatter",
         "x": [
          0,
          0.9317980210993099,
          0.9317980210993099,
          0
         ],
         "xaxis": "x",
         "y": [
          -285,
          -285,
          -295,
          -295
         ],
         "yaxis": "y"
        },
        {
         "hoverinfo": "text",
         "marker": {
          "color": "rgb(61,153,112)"
         },
         "mode": "lines",
         "text": [
          "privacy_pandemic_protest_russia_russian",
          "",
          "",
          "information_disaster_information seeking_crisis_keeping"
         ],
         "type": "scatter",
         "x": [
          0.9209605017586154,
          0.970201199872663,
          0.970201199872663,
          0.9317980210993099
         ],
         "xaxis": "x",
         "y": [
          -253.75,
          -253.75,
          -290,
          -290
         ],
         "yaxis": "y"
        },
        {
         "hoverinfo": "text",
         "marker": {
          "color": "rgb(61,153,112)"
         },
         "mode": "lines",
         "text": [
          "ai_wikipedia_video evidence_video_police",
          "",
          "",
          "information_privacy_pandemic_protest_russia"
         ],
         "type": "scatter",
         "x": [
          0.9581902392209104,
          0.9931551888893445,
          0.9931551888893445,
          0.970201199872663
         ],
         "xaxis": "x",
         "y": [
          -212.5,
          -212.5,
          -271.875,
          -271.875
         ],
         "yaxis": "y"
        },
        {
         "hoverinfo": "text",
         "marker": {
          "color": "rgb(255,65,54)"
         },
         "mode": "lines",
         "text": [
          "intention_theory_predictive_smartphone_predictive power",
          "",
          "",
          "instagram_online impulse_marketing activity_online impulse buying_medium marketing activity"
         ],
         "type": "scatter",
         "x": [
          0,
          0.8836843271647915,
          0.8836843271647915,
          0
         ],
         "xaxis": "x",
         "y": [
          -305,
          -305,
          -315,
          -315
         ],
         "yaxis": "y"
        },
        {
         "hoverinfo": "text",
         "marker": {
          "color": "rgb(35,205,205)"
         },
         "mode": "lines",
         "text": [
          "queer_reading_queer reading_queerly_gender",
          "",
          "",
          "woman_computing_computing industry_gender_computer science"
         ],
         "type": "scatter",
         "x": [
          0,
          0.9006996620378886,
          0.9006996620378886,
          0
         ],
         "xaxis": "x",
         "y": [
          -325,
          -325,
          -335,
          -335
         ],
         "yaxis": "y"
        },
        {
         "hoverinfo": "text",
         "marker": {
          "color": "rgb(35,205,205)"
         },
         "mode": "lines",
         "text": [
          "shame_sexual_sharing_assault_abuse",
          "",
          "",
          "hiv_sex_hivaids_survivor_printout"
         ],
         "type": "scatter",
         "x": [
          0,
          0.9049854792071396,
          0.9049854792071396,
          0
         ],
         "xaxis": "x",
         "y": [
          -345,
          -345,
          -355,
          -355
         ],
         "yaxis": "y"
        },
        {
         "hoverinfo": "text",
         "marker": {
          "color": "rgb(35,205,205)"
         },
         "mode": "lines",
         "text": [
          "gender_woman_computing_queer_reading",
          "",
          "",
          "shame_hiv_sexual_sex_hivaids"
         ],
         "type": "scatter",
         "x": [
          0.9006996620378886,
          0.9570403986080536,
          0.9570403986080536,
          0.9049854792071396
         ],
         "xaxis": "x",
         "y": [
          -330,
          -330,
          -350,
          -350
         ],
         "yaxis": "y"
        },
        {
         "hoverinfo": "text",
         "marker": {
          "color": "rgb(61,153,112)"
         },
         "mode": "lines",
         "text": [
          "urban_screen_city_space_spatial",
          "",
          "",
          "world_virtual world_online world_vr_mmos"
         ],
         "type": "scatter",
         "x": [
          0,
          0.8942847287617166,
          0.8942847287617166,
          0
         ],
         "xaxis": "x",
         "y": [
          -365,
          -365,
          -375,
          -375
         ],
         "yaxis": "y"
        },
        {
         "hoverinfo": "text",
         "marker": {
          "color": "rgb(61,153,112)"
         },
         "mode": "lines",
         "text": [
          "game_racism_fifa_realism_videogames",
          "",
          "",
          "gambling_wellbeing_third place_online gambling_turkish woman"
         ],
         "type": "scatter",
         "x": [
          0,
          0.878768352701506,
          0.878768352701506,
          0
         ],
         "xaxis": "x",
         "y": [
          -385,
          -385,
          -395,
          -395
         ],
         "yaxis": "y"
        },
        {
         "hoverinfo": "text",
         "marker": {
          "color": "rgb(61,153,112)"
         },
         "mode": "lines",
         "text": [
          "urban_screen_space_city_world",
          "",
          "",
          "game_gambling_wellbeing_racism_player"
         ],
         "type": "scatter",
         "x": [
          0.8942847287617166,
          0.9214705471034634,
          0.9214705471034634,
          0.878768352701506
         ],
         "xaxis": "x",
         "y": [
          -370,
          -370,
          -390,
          -390
         ],
         "yaxis": "y"
        },
        {
         "hoverinfo": "text",
         "marker": {
          "color": "rgb(61,153,112)"
         },
         "mode": "lines",
         "text": [
          "youth_youth activist_civic_civic engagement_young adult",
          "",
          "",
          "childrens_child_social digital medium_social digital_caption"
         ],
         "type": "scatter",
         "x": [
          0,
          0.8998936474934727,
          0.8998936474934727,
          0
         ],
         "xaxis": "x",
         "y": [
          -405,
          -405,
          -415,
          -415
         ],
         "yaxis": "y"
        },
        {
         "hoverinfo": "text",
         "marker": {
          "color": "rgb(61,153,112)"
         },
         "mode": "lines",
         "text": [
          "game_urban_space_city_screen",
          "",
          "",
          "childrens_youth_child_digital medium_youth activist"
         ],
         "type": "scatter",
         "x": [
          0.9214705471034634,
          0.9926240010646314,
          0.9926240010646314,
          0.8998936474934727
         ],
         "xaxis": "x",
         "y": [
          -380,
          -380,
          -410,
          -410
         ],
         "yaxis": "y"
        },
        {
         "hoverinfo": "text",
         "marker": {
          "color": "rgb(0,116,217)"
         },
         "mode": "lines",
         "text": [
          "shame_woman_gender_hiv_queer",
          "",
          "",
          "game_youth_urban_childrens_child"
         ],
         "type": "scatter",
         "x": [
          0.9570403986080536,
          1.011366590292266,
          1.011366590292266,
          0.9926240010646314
         ],
         "xaxis": "x",
         "y": [
          -340,
          -340,
          -395,
          -395
         ],
         "yaxis": "y"
        },
        {
         "hoverinfo": "text",
         "marker": {
          "color": "rgb(0,116,217)"
         },
         "mode": "lines",
         "text": [
          "instagram_intention_theory_predictive_smartphone",
          "",
          "",
          "game_woman_youth_space_shame"
         ],
         "type": "scatter",
         "x": [
          0.8836843271647915,
          1.0251129937633388,
          1.0251129937633388,
          1.011366590292266
         ],
         "xaxis": "x",
         "y": [
          -310,
          -310,
          -367.5,
          -367.5
         ],
         "yaxis": "y"
        },
        {
         "hoverinfo": "text",
         "marker": {
          "color": "rgb(0,116,217)"
         },
         "mode": "lines",
         "text": [
          "information_ai_privacy_wikipedia_pandemic",
          "",
          "",
          "game_woman_medium_space_youth"
         ],
         "type": "scatter",
         "x": [
          0.9931551888893445,
          1.0357985678090915,
          1.0357985678090915,
          1.0251129937633388
         ],
         "xaxis": "x",
         "y": [
          -242.1875,
          -242.1875,
          -338.75,
          -338.75
         ],
         "yaxis": "y"
        },
        {
         "hoverinfo": "text",
         "marker": {
          "color": "rgb(0,116,217)"
         },
         "mode": "lines",
         "text": [
          "open_web_available available_open source_access",
          "",
          "",
          "medium_social_game_information_study"
         ],
         "type": "scatter",
         "x": [
          1.1318091211101755,
          1.182430300073172,
          1.182430300073172,
          1.0357985678090915
         ],
         "xaxis": "x",
         "y": [
          -156.328125,
          -156.328125,
          -290.46875,
          -290.46875
         ],
         "yaxis": "y"
        },
        {
         "hoverinfo": "text",
         "marker": {
          "color": "rgb(0,116,217)"
         },
         "mode": "lines",
         "text": [
          "music_internet_gifting_business_emoney",
          "",
          "",
          "information_social_medium_open_digital"
         ],
         "type": "scatter",
         "x": [
          1.107299861655107,
          1.2557936399053573,
          1.2557936399053573,
          1.182430300073172
         ],
         "xaxis": "x",
         "y": [
          -28.125,
          -28.125,
          -223.3984375,
          -223.3984375
         ],
         "yaxis": "y"
        },
        {
         "hoverinfo": "text",
         "hovertext": [
          "gifting_emoney_gift_payment_bank",
          "music_music industry_imagined network_imagined network community_network community",
          "library_publishing_subsaharan africa_subsaharan_scholarly",
          "available available_available available available_available_telecommunication_moroccan",
          "open_open source_software_floss_source",
          "available available_available available available_library_access_africa",
          "web_search_engine_site_web site",
          "open_available available_open source_available available available_library",
          "pandemic_covid_social_covid pandemic_health",
          "protest_russia_russian_singapore_ukraine",
          "privacy_pandemic_protest_russia_russian",
          "ai_wikipedia_video evidence_video_police",
          "gender_woman_computing_queer_reading",
          "urban_screen_space_city_world",
          "game_urban_space_city_screen",
          "shame_woman_gender_hiv_queer",
          "instagram_intention_theory_predictive_smartphone",
          "information_ai_privacy_wikipedia_pandemic",
          "open_web_available available_open source_access",
          "music_internet_gifting_business_emoney"
         ],
         "marker": {
          "color": "black"
         },
         "mode": "markers",
         "showlegend": false,
         "type": "scatter",
         "x": [
          0.9269024765764036,
          0.6748607588053795,
          0.7983549249811358,
          0.9978247210390686,
          0.8097109814376746,
          1.0576313939573923,
          0.8467163832514766,
          1.0748240441317922,
          0.6691154354243605,
          0.8894595188170354,
          0.9209605017586154,
          0.9581902392209104,
          0.9006996620378886,
          0.8942847287617166,
          0.9214705471034634,
          0.9570403986080536,
          0.8836843271647915,
          0.9931551888893445,
          1.1318091211101755,
          1.107299861655107
         ],
         "y": [
          -32.5,
          -10,
          -120,
          -80,
          -150,
          -92.8125,
          -180,
          -125.15625,
          -260,
          -240,
          -253.75,
          -212.5,
          -330,
          -370,
          -380,
          -340,
          -310,
          -242.1875,
          -156.328125,
          -28.125
         ]
        },
        {
         "hoverinfo": "text",
         "hovertext": [
          "emoney_bank_epurses_mark fox_editor mark",
          "online news_news_business_bb ecommerce_consumer",
          "gifting_internet_emoney_business_online news",
          "library_herbarium_plant_publishing_subsaharan africa",
          "library_access_open access_plant_herbarium",
          "library_access_africa_open access_plant",
          "open source_open_source_software_issue open source",
          "web_web site_site_search_page",
          "ai_video evidence_video_police_evidence",
          "privacy_pandemic_covid_social_covid pandemic",
          "information_disaster_information seeking_crisis_keeping",
          "information_privacy_pandemic_protest_russia",
          "shame_hiv_sexual_sex_hivaids",
          "game_gambling_wellbeing_racism_player",
          "childrens_youth_child_digital medium_youth activist",
          "game_youth_urban_childrens_child",
          "game_woman_youth_space_shame",
          "game_woman_medium_space_youth",
          "medium_social_game_information_study",
          "information_social_medium_open_digital"
         ],
         "marker": {
          "color": "black"
         },
         "mode": "markers",
         "showlegend": false,
         "type": "scatter",
         "x": [
          0.7906932379007565,
          0.8794446314186326,
          0.995796750979508,
          0.9183342565071245,
          0.949350795892263,
          0.9640642214772044,
          0.9203114913827188,
          0.8688266541772607,
          0.9136457326076952,
          0.8601737654366705,
          0.9317980210993099,
          0.970201199872663,
          0.9049854792071396,
          0.878768352701506,
          0.8998936474934727,
          0.9926240010646314,
          1.011366590292266,
          1.0251129937633388,
          1.0357985678090915,
          1.182430300073172
         ],
         "y": [
          -40,
          -60,
          -46.25,
          -127.5,
          -116.25,
          -105.625,
          -157.5,
          -187.5,
          -220,
          -267.5,
          -290,
          -271.875,
          -350,
          -390,
          -410,
          -395,
          -367.5,
          -338.75,
          -290.46875,
          -223.3984375
         ]
        }
       ],
       "layout": {
        "autosize": false,
        "height": 830,
        "hoverlabel": {
         "bgcolor": "white",
         "font": {
          "family": "Rockwell",
          "size": 16
         }
        },
        "hovermode": "closest",
        "plot_bgcolor": "#ECEFF1",
        "showlegend": false,
        "template": {
         "data": {
          "bar": [
           {
            "error_x": {
             "color": "#2a3f5f"
            },
            "error_y": {
             "color": "#2a3f5f"
            },
            "marker": {
             "line": {
              "color": "white",
              "width": 0.5
             },
             "pattern": {
              "fillmode": "overlay",
              "size": 10,
              "solidity": 0.2
             }
            },
            "type": "bar"
           }
          ],
          "barpolar": [
           {
            "marker": {
             "line": {
              "color": "white",
              "width": 0.5
             },
             "pattern": {
              "fillmode": "overlay",
              "size": 10,
              "solidity": 0.2
             }
            },
            "type": "barpolar"
           }
          ],
          "carpet": [
           {
            "aaxis": {
             "endlinecolor": "#2a3f5f",
             "gridcolor": "#C8D4E3",
             "linecolor": "#C8D4E3",
             "minorgridcolor": "#C8D4E3",
             "startlinecolor": "#2a3f5f"
            },
            "baxis": {
             "endlinecolor": "#2a3f5f",
             "gridcolor": "#C8D4E3",
             "linecolor": "#C8D4E3",
             "minorgridcolor": "#C8D4E3",
             "startlinecolor": "#2a3f5f"
            },
            "type": "carpet"
           }
          ],
          "choropleth": [
           {
            "colorbar": {
             "outlinewidth": 0,
             "ticks": ""
            },
            "type": "choropleth"
           }
          ],
          "contour": [
           {
            "colorbar": {
             "outlinewidth": 0,
             "ticks": ""
            },
            "colorscale": [
             [
              0,
              "#0d0887"
             ],
             [
              0.1111111111111111,
              "#46039f"
             ],
             [
              0.2222222222222222,
              "#7201a8"
             ],
             [
              0.3333333333333333,
              "#9c179e"
             ],
             [
              0.4444444444444444,
              "#bd3786"
             ],
             [
              0.5555555555555556,
              "#d8576b"
             ],
             [
              0.6666666666666666,
              "#ed7953"
             ],
             [
              0.7777777777777778,
              "#fb9f3a"
             ],
             [
              0.8888888888888888,
              "#fdca26"
             ],
             [
              1,
              "#f0f921"
             ]
            ],
            "type": "contour"
           }
          ],
          "contourcarpet": [
           {
            "colorbar": {
             "outlinewidth": 0,
             "ticks": ""
            },
            "type": "contourcarpet"
           }
          ],
          "heatmap": [
           {
            "colorbar": {
             "outlinewidth": 0,
             "ticks": ""
            },
            "colorscale": [
             [
              0,
              "#0d0887"
             ],
             [
              0.1111111111111111,
              "#46039f"
             ],
             [
              0.2222222222222222,
              "#7201a8"
             ],
             [
              0.3333333333333333,
              "#9c179e"
             ],
             [
              0.4444444444444444,
              "#bd3786"
             ],
             [
              0.5555555555555556,
              "#d8576b"
             ],
             [
              0.6666666666666666,
              "#ed7953"
             ],
             [
              0.7777777777777778,
              "#fb9f3a"
             ],
             [
              0.8888888888888888,
              "#fdca26"
             ],
             [
              1,
              "#f0f921"
             ]
            ],
            "type": "heatmap"
           }
          ],
          "heatmapgl": [
           {
            "colorbar": {
             "outlinewidth": 0,
             "ticks": ""
            },
            "colorscale": [
             [
              0,
              "#0d0887"
             ],
             [
              0.1111111111111111,
              "#46039f"
             ],
             [
              0.2222222222222222,
              "#7201a8"
             ],
             [
              0.3333333333333333,
              "#9c179e"
             ],
             [
              0.4444444444444444,
              "#bd3786"
             ],
             [
              0.5555555555555556,
              "#d8576b"
             ],
             [
              0.6666666666666666,
              "#ed7953"
             ],
             [
              0.7777777777777778,
              "#fb9f3a"
             ],
             [
              0.8888888888888888,
              "#fdca26"
             ],
             [
              1,
              "#f0f921"
             ]
            ],
            "type": "heatmapgl"
           }
          ],
          "histogram": [
           {
            "marker": {
             "pattern": {
              "fillmode": "overlay",
              "size": 10,
              "solidity": 0.2
             }
            },
            "type": "histogram"
           }
          ],
          "histogram2d": [
           {
            "colorbar": {
             "outlinewidth": 0,
             "ticks": ""
            },
            "colorscale": [
             [
              0,
              "#0d0887"
             ],
             [
              0.1111111111111111,
              "#46039f"
             ],
             [
              0.2222222222222222,
              "#7201a8"
             ],
             [
              0.3333333333333333,
              "#9c179e"
             ],
             [
              0.4444444444444444,
              "#bd3786"
             ],
             [
              0.5555555555555556,
              "#d8576b"
             ],
             [
              0.6666666666666666,
              "#ed7953"
             ],
             [
              0.7777777777777778,
              "#fb9f3a"
             ],
             [
              0.8888888888888888,
              "#fdca26"
             ],
             [
              1,
              "#f0f921"
             ]
            ],
            "type": "histogram2d"
           }
          ],
          "histogram2dcontour": [
           {
            "colorbar": {
             "outlinewidth": 0,
             "ticks": ""
            },
            "colorscale": [
             [
              0,
              "#0d0887"
             ],
             [
              0.1111111111111111,
              "#46039f"
             ],
             [
              0.2222222222222222,
              "#7201a8"
             ],
             [
              0.3333333333333333,
              "#9c179e"
             ],
             [
              0.4444444444444444,
              "#bd3786"
             ],
             [
              0.5555555555555556,
              "#d8576b"
             ],
             [
              0.6666666666666666,
              "#ed7953"
             ],
             [
              0.7777777777777778,
              "#fb9f3a"
             ],
             [
              0.8888888888888888,
              "#fdca26"
             ],
             [
              1,
              "#f0f921"
             ]
            ],
            "type": "histogram2dcontour"
           }
          ],
          "mesh3d": [
           {
            "colorbar": {
             "outlinewidth": 0,
             "ticks": ""
            },
            "type": "mesh3d"
           }
          ],
          "parcoords": [
           {
            "line": {
             "colorbar": {
              "outlinewidth": 0,
              "ticks": ""
             }
            },
            "type": "parcoords"
           }
          ],
          "pie": [
           {
            "automargin": true,
            "type": "pie"
           }
          ],
          "scatter": [
           {
            "fillpattern": {
             "fillmode": "overlay",
             "size": 10,
             "solidity": 0.2
            },
            "type": "scatter"
           }
          ],
          "scatter3d": [
           {
            "line": {
             "colorbar": {
              "outlinewidth": 0,
              "ticks": ""
             }
            },
            "marker": {
             "colorbar": {
              "outlinewidth": 0,
              "ticks": ""
             }
            },
            "type": "scatter3d"
           }
          ],
          "scattercarpet": [
           {
            "marker": {
             "colorbar": {
              "outlinewidth": 0,
              "ticks": ""
             }
            },
            "type": "scattercarpet"
           }
          ],
          "scattergeo": [
           {
            "marker": {
             "colorbar": {
              "outlinewidth": 0,
              "ticks": ""
             }
            },
            "type": "scattergeo"
           }
          ],
          "scattergl": [
           {
            "marker": {
             "colorbar": {
              "outlinewidth": 0,
              "ticks": ""
             }
            },
            "type": "scattergl"
           }
          ],
          "scattermapbox": [
           {
            "marker": {
             "colorbar": {
              "outlinewidth": 0,
              "ticks": ""
             }
            },
            "type": "scattermapbox"
           }
          ],
          "scatterpolar": [
           {
            "marker": {
             "colorbar": {
              "outlinewidth": 0,
              "ticks": ""
             }
            },
            "type": "scatterpolar"
           }
          ],
          "scatterpolargl": [
           {
            "marker": {
             "colorbar": {
              "outlinewidth": 0,
              "ticks": ""
             }
            },
            "type": "scatterpolargl"
           }
          ],
          "scatterternary": [
           {
            "marker": {
             "colorbar": {
              "outlinewidth": 0,
              "ticks": ""
             }
            },
            "type": "scatterternary"
           }
          ],
          "surface": [
           {
            "colorbar": {
             "outlinewidth": 0,
             "ticks": ""
            },
            "colorscale": [
             [
              0,
              "#0d0887"
             ],
             [
              0.1111111111111111,
              "#46039f"
             ],
             [
              0.2222222222222222,
              "#7201a8"
             ],
             [
              0.3333333333333333,
              "#9c179e"
             ],
             [
              0.4444444444444444,
              "#bd3786"
             ],
             [
              0.5555555555555556,
              "#d8576b"
             ],
             [
              0.6666666666666666,
              "#ed7953"
             ],
             [
              0.7777777777777778,
              "#fb9f3a"
             ],
             [
              0.8888888888888888,
              "#fdca26"
             ],
             [
              1,
              "#f0f921"
             ]
            ],
            "type": "surface"
           }
          ],
          "table": [
           {
            "cells": {
             "fill": {
              "color": "#EBF0F8"
             },
             "line": {
              "color": "white"
             }
            },
            "header": {
             "fill": {
              "color": "#C8D4E3"
             },
             "line": {
              "color": "white"
             }
            },
            "type": "table"
           }
          ]
         },
         "layout": {
          "annotationdefaults": {
           "arrowcolor": "#2a3f5f",
           "arrowhead": 0,
           "arrowwidth": 1
          },
          "autotypenumbers": "strict",
          "coloraxis": {
           "colorbar": {
            "outlinewidth": 0,
            "ticks": ""
           }
          },
          "colorscale": {
           "diverging": [
            [
             0,
             "#8e0152"
            ],
            [
             0.1,
             "#c51b7d"
            ],
            [
             0.2,
             "#de77ae"
            ],
            [
             0.3,
             "#f1b6da"
            ],
            [
             0.4,
             "#fde0ef"
            ],
            [
             0.5,
             "#f7f7f7"
            ],
            [
             0.6,
             "#e6f5d0"
            ],
            [
             0.7,
             "#b8e186"
            ],
            [
             0.8,
             "#7fbc41"
            ],
            [
             0.9,
             "#4d9221"
            ],
            [
             1,
             "#276419"
            ]
           ],
           "sequential": [
            [
             0,
             "#0d0887"
            ],
            [
             0.1111111111111111,
             "#46039f"
            ],
            [
             0.2222222222222222,
             "#7201a8"
            ],
            [
             0.3333333333333333,
             "#9c179e"
            ],
            [
             0.4444444444444444,
             "#bd3786"
            ],
            [
             0.5555555555555556,
             "#d8576b"
            ],
            [
             0.6666666666666666,
             "#ed7953"
            ],
            [
             0.7777777777777778,
             "#fb9f3a"
            ],
            [
             0.8888888888888888,
             "#fdca26"
            ],
            [
             1,
             "#f0f921"
            ]
           ],
           "sequentialminus": [
            [
             0,
             "#0d0887"
            ],
            [
             0.1111111111111111,
             "#46039f"
            ],
            [
             0.2222222222222222,
             "#7201a8"
            ],
            [
             0.3333333333333333,
             "#9c179e"
            ],
            [
             0.4444444444444444,
             "#bd3786"
            ],
            [
             0.5555555555555556,
             "#d8576b"
            ],
            [
             0.6666666666666666,
             "#ed7953"
            ],
            [
             0.7777777777777778,
             "#fb9f3a"
            ],
            [
             0.8888888888888888,
             "#fdca26"
            ],
            [
             1,
             "#f0f921"
            ]
           ]
          },
          "colorway": [
           "#636efa",
           "#EF553B",
           "#00cc96",
           "#ab63fa",
           "#FFA15A",
           "#19d3f3",
           "#FF6692",
           "#B6E880",
           "#FF97FF",
           "#FECB52"
          ],
          "font": {
           "color": "#2a3f5f"
          },
          "geo": {
           "bgcolor": "white",
           "lakecolor": "white",
           "landcolor": "white",
           "showlakes": true,
           "showland": true,
           "subunitcolor": "#C8D4E3"
          },
          "hoverlabel": {
           "align": "left"
          },
          "hovermode": "closest",
          "mapbox": {
           "style": "light"
          },
          "paper_bgcolor": "white",
          "plot_bgcolor": "white",
          "polar": {
           "angularaxis": {
            "gridcolor": "#EBF0F8",
            "linecolor": "#EBF0F8",
            "ticks": ""
           },
           "bgcolor": "white",
           "radialaxis": {
            "gridcolor": "#EBF0F8",
            "linecolor": "#EBF0F8",
            "ticks": ""
           }
          },
          "scene": {
           "xaxis": {
            "backgroundcolor": "white",
            "gridcolor": "#DFE8F3",
            "gridwidth": 2,
            "linecolor": "#EBF0F8",
            "showbackground": true,
            "ticks": "",
            "zerolinecolor": "#EBF0F8"
           },
           "yaxis": {
            "backgroundcolor": "white",
            "gridcolor": "#DFE8F3",
            "gridwidth": 2,
            "linecolor": "#EBF0F8",
            "showbackground": true,
            "ticks": "",
            "zerolinecolor": "#EBF0F8"
           },
           "zaxis": {
            "backgroundcolor": "white",
            "gridcolor": "#DFE8F3",
            "gridwidth": 2,
            "linecolor": "#EBF0F8",
            "showbackground": true,
            "ticks": "",
            "zerolinecolor": "#EBF0F8"
           }
          },
          "shapedefaults": {
           "line": {
            "color": "#2a3f5f"
           }
          },
          "ternary": {
           "aaxis": {
            "gridcolor": "#DFE8F3",
            "linecolor": "#A2B1C6",
            "ticks": ""
           },
           "baxis": {
            "gridcolor": "#DFE8F3",
            "linecolor": "#A2B1C6",
            "ticks": ""
           },
           "bgcolor": "white",
           "caxis": {
            "gridcolor": "#DFE8F3",
            "linecolor": "#A2B1C6",
            "ticks": ""
           }
          },
          "title": {
           "x": 0.05
          },
          "xaxis": {
           "automargin": true,
           "gridcolor": "#EBF0F8",
           "linecolor": "#EBF0F8",
           "ticks": "",
           "title": {
            "standoff": 15
           },
           "zerolinecolor": "#EBF0F8",
           "zerolinewidth": 2
          },
          "yaxis": {
           "automargin": true,
           "gridcolor": "#EBF0F8",
           "linecolor": "#EBF0F8",
           "ticks": "",
           "title": {
            "standoff": 15
           },
           "zerolinecolor": "#EBF0F8",
           "zerolinewidth": 2
          }
         }
        },
        "title": {
         "font": {
          "color": "Black",
          "size": 22
         },
         "text": "<b>Hierarchical Clustering</b>",
         "x": 0.5,
         "xanchor": "center",
         "yanchor": "top"
        },
        "width": 1000,
        "xaxis": {
         "mirror": "allticks",
         "rangemode": "tozero",
         "showgrid": false,
         "showline": true,
         "showticklabels": true,
         "ticks": "outside",
         "type": "linear",
         "zeroline": false
        },
        "yaxis": {
         "mirror": "allticks",
         "range": [
          -420,
          0
         ],
         "rangemode": "tozero",
         "showgrid": false,
         "showline": true,
         "showticklabels": true,
         "tickmode": "array",
         "ticks": "outside",
         "ticktext": [
          "20_music_imagined network_n...",
          "8_music_music industry_artist",
          "12_gifting_gift_tangible",
          "15_emoney_bank_epurses",
          "30_article paper included_a...",
          "5_bb ecommerce_bb_business",
          "18_online news_news_dotcom",
          "13_available available_avai...",
          "25_telecommunication_morocc...",
          "32_education_partnership_ed...",
          "29_law_access law_national ...",
          "40_subsaharan africa_subsah...",
          "1_library_museum_journal",
          "34_herbarium_plant_botanical",
          "17_openness_oer_open",
          "2_open source_floss_software",
          "22_issue open source_specia...",
          "4_search_engine_search engine",
          "26_link_site_web",
          "24_disability_accessibility...",
          "28_wikipedia_edits_research...",
          "31_video evidence_video_pol...",
          "9_ai_intelligence_artificial",
          "11_russia_russian_ukraine",
          "39_protest_singapore_twitter",
          "3_pandemic_covid_covid pand...",
          "0_student_internet_medium",
          "7_privacy_poll_opinion",
          "36_disaster_crisis_terroris...",
          "37_information_information ...",
          "27_intention_theory_predict...",
          "16_instagram_online impulse...",
          "41_queer_reading_queer read...",
          "23_woman_computing_computin...",
          "10_shame_sexual_sharing",
          "19_hiv_sex_hivaids",
          "6_urban_screen_city",
          "21_world_virtual world_onli...",
          "38_game_racism_fifa",
          "14_gambling_wellbeing_third...",
          "33_youth_youth activist_civic",
          "35_childrens_child_social d..."
         ],
         "tickvals": [
          -5,
          -15,
          -25,
          -35,
          -45,
          -55,
          -65,
          -75,
          -85,
          -95,
          -105,
          -115,
          -125,
          -135,
          -145,
          -155,
          -165,
          -175,
          -185,
          -195,
          -205,
          -215,
          -225,
          -235,
          -245,
          -255,
          -265,
          -275,
          -285,
          -295,
          -305,
          -315,
          -325,
          -335,
          -345,
          -355,
          -365,
          -375,
          -385,
          -395,
          -405,
          -415
         ],
         "type": "linear",
         "zeroline": false
        }
       }
      }
     },
     "metadata": {},
     "output_type": "display_data"
    },
    {
     "ename": "TypeError",
     "evalue": "BERTopic.reduce_topics() got an unexpected keyword argument 'documents'",
     "output_type": "error",
     "traceback": [
      "\u001b[1;31m---------------------------------------------------------------------------\u001b[0m",
      "\u001b[1;31mTypeError\u001b[0m                                 Traceback (most recent call last)",
      "Cell \u001b[1;32mIn[21], line 17\u001b[0m\n\u001b[0;32m     12\u001b[0m fig\u001b[38;5;241m.\u001b[39mshow()\n\u001b[0;32m     14\u001b[0m \u001b[38;5;66;03m# 3. Merge/Reduce topics using 'reduce_topics' rather than 'merge_topics'\u001b[39;00m\n\u001b[0;32m     15\u001b[0m \u001b[38;5;66;03m#    'reduce_topics()' merges topics down to a specified 'nr_topics'\u001b[39;00m\n\u001b[0;32m     16\u001b[0m \u001b[38;5;66;03m#    without requiring hierarchical_topics parameter.\u001b[39;00m\n\u001b[1;32m---> 17\u001b[0m new_topics, new_probs \u001b[38;5;241m=\u001b[39m \u001b[43mtopic_model\u001b[49m\u001b[38;5;241;43m.\u001b[39;49m\u001b[43mreduce_topics\u001b[49m\u001b[43m(\u001b[49m\n\u001b[0;32m     18\u001b[0m \u001b[43m    \u001b[49m\u001b[43mdocuments\u001b[49m\u001b[38;5;241;43m=\u001b[39;49m\u001b[43mabstracts\u001b[49m\u001b[43m,\u001b[49m\n\u001b[0;32m     19\u001b[0m \u001b[43m    \u001b[49m\u001b[43mprobabilities\u001b[49m\u001b[38;5;241;43m=\u001b[39;49m\u001b[43mprobabilities\u001b[49m\u001b[43m,\u001b[49m\u001b[43m  \u001b[49m\u001b[38;5;66;43;03m# ensure you have 'probabilities' from fit_transform\u001b[39;49;00m\n\u001b[0;32m     20\u001b[0m \u001b[43m    \u001b[49m\u001b[43mnr_topics\u001b[49m\u001b[38;5;241;43m=\u001b[39;49m\u001b[38;5;241;43m10\u001b[39;49m\u001b[43m                  \u001b[49m\u001b[38;5;66;43;03m# change this number to the desired final topics\u001b[39;49;00m\n\u001b[0;32m     21\u001b[0m \u001b[43m)\u001b[49m\n\u001b[0;32m     23\u001b[0m \u001b[38;5;66;03m# 4. See the updated topics\u001b[39;00m\n\u001b[0;32m     24\u001b[0m merged_info \u001b[38;5;241m=\u001b[39m topic_model\u001b[38;5;241m.\u001b[39mget_topic_info()\n",
      "\u001b[1;31mTypeError\u001b[0m: BERTopic.reduce_topics() got an unexpected keyword argument 'documents'"
     ]
    }
   ],
   "source": [
    "# -------------------------------\n",
    "# Single-cell example (compatible with older BERTopic):\n",
    "# Generating & Visualizing Hierarchical Topics, then Reducing Topic Count\n",
    "# -------------------------------\n",
    "import plotly.io as pio\n",
    "\n",
    "# 1. Generate hierarchical topics (for visualization only in older versions)\n",
    "hierarchical_topics = topic_model.hierarchical_topics(abstracts)\n",
    "\n",
    "# 2. Visualize the topic hierarchy\n",
    "fig = topic_model.visualize_hierarchy(hierarchical_topics=hierarchical_topics)\n",
    "fig.show()\n",
    "\n",
    "# 3. Merge/Reduce topics using 'reduce_topics' rather than 'merge_topics'\n",
    "#    'reduce_topics()' merges topics down to a specified 'nr_topics'\n",
    "#    without requiring hierarchical_topics parameter.\n",
    "new_topics, new_probs = topic_model.reduce_topics(\n",
    "    documents=abstracts,\n",
    "    probabilities=probabilities,  # ensure you have 'probabilities' from fit_transform\n",
    "    nr_topics=10                  # change this number to the desired final topics\n",
    ")\n",
    "\n",
    "# 4. See the updated topics\n",
    "merged_info = topic_model.get_topic_info()\n",
    "print(merged_info[[\"Topic\", \"Count\", \"Name\", \"Representation\"]])\n"
   ]
  }
 ],
 "metadata": {
  "kernelspec": {
   "display_name": "base",
   "language": "python",
   "name": "python3"
  },
  "language_info": {
   "codemirror_mode": {
    "name": "ipython",
    "version": 3
   },
   "file_extension": ".py",
   "mimetype": "text/x-python",
   "name": "python",
   "nbconvert_exporter": "python",
   "pygments_lexer": "ipython3",
   "version": "3.11.4"
  }
 },
 "nbformat": 4,
 "nbformat_minor": 2
}
